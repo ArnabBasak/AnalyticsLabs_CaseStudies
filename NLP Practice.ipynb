{
 "cells": [
  {
   "cell_type": "markdown",
   "metadata": {},
   "source": [
    "<h1> This is a NLP Tutorial Practice</h1>"
   ]
  },
  {
   "cell_type": "code",
   "execution_count": 1,
   "metadata": {},
   "outputs": [],
   "source": [
    "from textblob import TextBlob"
   ]
  },
  {
   "cell_type": "markdown",
   "metadata": {},
   "source": [
    "<b> Text Auto correction in python </b><br>\n",
    "here we will inssert a statement with incorrect spelling and then it will auto correct it with its method"
   ]
  },
  {
   "cell_type": "code",
   "execution_count": 2,
   "metadata": {},
   "outputs": [
    {
     "name": "stdout",
     "output_type": "stream",
     "text": [
      "Text before correction\n",
      "he is a gerta Preson\n",
      "\n",
      "Text after correction\n",
      "he is a great Reason\n"
     ]
    }
   ],
   "source": [
    "text = TextBlob(\"he is a gerta Preson\")\n",
    "print('Text before correction')\n",
    "print(text)\n",
    "print()\n",
    "print('Text after correction')\n",
    "print(text.correct())"
   ]
  },
  {
   "cell_type": "markdown",
   "metadata": {},
   "source": [
    "<b> CHAT BOT EXAMPLE</b>"
   ]
  },
  {
   "cell_type": "code",
   "execution_count": 3,
   "metadata": {},
   "outputs": [
    {
     "name": "stdout",
     "output_type": "stream",
     "text": [
      "[nltk_data] Downloading package stopwords to /home/arnab/nltk_data...\n",
      "[nltk_data]   Package stopwords is already up-to-date!\n",
      "[nltk_data] Downloading package averaged_perceptron_tagger to\n",
      "[nltk_data]     /home/arnab/nltk_data...\n",
      "[nltk_data]   Package averaged_perceptron_tagger is already up-to-\n",
      "[nltk_data]       date!\n",
      "List Trainer: [####################] 100%\n",
      "Chatbot : hello\n",
      "ChatBot : Bye\n"
     ]
    }
   ],
   "source": [
    "from chatterbot.trainers import ListTrainer\n",
    "from chatterbot import ChatBot\n",
    "bot = ChatBot('Test')\n",
    "conv = open('chats.txt','r').readlines()\n",
    "trainer = ListTrainer(bot)\n",
    "trainer.train(conv)\n",
    "while True:\n",
    "    request = input(\"you: \")\n",
    "    if request.strip() != 'Bye':\n",
    "        response = bot.get_response(request)\n",
    "        print('Chatbot :',response)\n",
    "    if request.strip() =='Bye':\n",
    "        print('ChatBot : Bye')\n",
    "        break"
   ]
  },
  {
   "cell_type": "markdown",
   "metadata": {},
   "source": [
    "<b> Language Detection </b>"
   ]
  },
  {
   "cell_type": "code",
   "execution_count": 4,
   "metadata": {},
   "outputs": [
    {
     "name": "stdout",
     "output_type": "stream",
     "text": [
      "en\n",
      "english\n"
     ]
    }
   ],
   "source": [
    "word1 = TextBlob('Hello')\n",
    "z = word1.detect_language()\n",
    "print(z)\n",
    "if z == 'en':\n",
    "    print('english')"
   ]
  },
  {
   "cell_type": "code",
   "execution_count": 35,
   "metadata": {},
   "outputs": [
    {
     "name": "stdout",
     "output_type": "stream",
     "text": [
      "hi\n",
      "Hindi\n"
     ]
    }
   ],
   "source": [
    "# - *- coding: utf- 8 - *-\n",
    "word2 = TextBlob('नमस्ते')\n",
    "convert = word2.detect_language()\n",
    "print(convert)\n",
    "if convert == 'hi':\n",
    "    print('Hindi')"
   ]
  },
  {
   "cell_type": "code",
   "execution_count": 5,
   "metadata": {},
   "outputs": [
    {
     "name": "stdout",
     "output_type": "stream",
     "text": [
      "bn\n",
      "Bengali\n"
     ]
    }
   ],
   "source": [
    "word3 = TextBlob('হ্যালো')\n",
    "z = word3.detect_language()\n",
    "print(z)\n",
    "if z == 'bn':\n",
    "    print('Bengali')"
   ]
  },
  {
   "cell_type": "markdown",
   "metadata": {},
   "source": [
    "<b> Convert one language to another language </b>"
   ]
  },
  {
   "cell_type": "code",
   "execution_count": 7,
   "metadata": {},
   "outputs": [
    {
     "name": "stdout",
     "output_type": "stream",
     "text": [
      "converting english hello to bengali\n",
      "হ্যালো\n"
     ]
    }
   ],
   "source": [
    "english_word = TextBlob('Hello')\n",
    "z = english_word.translate(from_lang='en',to='bn')\n",
    "print('converting english hello to bengali')\n",
    "print(z)"
   ]
  },
  {
   "cell_type": "code",
   "execution_count": 8,
   "metadata": {},
   "outputs": [
    {
     "name": "stdout",
     "output_type": "stream",
     "text": [
      "Converting HIndi to english\n",
      "Hello\n"
     ]
    }
   ],
   "source": [
    "hindi_word = TextBlob('नमस्ते')\n",
    "z = hindi_word.translate(from_lang='hi',to='en')\n",
    "print('Converting HIndi to english')\n",
    "print(z)"
   ]
  },
  {
   "cell_type": "code",
   "execution_count": 9,
   "metadata": {},
   "outputs": [
    {
     "name": "stdout",
     "output_type": "stream",
     "text": [
      "converting bengali to english\n",
      "Hello\n"
     ]
    }
   ],
   "source": [
    "bengali_word = TextBlob('হ্যালো')\n",
    "z = bengali_word.translate(from_lang='bn',to='en')\n",
    "print('converting bengali to english')\n",
    "print(z)"
   ]
  },
  {
   "cell_type": "markdown",
   "metadata": {},
   "source": [
    "<b> PDF data extraction </b>"
   ]
  },
  {
   "cell_type": "code",
   "execution_count": 10,
   "metadata": {},
   "outputs": [],
   "source": [
    "import PyPDF2"
   ]
  },
  {
   "cell_type": "code",
   "execution_count": 11,
   "metadata": {},
   "outputs": [],
   "source": [
    "pdfFileObj = open('sample.pdf','rb') #rb means read binary consider pdf as a binary file"
   ]
  },
  {
   "cell_type": "code",
   "execution_count": 12,
   "metadata": {},
   "outputs": [],
   "source": [
    "pdfFileReader = PyPDF2.PdfFileReader(pdfFileObj)"
   ]
  },
  {
   "cell_type": "code",
   "execution_count": 14,
   "metadata": {},
   "outputs": [
    {
     "name": "stdout",
     "output_type": "stream",
     "text": [
      "2\n"
     ]
    }
   ],
   "source": [
    "#Print the number of pages in pdf\n",
    "print(pdfFileReader.numPages)"
   ]
  },
  {
   "cell_type": "code",
   "execution_count": 15,
   "metadata": {},
   "outputs": [],
   "source": [
    "#Reading a page \n",
    "pageObj = pdfFileReader.getPage(0) #page numbers stars from 0 index "
   ]
  },
  {
   "cell_type": "code",
   "execution_count": 18,
   "metadata": {},
   "outputs": [
    {
     "name": "stdout",
     "output_type": "stream",
     "text": [
      " \n",
      " \n",
      " \n",
      " \n",
      " \n",
      "                                                                                                                             \n",
      "                                                       \n",
      "       \n",
      "Authorized letter 1st Page (Total \n",
      "2\n",
      " \n",
      "Pages)\n",
      " \n",
      " \n",
      "Thank you for applying through online job portals. For the post of \n",
      "Assistant Executive/ Assistant Manager/ Senior Manager \n",
      "(Permanent Job) for\n",
      " \n",
      "Larsen & \n",
      "Toubro Ltd.\n",
      " \n",
      "After verifying your profile we like to invite you to \n",
      "interview\n",
      " \n",
      "to be a part of this committed and professionally managed Indian multinational \n",
      "company L&T. \n",
      "Job Description \n",
      "related\n",
      " \n",
      "to your Qualification.\n",
      " \n",
      "After your interview your \n",
      "post or Department(Functio\n",
      "nal area)\n",
      " \n",
      "will be decided by senior hr \n",
      "manager according to your Qualification.\n",
      " \n",
      "Fresher & Experience holder apply now\n",
      ". \n",
      "152\n",
      " \n",
      "candidates are shortlisted and Vacancies are 1\n",
      "45\n",
      ".\n",
      " \n",
      " \n",
      "You are selected according to your qualification. Your \n",
      "reference\n",
      " \n",
      "number is \n",
      "011\n",
      ". Yo\n",
      "u are in \n",
      "1st Batch\n",
      ". This reference number is valid for this process only. \n",
      "We are urgently hiring the thousands of bright candidates for the multiple locations and for the different field in L&T Group\n",
      ". We also recruit freshers from \n",
      "our sources across the co\n",
      "untry in order to build our future leadership talent pipeline. The decision of shortlisting/selection/rejection of the candid\n",
      "ate will be \n",
      "at the sole discretion of senior hr manager.\n",
      " \n",
      " \n",
      "About Us\n",
      " \n",
      "L&T is a team of more than 50000 professionals spread across the\n",
      " \n",
      "globe. We combine a proven track record and professional skills, woven together with a \n",
      "culture of trust & caring. Consistently rated among the best employers in the country, L&T offers unmatched leadership opport\n",
      "unities & growth. Our \n",
      "approach is built on \n",
      "empowering employees to take on challenging assignments and explore their potential.We love what we do\n",
      " \n",
      "With over 50% of its \n",
      "workforce below the age of 30, L&\n",
      "T is a young company that is over 75 years old (No Age Limit). Every year we induct large batches of fresh engineering \n",
      "graduates.There is one thing that unites our large and cosmopolitan team \n",
      "-\n",
      " \n",
      "we love what we do. We also believe that diversity provides th\n",
      "e environment for \n",
      "original thought. At every step of our employees' careers, we invest in them by offering learning avenues, thus expanding the\n",
      "ir skill sets to serve clients \n",
      "need better.\n",
      " \n",
      " \n",
      "Diversity and Equal Opportunity\n",
      " \n",
      "We welcome diversity at the workplac\n",
      "e. Our efforts are therefore focused on sustaining and enhancing this diverse work environment. It introduces fresh \n",
      "perspectives and enables our people to integrate better in society.We are an equal opportunity employer and adhere to statuto\n",
      "ry & regulatory\n",
      " \n",
      "norms. Our \n",
      "egalitarian work culture fosters diversity and equal opportunity. We do not discriminate on the basis of caste, religious or \n",
      "political affiliation, gender, \n",
      "nationality, age, sexual orientation or disability.\n",
      " \n",
      " \n",
      "Salary and Allowances\n",
      " \n",
      "As per 7th pa\n",
      "y commission in India your starting salary will be \n",
      "(Rs. 42,950, \n",
      "-\n",
      "To Rs. 4, 18,450) per month\n",
      " \n",
      "in hand\n",
      ". You will be eligible allowances, such as \n",
      "housing allowance, traveling expenses, cost of living allowances, medical expenses, etc). As per company policy. \n",
      "After compleating the interview your \n",
      "exact Salary will be decided by senior hr manager.\n",
      " \n",
      " \n",
      "Working Hours, Holidays and Leave\n",
      " \n",
      "Working hours are 09:00 AM to 5 PM Monday to Friday. Saturday and Sunday are holidays. Employees are provided with the extra \n",
      "Opportun\n",
      "ity to take 24 \n",
      "leave every year accrued at the rate of 2 leave per month. The company also provides (30 days) annual holidays announced at t\n",
      "he beginning of every year. \n",
      "Except for emergencies and employee marriage and medical reasons leave will be granted a\n",
      "fter receiving approval by your seniors.\n",
      " \n",
      " \n",
      "All of Expenses & Accommodation By Company\n",
      " \n",
      "Through Company All travel ( Both\n",
      " \n",
      "side Air fare/Train fare/Cab fare )Expenses reimbursement will be given to candidate appearing for interview. And all \n",
      "of feeding expenses during the period of the Process. So you are requested to please be on time at your interview place on th\n",
      "e date of yo\n",
      "ur interview. The \n",
      "Candidate can come along with one family person on the day of interview. The company will be providing the all of expenses & \n",
      "accommodation for that \n",
      "family person also. If you are not come for interview. You will be in rejected list for fi\n",
      "ve year.\n",
      " \n",
      " \n",
      "According to company Rule & Regulations \n",
      "-\n",
      " \n",
      "Interview\n",
      " \n",
      "process and Round (Candidate has to clear two rounds of interview given below).\n",
      " \n",
      "(1) Written Test \n",
      "\n",
      " \n",
      "25 minutes (On basis \n",
      "of Qualification\n",
      ") Tick Mark Question Paper.\n",
      " \n",
      "(2) Senior HR round \n",
      "-\n",
      "10 minute\n",
      "s\n",
      " \n",
      "(There will be questions to test your personality, communication skills and behavior \n",
      "-\n",
      " \n",
      "Face to Face In your comfort \n",
      "language (English, Hindi, Tamil, Marathi, Kannada, Telugu, Gujarati. so don't hesitate)\n",
      " \n",
      " \n",
      "Interview information. \n",
      "(You can change the interv\n",
      "iew City Also. Read the complete letter)\n",
      " \n",
      "Interview will be held at Company Office.\n",
      " \n",
      " \n",
      "Interview Venue\n",
      ": L&T House, N.M. Marg, Ballard Estate, Mumbai, Maharashtra 400 001 India.\n",
      " \n",
      " \n",
      "Interview Date\n",
      ": \n",
      "-\n",
      " \n",
      "2\n",
      "1\n",
      "st\n",
      " \n",
      "of \n",
      "October \n",
      "2019. Time: \n",
      "-\n",
      " \n",
      "01:30 PM. \n",
      " \n",
      "You can change the \n",
      "interview City (Joining Location\n",
      ") and\n",
      " \n",
      "Date Also. Interview will be conducted in your city (or nearby city so don't hesitate to come over).\n",
      " \n",
      "You can choose the City (Joining Location) and Date for interview. \n",
      "From\n",
      " \n",
      "b\n",
      "elow list.\n",
      " \n",
      "You can choose the Interview Date from \n",
      "21\n",
      " \n",
      "October\n",
      " \n",
      "to 30\n",
      " \n",
      "October\n",
      ".\n",
      " \n",
      " \n",
      "Interview or Joining City\n",
      " \n",
      "Mumbai ,Delhi ,Bangalore ,Hyderabad ,Ahmedabad ,Chennai ,Kolkata ,Surat,Pune,Jaipur,Lucknow,Kanpur,Nagpur,Indore,Thane,Bhopal\n",
      ",Visakhapatnam,Pimpri & \n",
      "Chinchwad,Patn\n",
      "a,Vadodara,Ghaziabad,Ludhiana,Agra,Nashik,Faridabad,Meerut,Rajkot,Kalyan & Dombivali,Vasai Virar,Varanasi,Srinagar,Aurangabad\n",
      ", Dhanbad,\n",
      " \n",
      "Amritsar,Navi Mumbai,Allahabad,Ranchi,Haora,Coimbatore,Jabalpur,Gwalior,Vijayawada, Jodhpur,Madurai,Raipur,Kota,Guwahati\n",
      ", Chandigarh,Solapur,Hubli and\n",
      " \n",
      "Dharwad,Bareilly,Moradabad,Mysore,Gurgaon,Aligarh,Jalandhar,Tiruchirappalli, Bhubaneswar,Salem,Mira and Bhayander,Thiruvanant\n",
      "hapuram, Bhiwandi,\n",
      " \n",
      "Saharanpur,Gorakhpur,Guntur,Bikaner,Amravati,Noida,Jamshedpur,Bhilai Nagar,Warang\n",
      "al,Cuttack,Firozabad,Kochi, Bhavnagar,Dehradun,Durgapur,Asansol,\n",
      " \n",
      "Nanded Waghala,Kolapur,Ajmer,Gulbarga,Jamnagar,Ujjain,Loni,Siliguri,Jhansi,Ulhasnagar,Nellore,Jammu,Sangli Miraj Kupwad,Belga\n",
      "um,Mangalore,Ambattur,\n",
      " \n",
      "Tirunelveli, Malegoan,Gaya,Jalgaon,Udaipur,\n",
      "Maheshtala, \n",
      "Many More  Offices / Plants in India. For Abroad\n",
      ":\n",
      "-\n",
      "Canada, London, Dubai, San Francisco, Shanghai, \n",
      " \n",
      "Melbourne, Moscow, Singapore, Los Angeles, New York Only. \n",
      " \n",
      " \n",
      "Intervi\n",
      "vew City___________________\n",
      "I\n",
      "nterview Date _______________\n",
      "Joining City \n",
      "(India/Abroad Joining within 3 mo\n",
      "nths only)____________________\n",
      "___\n",
      " \n",
      "                                                                                                                             \n",
      "                                               \n",
      " \n",
      "Department (Func\n",
      "tional area)\n",
      " \n",
      "HR, Recruitment, Administration, IR, Financial Services, Banking, Investments, Insurance, IT Hardware, Technical Support, Tel\n",
      "ecom Engineering, Sales, Retail, \n",
      "Business Development,IT Software \n",
      "-\n",
      " \n",
      "Application Programming, Maintenance,ITES\n",
      ", BPO, KPO, LPO, Customer Service, Operations,Production, Manufacturing, \n",
      "Maintenance,Accounts, Finance, Tax, Company Secretary, Audit,Analytics & Business Intelligence,Architecture, Interior Design,\n",
      "Beauty / Fitness / Spa Services,CSR \n",
      "& Sustainability,Defen\n",
      "ce Forces retired, Security Services,Design, Creative, User Experience,Engineering Design, R&D,Executive Assistant, Front Off\n",
      "ice, Data \n",
      "Entry,Export, Import, Merchandising,Fashion Designing, Merchandising,Hotels, IT Software \n",
      "-\n",
      " \n",
      "Client/Server Programming, IT \n",
      "Software \n",
      "-\n",
      " \n",
      "eCommerce, Internet \n",
      "Technologies, IT Software \n",
      "-\n",
      " \n",
      "Mainframe, IT Software \n",
      "-\n",
      " \n",
      "Middleware, IT Software \n",
      "-\n",
      " \n",
      "Mobile, IT Software \n",
      "-\n",
      " \n",
      "System Programming, IT Software \n",
      "-\n",
      " \n",
      "Telecom Software, IT \n",
      "Software \n",
      "-\n",
      " \n",
      "DBA, Datawarehousing, IT Software \n",
      "-\n",
      " \n",
      "Embedded, EDA, VLSI, A\n",
      "SIC, Chip Design, IT Software \n",
      "-\n",
      " \n",
      "ERP, CRM, IT Software \n",
      "-\n",
      " \n",
      "Network Administration, \n",
      "Security, IT Software \n",
      "-\n",
      " \n",
      "QA & Testing, IT Software \n",
      "-\n",
      " \n",
      "Systems, EDP, MIS, , Editing, Content writer, Legal, Regulatory, Intellectual Property,Marketing, Advertising, \n",
      "MR, PR, Media\n",
      " \n",
      "Planning,Medical, Healthcare, R&D, Pharmaceuticals, Biotechnology, Packaging, Shipping, Site Engineering,\n",
      "                           \n",
      " \n",
      "<Continued On Next Page>\n",
      " \n",
      "\n"
     ]
    }
   ],
   "source": [
    "#extracting the text from that object \n",
    "print(pageObj.extractText())"
   ]
  },
  {
   "cell_type": "code",
   "execution_count": 19,
   "metadata": {},
   "outputs": [],
   "source": [
    "#closing the file\n",
    "pdfFileObj.close()"
   ]
  },
  {
   "cell_type": "markdown",
   "metadata": {},
   "source": [
    "<b> Find similarity ratio between text </b>"
   ]
  },
  {
   "cell_type": "code",
   "execution_count": 24,
   "metadata": {},
   "outputs": [
    {
     "name": "stdout",
     "output_type": "stream",
     "text": [
      "similarity between string1 and string2 0.5\n",
      "similarity between string2 and string3 0.26666666666666666\n",
      "similarity between string1 and string3 0.7368421052631579\n"
     ]
    }
   ],
   "source": [
    "#if the ratio is more than 0.6 then both the sentence are similar else its not \n",
    "from difflib import SequenceMatcher\n",
    "string1 = \"How r u?\"\n",
    "string2 = 'hru?'\n",
    "string3 = 'How are you'\n",
    "print(\"similarity between string1 and string2\",SequenceMatcher(None,string1,string2).ratio())\n",
    "print('similarity between string2 and string3',SequenceMatcher(None,string2,string3).ratio())\n",
    "print('similarity between string1 and string3',SequenceMatcher(None,string1,string3).ratio())"
   ]
  },
  {
   "cell_type": "markdown",
   "metadata": {},
   "source": [
    "<b> sentence tokenization </b>"
   ]
  },
  {
   "cell_type": "code",
   "execution_count": 25,
   "metadata": {},
   "outputs": [],
   "source": [
    "from nltk import word_tokenize,pos_tag"
   ]
  },
  {
   "cell_type": "code",
   "execution_count": 26,
   "metadata": {},
   "outputs": [],
   "source": [
    "text = 'Python : Login web app with flask and mysql'"
   ]
  },
  {
   "cell_type": "code",
   "execution_count": 27,
   "metadata": {},
   "outputs": [],
   "source": [
    "tokens = word_tokenize(text)"
   ]
  },
  {
   "cell_type": "code",
   "execution_count": 28,
   "metadata": {},
   "outputs": [
    {
     "name": "stdout",
     "output_type": "stream",
     "text": [
      "['Python', ':', 'Login', 'web', 'app', 'with', 'flask', 'and', 'mysql']\n"
     ]
    }
   ],
   "source": [
    "print(tokens)"
   ]
  },
  {
   "cell_type": "code",
   "execution_count": null,
   "metadata": {},
   "outputs": [],
   "source": []
  }
 ],
 "metadata": {
  "kernelspec": {
   "display_name": "Python 3",
   "language": "python",
   "name": "python3"
  },
  "language_info": {
   "codemirror_mode": {
    "name": "ipython",
    "version": 3
   },
   "file_extension": ".py",
   "mimetype": "text/x-python",
   "name": "python",
   "nbconvert_exporter": "python",
   "pygments_lexer": "ipython3",
   "version": "3.6.5"
  }
 },
 "nbformat": 4,
 "nbformat_minor": 4
}
