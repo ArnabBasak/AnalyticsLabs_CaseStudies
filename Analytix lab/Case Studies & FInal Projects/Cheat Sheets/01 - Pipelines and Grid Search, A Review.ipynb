{
 "cells": [
  {
   "cell_type": "code",
   "execution_count": 1,
   "metadata": {
    "collapsed": true
   },
   "outputs": [],
   "source": [
    "import pandas as pd\n",
    "from pandas import Series, DataFrame\n",
    "\n",
    "import numpy as np"
   ]
  },
  {
   "cell_type": "code",
   "execution_count": 2,
   "metadata": {},
   "outputs": [
    {
     "name": "stdout",
     "output_type": "stream",
     "text": [
      "Populating the interactive namespace from numpy and matplotlib\n"
     ]
    }
   ],
   "source": [
    "import matplotlib.pyplot as plt\n",
    "import seaborn as sns\n",
    "%pylab inline"
   ]
  },
  {
   "cell_type": "markdown",
   "metadata": {},
   "source": [
    "---\n",
    "# Datasets"
   ]
  },
  {
   "cell_type": "code",
   "execution_count": 4,
   "metadata": {
    "collapsed": true
   },
   "outputs": [],
   "source": [
    "# DataSets -- load_* or make_* or fetch_*\n",
    "from sklearn.datasets import load_breast_cancer, make_blobs, fetch_20newsgroups"
   ]
  },
  {
   "cell_type": "code",
   "execution_count": 5,
   "metadata": {},
   "outputs": [
    {
     "data": {
      "text/plain": [
       "['target_names', 'data', 'target', 'DESCR', 'feature_names']"
      ]
     },
     "execution_count": 5,
     "metadata": {},
     "output_type": "execute_result"
    }
   ],
   "source": [
    "bc_data = load_breast_cancer()\n",
    "bc_data.keys()"
   ]
  },
  {
   "cell_type": "code",
   "execution_count": 7,
   "metadata": {},
   "outputs": [
    {
     "data": {
      "text/html": [
       "<div>\n",
       "<style>\n",
       "    .dataframe thead tr:only-child th {\n",
       "        text-align: right;\n",
       "    }\n",
       "\n",
       "    .dataframe thead th {\n",
       "        text-align: left;\n",
       "    }\n",
       "\n",
       "    .dataframe tbody tr th {\n",
       "        vertical-align: top;\n",
       "    }\n",
       "</style>\n",
       "<table border=\"1\" class=\"dataframe\">\n",
       "  <thead>\n",
       "    <tr style=\"text-align: right;\">\n",
       "      <th></th>\n",
       "      <th>mean radius</th>\n",
       "      <th>mean texture</th>\n",
       "      <th>mean perimeter</th>\n",
       "      <th>mean area</th>\n",
       "      <th>mean smoothness</th>\n",
       "      <th>mean compactness</th>\n",
       "      <th>mean concavity</th>\n",
       "      <th>mean concave points</th>\n",
       "      <th>mean symmetry</th>\n",
       "      <th>mean fractal dimension</th>\n",
       "    </tr>\n",
       "  </thead>\n",
       "  <tbody>\n",
       "    <tr>\n",
       "      <th>0</th>\n",
       "      <td>17.99</td>\n",
       "      <td>10.38</td>\n",
       "      <td>122.80</td>\n",
       "      <td>1001.0</td>\n",
       "      <td>0.11840</td>\n",
       "      <td>0.27760</td>\n",
       "      <td>0.30010</td>\n",
       "      <td>0.14710</td>\n",
       "      <td>0.2419</td>\n",
       "      <td>0.07871</td>\n",
       "    </tr>\n",
       "    <tr>\n",
       "      <th>1</th>\n",
       "      <td>20.57</td>\n",
       "      <td>17.77</td>\n",
       "      <td>132.90</td>\n",
       "      <td>1326.0</td>\n",
       "      <td>0.08474</td>\n",
       "      <td>0.07864</td>\n",
       "      <td>0.08690</td>\n",
       "      <td>0.07017</td>\n",
       "      <td>0.1812</td>\n",
       "      <td>0.05667</td>\n",
       "    </tr>\n",
       "    <tr>\n",
       "      <th>2</th>\n",
       "      <td>19.69</td>\n",
       "      <td>21.25</td>\n",
       "      <td>130.00</td>\n",
       "      <td>1203.0</td>\n",
       "      <td>0.10960</td>\n",
       "      <td>0.15990</td>\n",
       "      <td>0.19740</td>\n",
       "      <td>0.12790</td>\n",
       "      <td>0.2069</td>\n",
       "      <td>0.05999</td>\n",
       "    </tr>\n",
       "    <tr>\n",
       "      <th>3</th>\n",
       "      <td>11.42</td>\n",
       "      <td>20.38</td>\n",
       "      <td>77.58</td>\n",
       "      <td>386.1</td>\n",
       "      <td>0.14250</td>\n",
       "      <td>0.28390</td>\n",
       "      <td>0.24140</td>\n",
       "      <td>0.10520</td>\n",
       "      <td>0.2597</td>\n",
       "      <td>0.09744</td>\n",
       "    </tr>\n",
       "    <tr>\n",
       "      <th>4</th>\n",
       "      <td>20.29</td>\n",
       "      <td>14.34</td>\n",
       "      <td>135.10</td>\n",
       "      <td>1297.0</td>\n",
       "      <td>0.10030</td>\n",
       "      <td>0.13280</td>\n",
       "      <td>0.19800</td>\n",
       "      <td>0.10430</td>\n",
       "      <td>0.1809</td>\n",
       "      <td>0.05883</td>\n",
       "    </tr>\n",
       "    <tr>\n",
       "      <th>5</th>\n",
       "      <td>12.45</td>\n",
       "      <td>15.70</td>\n",
       "      <td>82.57</td>\n",
       "      <td>477.1</td>\n",
       "      <td>0.12780</td>\n",
       "      <td>0.17000</td>\n",
       "      <td>0.15780</td>\n",
       "      <td>0.08089</td>\n",
       "      <td>0.2087</td>\n",
       "      <td>0.07613</td>\n",
       "    </tr>\n",
       "    <tr>\n",
       "      <th>6</th>\n",
       "      <td>18.25</td>\n",
       "      <td>19.98</td>\n",
       "      <td>119.60</td>\n",
       "      <td>1040.0</td>\n",
       "      <td>0.09463</td>\n",
       "      <td>0.10900</td>\n",
       "      <td>0.11270</td>\n",
       "      <td>0.07400</td>\n",
       "      <td>0.1794</td>\n",
       "      <td>0.05742</td>\n",
       "    </tr>\n",
       "    <tr>\n",
       "      <th>7</th>\n",
       "      <td>13.71</td>\n",
       "      <td>20.83</td>\n",
       "      <td>90.20</td>\n",
       "      <td>577.9</td>\n",
       "      <td>0.11890</td>\n",
       "      <td>0.16450</td>\n",
       "      <td>0.09366</td>\n",
       "      <td>0.05985</td>\n",
       "      <td>0.2196</td>\n",
       "      <td>0.07451</td>\n",
       "    </tr>\n",
       "    <tr>\n",
       "      <th>8</th>\n",
       "      <td>13.00</td>\n",
       "      <td>21.82</td>\n",
       "      <td>87.50</td>\n",
       "      <td>519.8</td>\n",
       "      <td>0.12730</td>\n",
       "      <td>0.19320</td>\n",
       "      <td>0.18590</td>\n",
       "      <td>0.09353</td>\n",
       "      <td>0.2350</td>\n",
       "      <td>0.07389</td>\n",
       "    </tr>\n",
       "    <tr>\n",
       "      <th>9</th>\n",
       "      <td>12.46</td>\n",
       "      <td>24.04</td>\n",
       "      <td>83.97</td>\n",
       "      <td>475.9</td>\n",
       "      <td>0.11860</td>\n",
       "      <td>0.23960</td>\n",
       "      <td>0.22730</td>\n",
       "      <td>0.08543</td>\n",
       "      <td>0.2030</td>\n",
       "      <td>0.08243</td>\n",
       "    </tr>\n",
       "  </tbody>\n",
       "</table>\n",
       "</div>"
      ],
      "text/plain": [
       "   mean radius  mean texture  mean perimeter  mean area  mean smoothness  \\\n",
       "0        17.99         10.38          122.80     1001.0          0.11840   \n",
       "1        20.57         17.77          132.90     1326.0          0.08474   \n",
       "2        19.69         21.25          130.00     1203.0          0.10960   \n",
       "3        11.42         20.38           77.58      386.1          0.14250   \n",
       "4        20.29         14.34          135.10     1297.0          0.10030   \n",
       "5        12.45         15.70           82.57      477.1          0.12780   \n",
       "6        18.25         19.98          119.60     1040.0          0.09463   \n",
       "7        13.71         20.83           90.20      577.9          0.11890   \n",
       "8        13.00         21.82           87.50      519.8          0.12730   \n",
       "9        12.46         24.04           83.97      475.9          0.11860   \n",
       "\n",
       "   mean compactness  mean concavity  mean concave points  mean symmetry  \\\n",
       "0           0.27760         0.30010              0.14710         0.2419   \n",
       "1           0.07864         0.08690              0.07017         0.1812   \n",
       "2           0.15990         0.19740              0.12790         0.2069   \n",
       "3           0.28390         0.24140              0.10520         0.2597   \n",
       "4           0.13280         0.19800              0.10430         0.1809   \n",
       "5           0.17000         0.15780              0.08089         0.2087   \n",
       "6           0.10900         0.11270              0.07400         0.1794   \n",
       "7           0.16450         0.09366              0.05985         0.2196   \n",
       "8           0.19320         0.18590              0.09353         0.2350   \n",
       "9           0.23960         0.22730              0.08543         0.2030   \n",
       "\n",
       "   mean fractal dimension  \n",
       "0                 0.07871  \n",
       "1                 0.05667  \n",
       "2                 0.05999  \n",
       "3                 0.09744  \n",
       "4                 0.05883  \n",
       "5                 0.07613  \n",
       "6                 0.05742  \n",
       "7                 0.07451  \n",
       "8                 0.07389  \n",
       "9                 0.08243  "
      ]
     },
     "execution_count": 7,
     "metadata": {},
     "output_type": "execute_result"
    }
   ],
   "source": [
    "DataFrame(bc_data['data'], columns=bc_data['feature_names']).iloc[:10, :10]"
   ]
  },
  {
   "cell_type": "code",
   "execution_count": 9,
   "metadata": {},
   "outputs": [
    {
     "name": "stdout",
     "output_type": "stream",
     "text": [
      "[0 0 0 0 0 0 0 0 0 0]\n"
     ]
    },
    {
     "data": {
      "text/plain": [
       "array(['malignant', 'benign'],\n",
       "      dtype='|S9')"
      ]
     },
     "execution_count": 9,
     "metadata": {},
     "output_type": "execute_result"
    }
   ],
   "source": [
    "print bc_data['target'][:10]\n",
    "bc_data['target_names']"
   ]
  },
  {
   "cell_type": "markdown",
   "metadata": {},
   "source": [
    "----\n",
    "## Splitting"
   ]
  },
  {
   "cell_type": "code",
   "execution_count": 10,
   "metadata": {
    "collapsed": true
   },
   "outputs": [],
   "source": [
    "from sklearn.model_selection import train_test_split"
   ]
  },
  {
   "cell_type": "code",
   "execution_count": 11,
   "metadata": {},
   "outputs": [
    {
     "name": "stderr",
     "output_type": "stream",
     "text": [
      "C:\\ProgramData\\Anaconda2\\lib\\site-packages\\sklearn\\model_selection\\_split.py:2026: FutureWarning: From version 0.21, test_size will always complement train_size unless both are specified.\n",
      "  FutureWarning)\n"
     ]
    }
   ],
   "source": [
    "X = bc_data['data']\n",
    "y = bc_data['target']\n",
    "\n",
    "X_tr, X_te, y_tr, y_te = train_test_split(X, y, train_size=0.75, random_state=97467)"
   ]
  },
  {
   "cell_type": "markdown",
   "metadata": {},
   "source": [
    "---\n",
    "# Transformers\n",
    "\n",
    "- Take data as input, produce a representation of data as ouput\n",
    "- have `.fit()` and `.transform()` methods (also `fit_transform`)"
   ]
  },
  {
   "cell_type": "code",
   "execution_count": 12,
   "metadata": {
    "collapsed": true
   },
   "outputs": [],
   "source": [
    "from sklearn.preprocessing import StandardScaler, RobustScaler, MinMaxScaler\n",
    "from sklearn.preprocessing import Imputer, OneHotEncoder\n",
    "from sklearn.preprocessing import LabelEncoder, Binarizer"
   ]
  },
  {
   "cell_type": "code",
   "execution_count": 10,
   "metadata": {
    "collapsed": true
   },
   "outputs": [],
   "source": [
    "RobustScaler?"
   ]
  },
  {
   "cell_type": "code",
   "execution_count": 13,
   "metadata": {
    "collapsed": true
   },
   "outputs": [],
   "source": [
    "rs = RobustScaler()"
   ]
  },
  {
   "cell_type": "code",
   "execution_count": 14,
   "metadata": {},
   "outputs": [
    {
     "data": {
      "text/plain": [
       "RobustScaler(copy=True, quantile_range=(25.0, 75.0), with_centering=True,\n",
       "       with_scaling=True)"
      ]
     },
     "execution_count": 14,
     "metadata": {},
     "output_type": "execute_result"
    }
   ],
   "source": [
    "rs.fit(X_tr)"
   ]
  },
  {
   "cell_type": "code",
   "execution_count": 15,
   "metadata": {
    "collapsed": true
   },
   "outputs": [],
   "source": [
    "X_tr_scaled = rs.transform(X_tr)\n",
    "X_te_scaled = rs.transform(X_te)"
   ]
  },
  {
   "cell_type": "markdown",
   "metadata": {},
   "source": [
    "----\n",
    "## Dimensionality Reduction"
   ]
  },
  {
   "cell_type": "code",
   "execution_count": 16,
   "metadata": {
    "collapsed": true
   },
   "outputs": [],
   "source": [
    "from sklearn.decomposition import PCA, IncrementalPCA, FactorAnalysis\n",
    "from sklearn.manifold import Isomap, MDS, TSNE"
   ]
  },
  {
   "cell_type": "code",
   "execution_count": 17,
   "metadata": {
    "collapsed": true
   },
   "outputs": [],
   "source": [
    "tsne = TSNE()"
   ]
  },
  {
   "cell_type": "code",
   "execution_count": 18,
   "metadata": {
    "collapsed": true
   },
   "outputs": [],
   "source": [
    "X_tr_2dim = tsne.fit_transform(X_tr_scaled)"
   ]
  },
  {
   "cell_type": "code",
   "execution_count": 19,
   "metadata": {},
   "outputs": [
    {
     "data": {
      "image/png": "[encoded data removed]",
      "text/plain": [
       "<matplotlib.figure.Figure at 0x1e96fe48>"
      ]
     },
     "metadata": {},
     "output_type": "display_data"
    }
   ],
   "source": [
    "(DataFrame(X_tr_2dim, columns=['TS1', 'TS2'])\n",
    " .plot.scatter(x='TS1', y='TS2', c=y_tr, cmap='Spectral'));"
   ]
  },
  {
   "cell_type": "code",
   "execution_count": 20,
   "metadata": {},
   "outputs": [
    {
     "data": {
      "image/png": "[encoded data removed]",
      "text/plain": [
       "<matplotlib.figure.Figure at 0x1ecf6828>"
      ]
     },
     "metadata": {},
     "output_type": "display_data"
    }
   ],
   "source": [
    "pca_evr = {}\n",
    "for n in range(4, 12, 2):\n",
    "    pca = PCA(n_components=n)\n",
    "    pca.fit(X_tr_scaled)\n",
    "    pca_evr[str(n).zfill(2)] = pca.explained_variance_ratio_.sum()\n",
    "    \n",
    "Series(pca_evr).plot();    "
   ]
  },
  {
   "cell_type": "code",
   "execution_count": 21,
   "metadata": {
    "collapsed": true
   },
   "outputs": [],
   "source": [
    "pca = PCA(n_components=8)\n",
    "pca.fit(X_tr_scaled)\n",
    "\n",
    "X_tr_pca = pca.transform(X_tr_scaled)\n",
    "X_te_pca = pca.transform(X_te_scaled)"
   ]
  },
  {
   "cell_type": "markdown",
   "metadata": {},
   "source": [
    "---\n",
    "# $Estimators$\n",
    "\n",
    "<big>\n",
    "- take data + target as input, produce predictions as probabilities or labels<br><br>\n",
    "- have `.fit()` and `.predict()` (also `.predict_proba()`) methods<br><br>\n",
    "- The method is <br><br>\n",
    "    - Instantiate the model class object <br>\n",
    "    `rc = modelClass()`<br><br>\n",
    "    - Use the fit method to estimate parameters<br>\n",
    "    `rc.fit(X_tr_model, y_tr)`<br><br>\n",
    "    - Use the predict probability method to make predictions<br>\n",
    "    `rc.predict_proba(X_te_model)`"
   ]
  },
  {
   "cell_type": "code",
   "execution_count": 22,
   "metadata": {
    "collapsed": true
   },
   "outputs": [],
   "source": [
    "# Popular Regression Models\n",
    "from sklearn.linear_model import LinearRegression, SGDRegressor\n",
    "from sklearn.tree import DecisionTreeRegressor\n",
    "from sklearn.svm import SVR\n",
    "from sklearn.ensemble import AdaBoostRegressor, BaggingRegressor, RandomForestRegressor\n",
    "\n",
    "# Popular Classification Models\n",
    "from sklearn.linear_model import LogisticRegression\n",
    "from sklearn.svm import SVC\n",
    "from sklearn.tree import DecisionTreeClassifier\n",
    "from sklearn.ensemble import AdaBoostClassifier, BaggingClassifier, RandomForestClassifier\n",
    "\n",
    "# Popular Clustering Models\n",
    "from sklearn.cluster import KMeans, DBSCAN, AgglomerativeClustering, SpectralClustering"
   ]
  },
  {
   "cell_type": "code",
   "execution_count": 28,
   "metadata": {
    "collapsed": true
   },
   "outputs": [],
   "source": [
    "clf_svm_1 = SVC(kernel='poly')\n",
    "clf_svm_1.fit(X_tr_pca, y_tr)\n",
    "\n",
    "y_pred = clf_svm_1.predict(X_te_pca)"
   ]
  },
  {
   "cell_type": "code",
   "execution_count": 29,
   "metadata": {
    "collapsed": true
   },
   "outputs": [],
   "source": [
    "from sklearn.metrics import classification_report, accuracy_score, confusion_matrix"
   ]
  },
  {
   "cell_type": "code",
   "execution_count": 30,
   "metadata": {},
   "outputs": [
    {
     "name": "stdout",
     "output_type": "stream",
     "text": [
      "             precision    recall  f1-score   support\n",
      "\n",
      "          0       1.00      0.98      0.99        46\n",
      "          1       0.99      1.00      0.99        97\n",
      "\n",
      "avg / total       0.99      0.99      0.99       143\n",
      "\n"
     ]
    }
   ],
   "source": [
    "print classification_report(y_te, y_pred)"
   ]
  },
  {
   "cell_type": "code",
   "execution_count": 31,
   "metadata": {},
   "outputs": [
    {
     "data": {
      "text/plain": [
       "array([[45,  1],\n",
       "       [ 0, 97]], dtype=int64)"
      ]
     },
     "execution_count": 31,
     "metadata": {},
     "output_type": "execute_result"
    }
   ],
   "source": [
    "confusion_matrix(y_te, y_pred)"
   ]
  },
  {
   "cell_type": "code",
   "execution_count": 32,
   "metadata": {},
   "outputs": [
    {
     "data": {
      "text/plain": [
       "0.99300699300699302"
      ]
     },
     "execution_count": 32,
     "metadata": {},
     "output_type": "execute_result"
    }
   ],
   "source": [
    "accuracy_score(y_te, y_pred)"
   ]
  },
  {
   "cell_type": "markdown",
   "metadata": {},
   "source": [
    "---\n",
    "# Grid Search"
   ]
  },
  {
   "cell_type": "code",
   "execution_count": 33,
   "metadata": {
    "collapsed": true
   },
   "outputs": [],
   "source": [
    "from sklearn.model_selection import GridSearchCV"
   ]
  },
  {
   "cell_type": "code",
   "execution_count": 36,
   "metadata": {
    "collapsed": true
   },
   "outputs": [],
   "source": [
    "grid_clf = {'max_depth': [2, 4, 6, 8],\n",
    "           'min_samples_leaf': [5, 10, 15, 25]}"
   ]
  },
  {
   "cell_type": "code",
   "execution_count": 37,
   "metadata": {
    "collapsed": true
   },
   "outputs": [],
   "source": [
    "gscv_1 = GridSearchCV(estimator=DecisionTreeClassifier(), \n",
    "                      param_grid=grid_clf, \n",
    "                      scoring='roc_auc', \n",
    "                      cv=5, verbose=True, n_jobs=-1)"
   ]
  },
  {
   "cell_type": "code",
   "execution_count": 38,
   "metadata": {},
   "outputs": [
    {
     "name": "stdout",
     "output_type": "stream",
     "text": [
      "Fitting 5 folds for each of 16 candidates, totalling 80 fits\n"
     ]
    },
    {
     "name": "stderr",
     "output_type": "stream",
     "text": [
      "[Parallel(n_jobs=-1)]: Done  80 out of  80 | elapsed:    2.2s finished\n"
     ]
    },
    {
     "data": {
      "text/plain": [
       "GridSearchCV(cv=5, error_score='raise',\n",
       "       estimator=DecisionTreeClassifier(class_weight=None, criterion='gini', max_depth=None,\n",
       "            max_features=None, max_leaf_nodes=None,\n",
       "            min_impurity_decrease=0.0, min_impurity_split=None,\n",
       "            min_samples_leaf=1, min_samples_split=2,\n",
       "            min_weight_fraction_leaf=0.0, presort=False, random_state=None,\n",
       "            splitter='best'),\n",
       "       fit_params=None, iid=True, n_jobs=-1,\n",
       "       param_grid={'max_depth': [2, 4, 6, 8], 'min_samples_leaf': [5, 10, 15, 25]},\n",
       "       pre_dispatch='2*n_jobs', refit=True, return_train_score='warn',\n",
       "       scoring='roc_auc', verbose=True)"
      ]
     },
     "execution_count": 38,
     "metadata": {},
     "output_type": "execute_result"
    }
   ],
   "source": [
    "gscv_1.fit(X_tr_pca, y_tr)"
   ]
  },
  {
   "cell_type": "code",
   "execution_count": 39,
   "metadata": {},
   "outputs": [
    {
     "data": {
      "text/plain": [
       "0.95641392575941053"
      ]
     },
     "execution_count": 39,
     "metadata": {},
     "output_type": "execute_result"
    }
   ],
   "source": [
    "gscv_1.best_score_"
   ]
  },
  {
   "cell_type": "code",
   "execution_count": 40,
   "metadata": {},
   "outputs": [
    {
     "data": {
      "text/plain": [
       "{'max_depth': 4, 'min_samples_leaf': 25}"
      ]
     },
     "execution_count": 40,
     "metadata": {},
     "output_type": "execute_result"
    }
   ],
   "source": [
    "gscv_1.best_params_"
   ]
  },
  {
   "cell_type": "code",
   "execution_count": 41,
   "metadata": {
    "collapsed": true
   },
   "outputs": [],
   "source": [
    "y_pred = gscv_1.predict(X_te_pca)"
   ]
  },
  {
   "cell_type": "code",
   "execution_count": 42,
   "metadata": {},
   "outputs": [
    {
     "name": "stdout",
     "output_type": "stream",
     "text": [
      "             precision    recall  f1-score   support\n",
      "\n",
      "          0       0.89      0.91      0.90        45\n",
      "          1       0.96      0.95      0.95        98\n",
      "\n",
      "avg / total       0.94      0.94      0.94       143\n",
      "\n"
     ]
    }
   ],
   "source": [
    "print classification_report(y_pred, y_te)"
   ]
  },
  {
   "cell_type": "code",
   "execution_count": 43,
   "metadata": {},
   "outputs": [
    {
     "name": "stdout",
     "output_type": "stream",
     "text": [
      "[[41  4]\n",
      " [ 5 93]]\n"
     ]
    }
   ],
   "source": [
    "print confusion_matrix(y_pred, y_te)"
   ]
  },
  {
   "cell_type": "markdown",
   "metadata": {},
   "source": [
    "---\n",
    "# Pipeline\n",
    "\n",
    "pipeline helps you automize several step of the learning process. Such as the training and testing of models or feature selection... So if you want to mix a regression then use it to feed a classifier for instance, your steps will be the training of that regression and then of the classifier.\n",
    "\n",
    "--\n",
    "Transformer in scikit-learn - some class that have fit and transform method, or fit_transform method.\n",
    "\n",
    "Predictor - some class that has fit and predict methods, or fit_predict method.\n",
    "\n",
    "Pipeline is just an abstract notion, it's not some existing ml algorithm. Often in ML tasks you need to perform sequence of different transformations (find set of features, generate new features, select only some good features) of raw dataset before applying final estimator.\n",
    "\n",
    "Pipeline gives you a single interface for all 3 steps of transformation and resulting estimator. It encapsulates transformers and predictors inside.\n",
    "\n",
    "With pipelines you can easily perform a grid-search over set of parameters for each step of this meta-estimator. "
   ]
  },
  {
   "cell_type": "code",
   "execution_count": 45,
   "metadata": {
    "collapsed": true
   },
   "outputs": [],
   "source": [
    "from sklearn.pipeline import Pipeline"
   ]
  },
  {
   "cell_type": "code",
   "execution_count": 46,
   "metadata": {
    "collapsed": true
   },
   "outputs": [],
   "source": [
    "pipe_1 = Pipeline([('scale', StandardScaler()),\n",
    "                   ('pca', PCA()),\n",
    "                   ('tree', DecisionTreeClassifier())])"
   ]
  },
  {
   "cell_type": "code",
   "execution_count": 47,
   "metadata": {
    "collapsed": true
   },
   "outputs": [],
   "source": [
    "pipe_grid = {'pca__n_components': [4, 6, 8, 12],\n",
    "             'tree__max_depth': [3, 6, 9],\n",
    "             'tree__min_samples_leaf': [5, 10, 15, 25]}"
   ]
  },
  {
   "cell_type": "code",
   "execution_count": 48,
   "metadata": {
    "collapsed": true
   },
   "outputs": [],
   "source": [
    "gscv_1 = GridSearchCV(estimator=pipe_1, \n",
    "                      param_grid=pipe_grid, \n",
    "                      scoring='accuracy', \n",
    "                      cv=5, \n",
    "                      verbose=True)"
   ]
  },
  {
   "cell_type": "code",
   "execution_count": 49,
   "metadata": {},
   "outputs": [
    {
     "name": "stdout",
     "output_type": "stream",
     "text": [
      "Fitting 5 folds for each of 48 candidates, totalling 240 fits\n"
     ]
    },
    {
     "name": "stderr",
     "output_type": "stream",
     "text": [
      "[Parallel(n_jobs=1)]: Done 240 out of 240 | elapsed:    3.1s finished\n"
     ]
    },
    {
     "data": {
      "text/plain": [
       "GridSearchCV(cv=5, error_score='raise',\n",
       "       estimator=Pipeline(memory=None,\n",
       "     steps=[('scale', StandardScaler(copy=True, with_mean=True, with_std=True)), ('pca', PCA(copy=True, iterated_power='auto', n_components=None, random_state=None,\n",
       "  svd_solver='auto', tol=0.0, whiten=False)), ('tree', DecisionTreeClassifier(class_weight=None, criterion='gini', max_depth=None,\n",
       "         ...      min_weight_fraction_leaf=0.0, presort=False, random_state=None,\n",
       "            splitter='best'))]),\n",
       "       fit_params=None, iid=True, n_jobs=1,\n",
       "       param_grid={'tree__max_depth': [3, 6, 9], 'pca__n_components': [4, 6, 8, 12], 'tree__min_samples_leaf': [5, 10, 15, 25]},\n",
       "       pre_dispatch='2*n_jobs', refit=True, return_train_score='warn',\n",
       "       scoring='accuracy', verbose=True)"
      ]
     },
     "execution_count": 49,
     "metadata": {},
     "output_type": "execute_result"
    }
   ],
   "source": [
    "gscv_1.fit(X_tr, y_tr)"
   ]
  },
  {
   "cell_type": "code",
   "execution_count": 50,
   "metadata": {},
   "outputs": [
    {
     "data": {
      "text/plain": [
       "{'pca__n_components': 4, 'tree__max_depth': 3, 'tree__min_samples_leaf': 5}"
      ]
     },
     "execution_count": 50,
     "metadata": {},
     "output_type": "execute_result"
    }
   ],
   "source": [
    "gscv_1.best_params_"
   ]
  },
  {
   "cell_type": "code",
   "execution_count": 51,
   "metadata": {},
   "outputs": [
    {
     "name": "stderr",
     "output_type": "stream",
     "text": [
      "C:\\ProgramData\\Anaconda2\\lib\\site-packages\\sklearn\\utils\\deprecation.py:122: FutureWarning: You are accessing a training score ('mean_train_score'), which will not be available by default any more in 0.21. If you need training scores, please set return_train_score=True\n",
      "  warnings.warn(*warn_args, **warn_kwargs)\n",
      "C:\\ProgramData\\Anaconda2\\lib\\site-packages\\sklearn\\utils\\deprecation.py:122: FutureWarning: You are accessing a training score ('split0_train_score'), which will not be available by default any more in 0.21. If you need training scores, please set return_train_score=True\n",
      "  warnings.warn(*warn_args, **warn_kwargs)\n",
      "C:\\ProgramData\\Anaconda2\\lib\\site-packages\\sklearn\\utils\\deprecation.py:122: FutureWarning: You are accessing a training score ('split1_train_score'), which will not be available by default any more in 0.21. If you need training scores, please set return_train_score=True\n",
      "  warnings.warn(*warn_args, **warn_kwargs)\n",
      "C:\\ProgramData\\Anaconda2\\lib\\site-packages\\sklearn\\utils\\deprecation.py:122: FutureWarning: You are accessing a training score ('split2_train_score'), which will not be available by default any more in 0.21. If you need training scores, please set return_train_score=True\n",
      "  warnings.warn(*warn_args, **warn_kwargs)\n",
      "C:\\ProgramData\\Anaconda2\\lib\\site-packages\\sklearn\\utils\\deprecation.py:122: FutureWarning: You are accessing a training score ('split3_train_score'), which will not be available by default any more in 0.21. If you need training scores, please set return_train_score=True\n",
      "  warnings.warn(*warn_args, **warn_kwargs)\n",
      "C:\\ProgramData\\Anaconda2\\lib\\site-packages\\sklearn\\utils\\deprecation.py:122: FutureWarning: You are accessing a training score ('split4_train_score'), which will not be available by default any more in 0.21. If you need training scores, please set return_train_score=True\n",
      "  warnings.warn(*warn_args, **warn_kwargs)\n",
      "C:\\ProgramData\\Anaconda2\\lib\\site-packages\\sklearn\\utils\\deprecation.py:122: FutureWarning: You are accessing a training score ('std_train_score'), which will not be available by default any more in 0.21. If you need training scores, please set return_train_score=True\n",
      "  warnings.warn(*warn_args, **warn_kwargs)\n"
     ]
    },
    {
     "data": {
      "text/html": [
       "<div>\n",
       "<style>\n",
       "    .dataframe thead tr:only-child th {\n",
       "        text-align: right;\n",
       "    }\n",
       "\n",
       "    .dataframe thead th {\n",
       "        text-align: left;\n",
       "    }\n",
       "\n",
       "    .dataframe tbody tr th {\n",
       "        vertical-align: top;\n",
       "    }\n",
       "</style>\n",
       "<table border=\"1\" class=\"dataframe\">\n",
       "  <thead>\n",
       "    <tr style=\"text-align: right;\">\n",
       "      <th></th>\n",
       "      <th>param_pca__n_components</th>\n",
       "      <th>param_tree__max_depth</th>\n",
       "      <th>param_tree__min_samples_leaf</th>\n",
       "      <th>mean_fit_time</th>\n",
       "      <th>mean_score_time</th>\n",
       "      <th>mean_test_score</th>\n",
       "      <th>mean_train_score</th>\n",
       "      <th>std_fit_time</th>\n",
       "      <th>std_score_time</th>\n",
       "      <th>std_test_score</th>\n",
       "      <th>std_train_score</th>\n",
       "    </tr>\n",
       "  </thead>\n",
       "  <tbody>\n",
       "    <tr>\n",
       "      <th>0</th>\n",
       "      <td>4</td>\n",
       "      <td>3</td>\n",
       "      <td>5</td>\n",
       "      <td>0.0084</td>\n",
       "      <td>0.0002</td>\n",
       "      <td>0.929577</td>\n",
       "      <td>0.953640</td>\n",
       "      <td>0.009810</td>\n",
       "      <td>3.999710e-04</td>\n",
       "      <td>0.025666</td>\n",
       "      <td>0.005034</td>\n",
       "    </tr>\n",
       "    <tr>\n",
       "      <th>9</th>\n",
       "      <td>4</td>\n",
       "      <td>9</td>\n",
       "      <td>10</td>\n",
       "      <td>0.0042</td>\n",
       "      <td>0.0008</td>\n",
       "      <td>0.929577</td>\n",
       "      <td>0.951880</td>\n",
       "      <td>0.000980</td>\n",
       "      <td>3.999949e-04</td>\n",
       "      <td>0.026720</td>\n",
       "      <td>0.002955</td>\n",
       "    </tr>\n",
       "    <tr>\n",
       "      <th>1</th>\n",
       "      <td>4</td>\n",
       "      <td>3</td>\n",
       "      <td>10</td>\n",
       "      <td>0.0050</td>\n",
       "      <td>0.0008</td>\n",
       "      <td>0.929577</td>\n",
       "      <td>0.950707</td>\n",
       "      <td>0.002098</td>\n",
       "      <td>7.482900e-04</td>\n",
       "      <td>0.026720</td>\n",
       "      <td>0.003380</td>\n",
       "    </tr>\n",
       "    <tr>\n",
       "      <th>17</th>\n",
       "      <td>6</td>\n",
       "      <td>6</td>\n",
       "      <td>10</td>\n",
       "      <td>0.0042</td>\n",
       "      <td>0.0010</td>\n",
       "      <td>0.929577</td>\n",
       "      <td>0.951880</td>\n",
       "      <td>0.000400</td>\n",
       "      <td>1.168008e-07</td>\n",
       "      <td>0.026720</td>\n",
       "      <td>0.002955</td>\n",
       "    </tr>\n",
       "    <tr>\n",
       "      <th>13</th>\n",
       "      <td>6</td>\n",
       "      <td>3</td>\n",
       "      <td>10</td>\n",
       "      <td>0.0084</td>\n",
       "      <td>0.0006</td>\n",
       "      <td>0.929577</td>\n",
       "      <td>0.950707</td>\n",
       "      <td>0.007310</td>\n",
       "      <td>4.898624e-04</td>\n",
       "      <td>0.026720</td>\n",
       "      <td>0.003380</td>\n",
       "    </tr>\n",
       "    <tr>\n",
       "      <th>21</th>\n",
       "      <td>6</td>\n",
       "      <td>9</td>\n",
       "      <td>10</td>\n",
       "      <td>0.0046</td>\n",
       "      <td>0.0008</td>\n",
       "      <td>0.929577</td>\n",
       "      <td>0.951880</td>\n",
       "      <td>0.000490</td>\n",
       "      <td>3.999710e-04</td>\n",
       "      <td>0.026720</td>\n",
       "      <td>0.002955</td>\n",
       "    </tr>\n",
       "    <tr>\n",
       "      <th>5</th>\n",
       "      <td>4</td>\n",
       "      <td>6</td>\n",
       "      <td>10</td>\n",
       "      <td>0.0032</td>\n",
       "      <td>0.0002</td>\n",
       "      <td>0.929577</td>\n",
       "      <td>0.951880</td>\n",
       "      <td>0.000400</td>\n",
       "      <td>4.000664e-04</td>\n",
       "      <td>0.026720</td>\n",
       "      <td>0.002955</td>\n",
       "    </tr>\n",
       "    <tr>\n",
       "      <th>8</th>\n",
       "      <td>4</td>\n",
       "      <td>9</td>\n",
       "      <td>5</td>\n",
       "      <td>0.0042</td>\n",
       "      <td>0.0006</td>\n",
       "      <td>0.924883</td>\n",
       "      <td>0.964202</td>\n",
       "      <td>0.000400</td>\n",
       "      <td>4.899014e-04</td>\n",
       "      <td>0.029136</td>\n",
       "      <td>0.004690</td>\n",
       "    </tr>\n",
       "    <tr>\n",
       "      <th>32</th>\n",
       "      <td>8</td>\n",
       "      <td>9</td>\n",
       "      <td>5</td>\n",
       "      <td>0.0036</td>\n",
       "      <td>0.0008</td>\n",
       "      <td>0.924883</td>\n",
       "      <td>0.964202</td>\n",
       "      <td>0.000800</td>\n",
       "      <td>3.999710e-04</td>\n",
       "      <td>0.020428</td>\n",
       "      <td>0.005043</td>\n",
       "    </tr>\n",
       "    <tr>\n",
       "      <th>41</th>\n",
       "      <td>12</td>\n",
       "      <td>6</td>\n",
       "      <td>10</td>\n",
       "      <td>0.0060</td>\n",
       "      <td>0.0004</td>\n",
       "      <td>0.922535</td>\n",
       "      <td>0.951880</td>\n",
       "      <td>0.000633</td>\n",
       "      <td>4.898624e-04</td>\n",
       "      <td>0.024163</td>\n",
       "      <td>0.002955</td>\n",
       "    </tr>\n",
       "  </tbody>\n",
       "</table>\n",
       "</div>"
      ],
      "text/plain": [
       "   param_pca__n_components param_tree__max_depth param_tree__min_samples_leaf  \\\n",
       "0                        4                     3                            5   \n",
       "9                        4                     9                           10   \n",
       "1                        4                     3                           10   \n",
       "17                       6                     6                           10   \n",
       "13                       6                     3                           10   \n",
       "21                       6                     9                           10   \n",
       "5                        4                     6                           10   \n",
       "8                        4                     9                            5   \n",
       "32                       8                     9                            5   \n",
       "41                      12                     6                           10   \n",
       "\n",
       "    mean_fit_time  mean_score_time  mean_test_score  mean_train_score  \\\n",
       "0          0.0084           0.0002         0.929577          0.953640   \n",
       "9          0.0042           0.0008         0.929577          0.951880   \n",
       "1          0.0050           0.0008         0.929577          0.950707   \n",
       "17         0.0042           0.0010         0.929577          0.951880   \n",
       "13         0.0084           0.0006         0.929577          0.950707   \n",
       "21         0.0046           0.0008         0.929577          0.951880   \n",
       "5          0.0032           0.0002         0.929577          0.951880   \n",
       "8          0.0042           0.0006         0.924883          0.964202   \n",
       "32         0.0036           0.0008         0.924883          0.964202   \n",
       "41         0.0060           0.0004         0.922535          0.951880   \n",
       "\n",
       "    std_fit_time  std_score_time  std_test_score  std_train_score  \n",
       "0       0.009810    3.999710e-04        0.025666         0.005034  \n",
       "9       0.000980    3.999949e-04        0.026720         0.002955  \n",
       "1       0.002098    7.482900e-04        0.026720         0.003380  \n",
       "17      0.000400    1.168008e-07        0.026720         0.002955  \n",
       "13      0.007310    4.898624e-04        0.026720         0.003380  \n",
       "21      0.000490    3.999710e-04        0.026720         0.002955  \n",
       "5       0.000400    4.000664e-04        0.026720         0.002955  \n",
       "8       0.000400    4.899014e-04        0.029136         0.004690  \n",
       "32      0.000800    3.999710e-04        0.020428         0.005043  \n",
       "41      0.000633    4.898624e-04        0.024163         0.002955  "
      ]
     },
     "execution_count": 51,
     "metadata": {},
     "output_type": "execute_result"
    }
   ],
   "source": [
    "df_results = DataFrame(gscv_1.cv_results_)\n",
    "cols = filter(lambda x: 'param_' in x, df_results.columns) + filter(lambda x: 'mean_' in x or 'std_' in x, df_results.columns)\n",
    "\n",
    "df_results[cols].sort_values('mean_test_score', ascending=False)[:10]"
   ]
  },
  {
   "cell_type": "markdown",
   "metadata": {},
   "source": [
    "---\n",
    "# Practice"
   ]
  },
  {
   "cell_type": "code",
   "execution_count": 52,
   "metadata": {
    "collapsed": true
   },
   "outputs": [],
   "source": [
    "import numpy as np\n",
    "rnd = np.random.RandomState(seed=0)\n",
    "X = rnd.normal(size=(1000, 100))\n",
    "y = rnd.normal(size=(1000,))"
   ]
  },
  {
   "cell_type": "code",
   "execution_count": 53,
   "metadata": {},
   "outputs": [
    {
     "data": {
      "text/plain": [
       "(1000L, 100L)"
      ]
     },
     "execution_count": 53,
     "metadata": {},
     "output_type": "execute_result"
    }
   ],
   "source": [
    "X.shape"
   ]
  },
  {
   "cell_type": "code",
   "execution_count": 54,
   "metadata": {},
   "outputs": [
    {
     "data": {
      "text/plain": [
       "array([[ 1.76405235,  0.40015721,  0.97873798, ...,  1.78587049,\n",
       "         0.12691209,  0.40198936],\n",
       "       [ 1.8831507 , -1.34775906, -1.270485  , ...,  0.82350415,\n",
       "         2.16323595,  1.33652795],\n",
       "       [-0.36918184, -0.23937918,  1.0996596 , ...,  0.58295368,\n",
       "        -0.39944903,  0.37005589],\n",
       "       ..., \n",
       "       [ 1.28934577,  0.33166826, -1.27354493, ..., -0.67916278,\n",
       "         0.37037282, -0.38137454],\n",
       "       [-1.29397689, -0.41875812,  0.23463909, ..., -0.45557464,\n",
       "        -0.36280909, -2.26331621],\n",
       "       [-0.64481361, -0.74524313,  0.23341464, ...,  0.72618198,\n",
       "        -1.16783052, -1.28520765]])"
      ]
     },
     "execution_count": 54,
     "metadata": {},
     "output_type": "execute_result"
    }
   ],
   "source": [
    "X"
   ]
  },
  {
   "cell_type": "code",
   "execution_count": 55,
   "metadata": {},
   "outputs": [
    {
     "data": {
      "text/plain": [
       "array([ -4.83797492e-01,   1.28805706e+00,  -1.29878712e-01,\n",
       "        -1.98078388e-01,  -3.34487592e-01,  -3.91443186e-01,\n",
       "        -6.12406176e-01,  -6.76523964e-01,   1.32722966e+00,\n",
       "        -4.48695446e-01,  -3.16407305e-01,   3.08305560e-02,\n",
       "        -3.13356726e-01,  -1.73259184e-01,  -3.27368719e-01,\n",
       "         9.44368248e-01,   1.12201738e+00,   1.12338731e-01,\n",
       "         1.37234022e+00,   2.06256184e+00,  -2.44855900e+00,\n",
       "        -5.61988408e-01,   3.55098820e-01,   6.34378170e-01,\n",
       "        -3.92450091e-01,  -8.13156399e-01,  -2.32873263e-01,\n",
       "         2.46801210e-01,  -5.62413197e-01,  -8.41602015e-01,\n",
       "        -9.42120025e-01,   9.45373015e-01,   1.40910705e-01,\n",
       "         1.75356584e+00,  -3.47223685e-01,  -1.48949341e+00,\n",
       "        -5.08035412e-01,   1.99265003e+00,   5.55461973e-01,\n",
       "        -1.69607695e+00,   1.75236616e+00,  -5.97550816e-01,\n",
       "        -4.66491398e-01,  -1.09479228e+00,  -6.45424882e-01,\n",
       "        -2.02154830e-01,   2.05073469e-01,  -2.70385827e-01,\n",
       "        -3.10299496e-01,   3.62212675e-01,  -1.81816555e+00,\n",
       "        -1.00430343e-01,  -1.07051394e+00,  -2.07651066e+00,\n",
       "         1.72344003e+00,  -1.52277207e-01,  -3.63828686e-01,\n",
       "         3.42064219e-01,   1.40704235e+00,  -1.31616573e+00,\n",
       "        -2.15069760e+00,  -1.58087827e+00,  -3.61622291e-01,\n",
       "         1.15243341e+00,  -4.33415645e-01,   7.73872434e-01,\n",
       "        -8.34211609e-01,  -7.28239583e-01,   6.74975302e-01,\n",
       "        -4.77771574e-01,   1.49230140e+00,  -6.58390927e-01,\n",
       "         5.60483756e-01,  -5.13577546e-01,  -4.71255717e-01,\n",
       "         1.60828538e+00,  -1.38441337e+00,   2.27842264e+00,\n",
       "         1.38436816e+00,  -9.40810979e-01,   2.14957003e-02,\n",
       "         1.94766805e-01,  -1.29124409e+00,  -3.80129860e-01,\n",
       "        -8.06232064e-01,  -7.28004022e-01,  -1.08264860e+00,\n",
       "         1.09858496e+00,   1.32642238e-01,   1.84564472e+00,\n",
       "         2.18737088e+00,  -7.08384185e-01,   6.46514489e-01,\n",
       "        -5.51897242e-01,   2.37384107e-01,  -1.64395107e-02,\n",
       "        -2.91097738e-02,   1.64532533e+00,  -5.47951689e-01,\n",
       "         1.85312994e-01,   6.48870055e-01,  -3.81125832e-01,\n",
       "         8.17243613e-02,   1.00871094e+00,  -1.19352262e+00,\n",
       "         2.63776778e-01,  -8.99497210e-01,   3.36383219e-01,\n",
       "         2.71378848e-01,   5.52246763e-01,  -6.90883866e-01,\n",
       "         3.26488444e+00,   1.36376860e+00,  -5.43408561e-01,\n",
       "        -8.16077825e-01,   2.59395220e+00,   5.94516628e-01,\n",
       "         1.70803966e-02,  -8.44977705e-01,  -8.15162350e-01,\n",
       "        -6.34227458e-01,   9.06657790e-01,  -6.74456707e-01,\n",
       "         2.77773872e-01,   2.13403004e-01,  -6.03859581e-01,\n",
       "         5.62081304e-01,   4.13240257e-01,  -9.82699736e-01,\n",
       "         1.07151096e+00,   4.68792731e-01,  -1.04252573e-01,\n",
       "        -4.84111282e-01,  -2.29617997e-01,   9.66313757e-01,\n",
       "        -5.41536023e-01,  -3.24219677e-01,  -8.27071353e-02,\n",
       "         1.36741017e+00,  -1.20612748e+00,  -1.17930910e+00,\n",
       "         2.24610237e+00,  -1.55970706e+00,  -7.39600041e-01,\n",
       "        -1.24032694e-01,  -9.79401668e-02,  -8.02863945e-01,\n",
       "        -9.61119751e-01,  -1.26907057e+00,  -1.49095862e+00,\n",
       "         1.58731769e+00,   1.21660837e-01,  -1.45308252e+00,\n",
       "         1.18228041e+00,   6.03656598e-01,   6.34134048e-01,\n",
       "         6.64786955e-01,   1.04328613e+00,   1.75623925e-01,\n",
       "        -1.24641169e-01,  -4.21862106e-02,   7.87335795e-01,\n",
       "         7.27108382e-02,  -1.80877859e+00,   1.83819713e+00,\n",
       "         1.07828011e+00,  -3.55654251e-01,  -9.40437929e-01,\n",
       "         1.19889649e+00,  -3.80618507e-01,  -1.19395227e+00,\n",
       "         2.03359345e-01,   1.01472364e+00,  -2.72817229e+00,\n",
       "         7.93831792e-01,   1.12574863e-01,   5.68431667e-01,\n",
       "        -6.08987601e-01,   2.78908687e-01,   9.85170529e-01,\n",
       "         1.75375731e+00,   2.68105668e-01,   8.51915009e-01,\n",
       "         2.46601477e+00,  -2.98948732e-01,   8.54466439e-02,\n",
       "        -4.71545854e-01,  -5.30218708e-01,  -2.33460150e+00,\n",
       "        -4.46046331e-01,  -5.77542857e-01,  -6.92217800e-01,\n",
       "        -3.11945614e-01,   3.29447119e-01,  -1.31283432e+00,\n",
       "         3.39796605e-01,  -2.91046881e-01,   9.31088449e-01,\n",
       "         5.59935759e-01,  -6.45182240e-02,  -2.24062222e-03,\n",
       "        -5.15144737e-01,   5.34520680e-01,   3.00408915e-01,\n",
       "         2.32022344e-01,   2.18105312e+00,  -1.00160490e-01,\n",
       "        -6.05132983e-01,  -5.04701104e-01,   1.76231603e-02,\n",
       "        -5.13572932e-01,   1.34297666e+00,   4.13050428e-01,\n",
       "         1.04635971e+00,   8.61756175e-01,   4.78619742e-02,\n",
       "         4.63153693e-02,   3.84827112e-01,   1.61618206e+00,\n",
       "         8.71603282e-01,  -7.51006412e-01,   1.63905128e+00,\n",
       "         1.78390269e+00,   5.10913279e-01,  -4.67289740e-01,\n",
       "         1.12222805e+00,   9.88849992e-01,  -9.56113641e-01,\n",
       "         5.66357136e-01,   1.44700388e+00,  -7.86545576e-01,\n",
       "        -4.49045417e-01,   1.19744407e-01,  -9.32312379e-03,\n",
       "         5.89658865e-01,  -2.71980185e-01,   1.98219565e-01,\n",
       "        -2.04534823e-01,   4.86210276e-01,  -9.82571989e-01,\n",
       "         2.15380975e-01,  -1.16951396e+00,   1.46003816e+00,\n",
       "        -4.78680462e-01,  -2.16108355e-01,   1.31624126e+00,\n",
       "        -1.09521859e+00,  -2.37943194e-01,   4.41102539e-02,\n",
       "        -4.49662295e-01,  -5.12923420e-01,  -1.90902028e+00,\n",
       "         5.06823712e-01,   2.30206009e-01,  -7.66190292e-01,\n",
       "         7.25759980e-02,   9.88592303e-01,   1.08636553e+00,\n",
       "        -2.90282404e+00,  -5.36090473e-01,  -1.91121369e+00,\n",
       "         1.80437825e+00,  -1.21301293e+00,   1.38014572e+00,\n",
       "        -3.27749508e-01,   2.45058239e-01,  -7.64233371e-01,\n",
       "        -3.40427314e-01,   1.62498135e-01,   1.70613641e+00,\n",
       "         8.92700195e-01,   8.68599873e-01,  -5.19584977e-01,\n",
       "        -3.91616915e-03,  -1.34484119e+00,  -3.25028378e-01,\n",
       "        -7.40001280e-01,   1.77130236e-01,   6.16476724e-01,\n",
       "         1.75284875e+00,  -3.68005936e-01,  -1.01273964e+00,\n",
       "         7.68850126e-01,  -2.46772802e-01,   7.56365045e-01,\n",
       "         9.35718299e-01,   1.06220664e+00,   2.33051647e+00,\n",
       "        -5.72012736e-01,   5.46740654e-01,   5.63519517e-01,\n",
       "        -9.24911511e-01,   2.75884680e+00,   8.31434548e-01,\n",
       "         1.93903576e-01,   7.62848541e-01,  -4.10472645e-01,\n",
       "        -1.94060296e+00,  -3.03229170e-01,   4.36319563e-01,\n",
       "         1.21511369e+00,   2.10583900e+00,   1.18286297e+00,\n",
       "         3.33903202e-01,  -8.79504913e-01,   1.28899550e+00,\n",
       "        -8.49356305e-01,   2.11114797e-01,  -1.25455525e+00,\n",
       "        -6.69984189e-01,   1.54566771e-01,   9.60725814e-01,\n",
       "         9.34915929e-01,   8.39740111e-01,   6.36961403e-01,\n",
       "         1.09196914e+00,   1.81359303e+00,   9.55626508e-01,\n",
       "        -1.99059321e-01,  -8.04290280e-01,   6.52892379e-01,\n",
       "        -5.53436127e-02,  -9.92742155e-01,  -5.95138236e-01,\n",
       "        -5.51041882e-02,   6.26208098e-01,   2.30666892e+00,\n",
       "        -2.07707317e-01,   7.10915436e-01,  -1.11686201e+00,\n",
       "         5.86868011e-01,  -1.02051705e+00,  -4.09645534e-01,\n",
       "         5.80816002e-01,   1.02965872e+00,   6.48265231e-01,\n",
       "        -2.19456819e-01,  -1.48349641e+00,  -1.18495332e-01,\n",
       "         4.19494368e-01,   2.13600162e+00,  -4.91810376e-01,\n",
       "        -7.19454123e-01,  -1.35615761e+00,   2.67011344e-01,\n",
       "         6.54612699e-01,  -2.10446692e-01,  -1.67042833e-01,\n",
       "         5.70331584e-01,  -4.55941080e-01,   1.04403436e+00,\n",
       "         1.27739484e+00,  -5.56597216e-01,   1.60240081e+00,\n",
       "         2.66189340e-01,  -4.30480015e-01,   2.32733845e-01,\n",
       "        -6.95745344e-01,   8.52960842e-01,  -1.70496126e-01,\n",
       "         1.00207798e+00,  -4.33039646e-01,  -1.41754603e-01,\n",
       "        -1.36631232e-01,   1.15691110e+00,   1.19594947e+00,\n",
       "        -6.12057812e-01,   3.76121630e-01,   1.30390170e+00,\n",
       "        -6.34438928e-01,   5.40904030e-01,  -2.10679350e-01,\n",
       "         1.71266599e+00,  -1.59984782e-01,   1.69791228e+00,\n",
       "        -1.22855834e+00,  -1.13581757e+00,   2.61695315e+00,\n",
       "         8.23801044e-01,  -1.17581436e+00,   1.13978697e+00,\n",
       "        -2.37616288e+00,  -2.44834975e-01,   1.05052400e-01,\n",
       "         1.44656016e+00,   3.27866758e-01,  -9.93935645e-01,\n",
       "        -9.70025632e-01,  -1.24122432e+00,   1.12038855e+00,\n",
       "         1.45872603e+00,  -1.93215924e+00,  -2.35451182e-01,\n",
       "        -6.73358143e-02,   4.00103766e-01,   2.34367050e-01,\n",
       "         7.39084986e-01,  -2.94471297e-01,  -3.46648520e-01,\n",
       "        -1.58427088e-01,   3.66283102e-01,  -6.11627186e-01,\n",
       "        -2.26435794e-01,   1.52103272e+00,  -6.15032585e-01,\n",
       "        -1.52020917e+00,  -5.91383286e-01,  -4.05245730e-01,\n",
       "        -1.48657014e+00,  -1.94831121e+00,  -5.20796858e-01,\n",
       "         4.27482936e-01,   3.04670989e-01,  -2.00964155e+00,\n",
       "        -1.53962971e+00,  -4.01181289e-01,   1.51126474e+00,\n",
       "        -7.30319388e-01,  -5.12924054e-01,  -8.28643862e-01,\n",
       "         6.95798486e-02,   1.76032463e+00,  -3.30514858e-01,\n",
       "        -8.45502310e-01,  -1.47746614e+00,   1.21753561e+00,\n",
       "         3.04644226e-01,   1.55736546e+00,   2.02843084e-01,\n",
       "         1.60110030e-01,   9.33804746e-01,  -1.32272222e-01,\n",
       "         5.62312895e-01,  -1.10531658e+00,   3.33977112e-01,\n",
       "         7.38848271e-01,  -5.67559730e-01,   1.45874014e+00,\n",
       "         9.00202503e-01,   7.75467128e-01,   1.24474511e+00,\n",
       "        -9.45384174e-01,  -2.03836949e-02,  -7.51467407e-01,\n",
       "         2.12076772e-01,   2.85037953e-01,   1.25460994e-01,\n",
       "         2.03533914e-01,  -3.76495483e-01,  -9.38780205e-01,\n",
       "        -1.42878899e-01,   5.33262796e-01,  -2.60658311e+00,\n",
       "        -8.21614847e-01,  -7.32882515e-01,  -1.43605344e+00,\n",
       "         2.98016942e-01,   1.72355227e+00,  -1.26785169e-01,\n",
       "         1.20485796e+00,  -1.21536827e+00,  -4.43719070e-01,\n",
       "         7.44056047e-01,   9.14180761e-01,   1.58648334e+00,\n",
       "         6.92801813e-01,  -9.53431187e-01,   6.79359930e-01,\n",
       "         5.65152836e-01,   2.19302491e-01,  -1.11050413e+00,\n",
       "        -1.08606132e+00,   1.13562195e+00,  -1.12529775e+00,\n",
       "        -3.66437541e-01,  -1.69660207e-02,  -5.67775851e-01,\n",
       "         5.19857972e-01,  -4.15620872e-01,  -1.24134945e+00,\n",
       "        -4.51795699e-01,   1.26293745e+00,  -1.96063159e+00,\n",
       "        -2.06491430e+00,   1.25864798e+00,  -1.03185646e+00,\n",
       "         6.45146260e-01,  -6.39001004e-02,   3.05844476e-01,\n",
       "         3.71489460e-01,   3.21896944e+00,   8.67177625e-01,\n",
       "        -6.35630743e-01,  -1.22562459e+00,  -6.23697766e-01,\n",
       "         2.00426758e+00,   3.19346051e-01,  -2.98606556e-01,\n",
       "        -8.11628080e-02,   1.12760555e+00,   4.35980933e-01,\n",
       "        -8.63741632e-01,  -8.41121456e-01,   8.13471536e-02,\n",
       "        -2.58768240e+00,  -4.16436429e-01,  -1.07785901e+00,\n",
       "        -4.28085619e-01,  -1.83735182e-01,  -4.34253712e-01,\n",
       "        -2.12495462e+00,  -7.09055913e-01,   4.85630955e-01,\n",
       "        -2.25165230e-01,  -4.22529758e-01,   7.28376831e-01,\n",
       "        -4.00867737e-01,   1.73818212e+00,  -2.58913184e+00,\n",
       "        -3.58014056e-02,   7.63040026e-01,   1.22157077e+00,\n",
       "         5.62327952e-01,  -2.76744478e-01,  -7.78877345e-01,\n",
       "         6.42550132e-01,  -2.79024486e-01,  -6.01394968e-02,\n",
       "         9.22658224e-01,  -1.28562854e+00,   5.12411706e-01,\n",
       "         6.54319638e-01,   6.98586126e-01,  -1.18639655e+00,\n",
       "        -7.74339166e-01,  -8.03689865e-01,   1.51154413e-01,\n",
       "        -2.06173972e-01,   2.21561617e-01,   1.42455808e+00,\n",
       "         6.43350268e-01,   2.17140547e-01,   1.02317769e+00,\n",
       "         8.84522418e-01,   1.22376458e+00,   7.28524102e-01,\n",
       "        -2.87063939e-01,  -1.13453038e+00,   4.28564532e-01,\n",
       "        -9.71567071e-01,   5.58367971e-01,  -1.25290926e+00,\n",
       "        -5.54292361e-02,  -1.15774898e+00,  -8.33748133e-01,\n",
       "        -9.09581515e-01,   5.95269891e-01,   4.27646794e-01,\n",
       "         4.74127254e-01,  -4.77880914e-01,  -5.79144490e-01,\n",
       "         2.01326675e+00,   6.43128353e-02,  -1.70630579e+00,\n",
       "         2.72723399e-01,   1.68728651e-01,   6.58984051e-01,\n",
       "         2.41297412e-01,   3.87608935e-01,   1.53511320e-01,\n",
       "        -7.32849595e-01,   6.01347058e-01,  -8.15553130e-01,\n",
       "        -1.54495501e+00,   8.40811378e-01,   8.77092280e-02,\n",
       "        -5.94292721e-01,   1.50204334e+00,   5.60555086e-01,\n",
       "         1.14096333e+00,   1.96132322e+00,   1.12027250e+00,\n",
       "        -3.54635134e-01,   2.11608282e+00,   5.87430031e-01,\n",
       "        -6.32191520e-01,  -1.21089425e+00,   1.71643932e-01,\n",
       "        -2.54926165e-01,  -1.20340458e+00,   1.02636981e+00,\n",
       "         9.42259470e-01,   2.08889102e-01,  -1.04787175e-01,\n",
       "        -1.27056956e+00,  -1.18362086e+00,  -7.86733407e-01,\n",
       "         1.75242609e+00,  -7.36837177e-01,   3.62483970e-01,\n",
       "        -5.36404625e-01,  -1.83705092e+00,   1.13797867e-01,\n",
       "         6.02475197e-01,  -2.50853990e-01,  -2.52865211e-01,\n",
       "         1.60510520e+00,   3.42720729e-02,   1.51531946e+00,\n",
       "        -1.04202087e+00,  -4.63077694e-01,   1.47487882e-01,\n",
       "        -9.71325357e-01,   5.88521037e-02,   3.36251504e-01,\n",
       "         2.53067318e-01,   3.10735316e-01,   1.84808071e-01,\n",
       "         2.76437819e-01,  -2.15246637e+00,   2.71784506e+00,\n",
       "         1.10536456e+00,   8.58264964e-01,  -1.12292882e-01,\n",
       "         1.10516395e+00,  -7.33984561e-01,   6.96830615e-02,\n",
       "        -2.67444403e-01,  -2.64715515e-01,   1.12275504e+00,\n",
       "         2.60727594e-01,   1.80201979e+00,  -6.89268015e-01,\n",
       "        -9.33775800e-02,  -2.25158777e-01,  -1.36643074e+00,\n",
       "         3.17925830e-01,   4.87223378e-02,   4.73571816e-01,\n",
       "         2.41525109e-02,   8.64704671e-01,   6.10302753e-01,\n",
       "        -2.13973329e-01,  -4.48485488e-01,   1.40129211e+00,\n",
       "         3.16015562e-01,  -3.19710377e-01,   1.72007616e+00,\n",
       "         3.04695864e+00,  -2.64164963e-01,  -1.42249621e+00,\n",
       "        -7.58097537e-01,  -9.87367478e-01,   1.95716809e-01,\n",
       "        -4.10219714e-01,   2.14463831e-01,  -7.27218241e-01,\n",
       "        -1.28185262e+00,  -3.53850271e-01,   5.93434054e-01,\n",
       "         9.04515568e-02,  -5.68585738e-01,  -7.60932555e-01,\n",
       "         4.19407321e-01,   8.67404784e-01,  -1.39044505e+00,\n",
       "         1.77442655e-02,   8.74074650e-01,  -5.92433532e-01,\n",
       "        -1.75021607e+00,  -7.92060818e-02,  -1.35806806e+00,\n",
       "         1.19749594e+00,   1.02745003e+00,  -8.47148748e-01,\n",
       "         1.35482145e+00,  -1.01407154e+00,   9.86384097e-01,\n",
       "        -9.35340877e-01,  -8.69441491e-01,   3.17038882e-01,\n",
       "         1.44840369e+00,   6.90673769e-01,   8.03708234e-01,\n",
       "        -1.45831220e+00,  -3.53133390e-01,  -3.40825578e-01,\n",
       "         1.53034166e+00,   5.34052853e-01,   6.25034039e-01,\n",
       "         1.37671377e+00,  -5.11551231e-01,   2.11080809e+00,\n",
       "         1.53400729e+00,  -1.66322900e-03,   8.13266432e-02,\n",
       "        -1.15838464e+00,  -7.17936914e-01,  -7.17706517e-01,\n",
       "         1.15510084e+00,   1.65405768e+00,  -4.20881118e-01,\n",
       "         4.49642208e-01,  -9.33851462e-01,  -5.61655299e-01,\n",
       "         6.69706814e-01,   3.91388197e-01,  -3.26923118e-01,\n",
       "         2.20818073e-01,   5.48998197e-01,  -8.62480115e-01,\n",
       "         1.21480619e-02,   1.16656783e+00,   1.53524903e-01,\n",
       "        -1.47905404e-01,  -1.08102782e+00,   5.30685459e-01,\n",
       "        -4.21922430e-01,  -4.57148019e-01,  -1.60843550e+00,\n",
       "         9.21878021e-01,  -2.35902641e-01,   2.73974815e-01,\n",
       "         2.93375315e-01,   2.91007090e+00,  -9.17229155e-01,\n",
       "         1.73332575e+00,   1.42346047e+00,  -3.69576745e-01,\n",
       "         1.80464550e+00,   5.19676942e-01,  -2.23775646e-02,\n",
       "        -6.09745120e-02,   4.09360711e-01,  -1.43131425e+00,\n",
       "         4.74587988e-01,  -2.65866577e-01,   1.21889533e-01,\n",
       "         9.20118339e-03,   6.91589667e-01,  -1.28066120e+00,\n",
       "         4.02548578e-01,   1.15752846e+00,   4.06735539e-01,\n",
       "         9.41553633e-01,   4.42830731e-01,  -3.00077407e-01,\n",
       "        -9.42655078e-01,  -1.03200856e+00,   7.78273102e-01,\n",
       "         6.64209438e-01,   8.44706233e-01,  -7.67237103e-01,\n",
       "        -1.02066970e+00,  -1.93546870e-01,   6.97221889e-01,\n",
       "        -8.54984069e-01,   4.58985438e-02,  -3.16515094e-02,\n",
       "        -9.94729598e-01,   5.99444082e-02,  -1.63562899e+00,\n",
       "         1.48861746e+00,  -1.18043332e+00,  -5.64989440e-01,\n",
       "        -3.14129172e-01,  -5.54006553e-01,  -2.68782870e-02,\n",
       "         1.90747981e-01,   3.30060136e-01,  -9.48882569e-03,\n",
       "         1.28476511e+00,   7.84890599e-01,  -1.86258374e+00,\n",
       "        -1.50452924e+00,   7.75704178e-01,  -5.15119830e-01,\n",
       "         3.48849257e+00,   6.41055123e-01,  -8.50772995e-01,\n",
       "         2.53088597e-01,   4.63531933e-01,   1.56921787e+00,\n",
       "         1.85181718e+00,  -1.38781178e+00,   6.40360296e-01,\n",
       "        -1.15279945e+00,   5.96740940e-01,   1.18017353e-01,\n",
       "         5.74493017e-01,   2.15395998e-01,  -4.85942156e-01,\n",
       "         2.95797184e-01,   4.45109185e-01,   1.21547417e+00,\n",
       "         3.18532831e-01,   1.40336106e-01,   4.06874477e-02,\n",
       "         5.65776632e-01,  -2.61953448e+00,  -7.96735118e-01,\n",
       "        -9.21456769e-01,  -7.22099035e-01,   1.10619940e+00,\n",
       "        -1.44564510e+00,  -2.18634499e-01,  -2.08227705e+00,\n",
       "        -1.36541512e+00,   1.83051559e+00,  -4.39377416e-03,\n",
       "        -1.72687427e+00,  -4.59845065e-01,   2.74426909e+00,\n",
       "        -7.71168644e-01,   2.11955557e-01,   6.65739953e-01,\n",
       "         1.87257051e+00,   8.71308746e-01,  -7.07813389e-02,\n",
       "        -2.83453076e-01,  -1.81305721e-01,   8.83785526e-01,\n",
       "         1.07588353e+00,  -9.43579446e-02,  -2.99860902e-01,\n",
       "        -1.21433302e+00,   1.56408301e-01,  -6.58904115e-01,\n",
       "        -1.51530283e+00,  -4.57978440e-01,   1.29808523e+00,\n",
       "         2.58921626e-01,  -6.55194403e-01,   5.27018271e-01,\n",
       "         7.99009447e-01,   5.01388546e-01,  -5.96968397e-01,\n",
       "         9.25185178e-01,   1.49751659e-01,   3.83547273e-01,\n",
       "         2.24510659e-01,   3.39905320e-01,   9.98856000e-01,\n",
       "        -2.96162919e-01,  -1.24412239e+00,  -1.02782913e+00,\n",
       "         6.65102280e-01,  -1.14475522e+00,  -9.83348057e-01,\n",
       "        -1.83476218e+00,   7.75775397e-01,   4.77024731e-01,\n",
       "        -1.57431387e+00,  -1.19044832e+00,  -1.20040799e+00,\n",
       "         4.25613427e-01,   1.48691177e+00,  -8.60315831e-02,\n",
       "        -2.57595881e-01,  -1.20158975e-02,   4.86257104e-01,\n",
       "         5.25990027e-02,   4.88484246e-01,   2.98373272e-01,\n",
       "        -1.54911538e+00,  -9.90513962e-01,   6.26933005e-01,\n",
       "         1.08643194e-01,  -2.45601457e-01,  -1.65659660e-01,\n",
       "        -9.91461333e-01,  -2.91122505e-01,   3.20665072e-01,\n",
       "        -2.00598720e+00,  -1.44800204e+00,   7.95850509e-01,\n",
       "        -9.72233478e-01,   5.91765357e-02,  -6.31208777e-01,\n",
       "         2.81421315e-01,  -4.71852442e-01,  -4.77741673e-01,\n",
       "        -8.81666534e-01,   5.70166962e-01,  -8.23492124e-01,\n",
       "        -1.64737715e+00,  -2.11414585e-01,   7.33722017e-01,\n",
       "         1.70688609e+00,   1.09266054e-01,   5.08482023e-01,\n",
       "        -1.01569435e+00,  -6.82323556e-01,   4.12177877e-01,\n",
       "        -9.07771608e-02,   3.88144207e-03,   2.60900014e+00,\n",
       "         1.11891026e+00,  -1.91259291e+00,  -3.77675688e-01,\n",
       "         4.36197149e-01,   5.57256671e-02,  -8.21820706e-02,\n",
       "        -7.63101109e-01,   4.51987419e-01,  -2.43823452e+00,\n",
       "         1.08676521e-01,   7.39314499e-01,  -4.81885155e-02,\n",
       "        -3.63557467e-01,  -3.68661785e-01,  -1.46664744e+00,\n",
       "         1.11645622e+00,  -9.66942245e-01,   7.04079833e-01,\n",
       "         1.26700045e+00,  -1.75809576e+00,   8.31064584e-02,\n",
       "         1.85700411e+00,  -5.32380763e-01,   7.72639960e-01,\n",
       "        -5.26305441e-01,  -1.63710467e+00,   1.46538740e+00,\n",
       "         1.31024369e+00,  -1.87143007e+00,   7.40125978e-01,\n",
       "         1.46407933e+00,  -3.64106207e-01,   5.39380806e-01,\n",
       "        -4.79603585e-01,  -1.04036507e+00,  -4.57575926e-01,\n",
       "         1.81714233e+00,   1.28592303e+00,   8.89719215e-01,\n",
       "         1.05495063e+00,   1.36003009e+00,  -3.50446584e-01,\n",
       "        -6.13737343e-01,   1.40294373e+00,   7.41342749e-01,\n",
       "         1.42883384e+00,   1.39406355e+00,   1.45014390e+00,\n",
       "         7.18551136e-01,   4.19618363e-01,   1.18007459e+00,\n",
       "        -1.09727159e+00,   1.07797294e+00,  -3.04653757e-01,\n",
       "         1.43236563e-01,  -7.69226449e-01,   4.68453447e-01,\n",
       "        -4.52758208e-01,  -3.74213121e-03,   9.63315595e-01,\n",
       "        -1.64763930e+00,  -6.60688346e-01,   7.93567214e-01,\n",
       "         1.41746061e+00,   1.27713319e+00,   1.16006056e-01,\n",
       "         8.81745717e-01,   1.27003848e+00,   5.53040960e-01,\n",
       "        -1.26216118e+00,  -3.48810464e-01,  -1.74375268e-02,\n",
       "         5.47883535e-01,  -1.41852559e+00,   2.17602046e-02,\n",
       "        -1.19660994e+00,  -6.34871140e-01,   1.18896776e+00,\n",
       "         9.76005024e-02,   2.57404971e+00,  -3.77322251e-01,\n",
       "        -4.61389934e-01,  -9.86436491e-02,   5.41701375e-02,\n",
       "         2.87692002e-01,  -1.75488360e+00,   9.25341978e-01,\n",
       "         2.83199152e-01,   1.94110029e+00,   1.47107765e+00,\n",
       "        -1.40930319e+00,  -5.84172687e-01,   6.40412838e-01,\n",
       "        -8.92053441e-01,  -1.55175321e+00,   4.82891208e-01,\n",
       "        -2.64566980e-01,   1.10874291e+00,  -2.82829747e-01,\n",
       "        -1.58070269e-02,   1.54137808e+00,  -8.81338329e-01,\n",
       "        -4.43835185e-01])"
      ]
     },
     "execution_count": 55,
     "metadata": {},
     "output_type": "execute_result"
    }
   ],
   "source": [
    "y"
   ]
  },
  {
   "cell_type": "markdown",
   "metadata": {},
   "source": [
    "### Without Pipeline"
   ]
  },
  {
   "cell_type": "code",
   "execution_count": 56,
   "metadata": {},
   "outputs": [
    {
     "data": {
      "text/plain": [
       "(1000L, 5L)"
      ]
     },
     "execution_count": 56,
     "metadata": {},
     "output_type": "execute_result"
    }
   ],
   "source": [
    "from sklearn.feature_selection import SelectPercentile, f_regression\n",
    "\n",
    "# SelectPercentile will retain the x% highest scores\n",
    "select = SelectPercentile(score_func=f_regression, percentile=5).fit(X, y)\n",
    "X_selected = select.transform(X)\n",
    "\n",
    "X_selected.shape"
   ]
  },
  {
   "cell_type": "code",
   "execution_count": 57,
   "metadata": {},
   "outputs": [
    {
     "name": "stdout",
     "output_type": "stream",
     "text": [
      "[-1.02335858 -0.97113231 -1.00493149 -0.92307327 -0.97330667]\n",
      "-0.979160465537\n"
     ]
    }
   ],
   "source": [
    "from sklearn.model_selection import cross_val_score\n",
    "from sklearn.linear_model import Ridge\n",
    "\n",
    "print cross_val_score(Ridge(), X_selected, y, cv=5, scoring='neg_mean_squared_error')\n",
    "print np.mean(cross_val_score(Ridge(), X_selected, y, cv=5, scoring='neg_mean_squared_error'))"
   ]
  },
  {
   "cell_type": "markdown",
   "metadata": {},
   "source": [
    "### With Pipeline"
   ]
  },
  {
   "cell_type": "code",
   "execution_count": 58,
   "metadata": {},
   "outputs": [
    {
     "name": "stdout",
     "output_type": "stream",
     "text": [
      "[-1.0908141  -1.01087973 -1.02167786 -0.92802126 -1.01231244]\n",
      "-1.01274107619\n"
     ]
    }
   ],
   "source": [
    "pipe = Pipeline([(\"select\", SelectPercentile(score_func=f_regression,\n",
    "                                             percentile=5)),\n",
    "                 (\"ridge\", Ridge())])\n",
    "\n",
    "\n",
    "print cross_val_score(pipe, X, y, cv=5, scoring='neg_mean_squared_error')\n",
    "print np.mean(cross_val_score(pipe, X, y, cv=5, scoring='neg_mean_squared_error'))"
   ]
  },
  {
   "cell_type": "code",
   "execution_count": 59,
   "metadata": {
    "collapsed": true
   },
   "outputs": [],
   "source": [
    "from sklearn.pipeline import make_pipeline\n",
    "from sklearn.linear_model import LogisticRegression\n",
    "pipe = make_pipeline(StandardScaler(), LogisticRegression())"
   ]
  },
  {
   "cell_type": "code",
   "execution_count": 60,
   "metadata": {
    "collapsed": true
   },
   "outputs": [],
   "source": [
    "param_grid = {'logisticregression__C': [0.01, 0.1, 1, 10, 100]}"
   ]
  },
  {
   "cell_type": "code",
   "execution_count": 61,
   "metadata": {},
   "outputs": [
    {
     "data": {
      "text/plain": [
       "GridSearchCV(cv=5, error_score='raise',\n",
       "       estimator=Pipeline(memory=None,\n",
       "     steps=[('standardscaler', StandardScaler(copy=True, with_mean=True, with_std=True)), ('logisticregression', LogisticRegression(C=1.0, class_weight=None, dual=False, fit_intercept=True,\n",
       "          intercept_scaling=1, max_iter=100, multi_class='ovr', n_jobs=1,\n",
       "          penalty='l2', random_state=None, solver='liblinear', tol=0.0001,\n",
       "          verbose=0, warm_start=False))]),\n",
       "       fit_params=None, iid=True, n_jobs=1,\n",
       "       param_grid={'logisticregression__C': [0.01, 0.1, 1, 10, 100]},\n",
       "       pre_dispatch='2*n_jobs', refit=True, return_train_score='warn',\n",
       "       scoring=None, verbose=0)"
      ]
     },
     "execution_count": 61,
     "metadata": {},
     "output_type": "execute_result"
    }
   ],
   "source": [
    "cancer = load_breast_cancer()\n",
    "X_train, X_test, y_train, y_test = train_test_split(cancer.data, cancer.target, random_state=4)\n",
    "grid = GridSearchCV(pipe, param_grid, cv=5)\n",
    "grid.fit(X_train, y_train)"
   ]
  },
  {
   "cell_type": "code",
   "execution_count": 62,
   "metadata": {},
   "outputs": [
    {
     "name": "stdout",
     "output_type": "stream",
     "text": [
      "Best estimator:\n",
      "Pipeline(memory=None,\n",
      "     steps=[('standardscaler', StandardScaler(copy=True, with_mean=True, with_std=True)), ('logisticregression', LogisticRegression(C=0.1, class_weight=None, dual=False, fit_intercept=True,\n",
      "          intercept_scaling=1, max_iter=100, multi_class='ovr', n_jobs=1,\n",
      "          penalty='l2', random_state=None, solver='liblinear', tol=0.0001,\n",
      "          verbose=0, warm_start=False))])\n"
     ]
    }
   ],
   "source": [
    "print(\"Best estimator:\\n{}\".format(grid.best_estimator_))"
   ]
  },
  {
   "cell_type": "code",
   "execution_count": 63,
   "metadata": {},
   "outputs": [
    {
     "name": "stdout",
     "output_type": "stream",
     "text": [
      "Logistic regression step:\n",
      "LogisticRegression(C=0.1, class_weight=None, dual=False, fit_intercept=True,\n",
      "          intercept_scaling=1, max_iter=100, multi_class='ovr', n_jobs=1,\n",
      "          penalty='l2', random_state=None, solver='liblinear', tol=0.0001,\n",
      "          verbose=0, warm_start=False)\n"
     ]
    }
   ],
   "source": [
    "print(\"Logistic regression step:\\n{}\".format(\n",
    "      grid.best_estimator_.named_steps[\"logisticregression\"]))"
   ]
  },
  {
   "cell_type": "code",
   "execution_count": 64,
   "metadata": {},
   "outputs": [
    {
     "name": "stdout",
     "output_type": "stream",
     "text": [
      "Logistic regression coefficients:\n",
      "[[-0.38856355 -0.37529972 -0.37624793 -0.39649439 -0.11519359  0.01709608\n",
      "  -0.3550729  -0.38995414 -0.05780518  0.20879795 -0.49487753 -0.0036321\n",
      "  -0.37122718 -0.38337777 -0.04488715  0.19752816  0.00424822 -0.04857196\n",
      "   0.21023226  0.22444999 -0.54669761 -0.52542026 -0.49881157 -0.51451071\n",
      "  -0.39256847 -0.12293451 -0.38827425 -0.4169485  -0.32533663 -0.13926972]]\n"
     ]
    }
   ],
   "source": [
    "print(\"Logistic regression coefficients:\\n{}\".format(\n",
    "      grid.best_estimator_.named_steps[\"logisticregression\"].coef_))"
   ]
  },
  {
   "cell_type": "markdown",
   "metadata": {},
   "source": [
    "---\n",
    "### Grid-searching preprocessing steps and model parameters"
   ]
  },
  {
   "cell_type": "code",
   "execution_count": 65,
   "metadata": {
    "collapsed": true
   },
   "outputs": [],
   "source": [
    "from sklearn.datasets import load_boston\n",
    "from sklearn.preprocessing import PolynomialFeatures\n",
    "\n",
    "boston = load_boston()\n",
    "X_train, X_test, y_train, y_test = train_test_split(boston.data, boston.target,\n",
    "                                                    random_state=0)\n",
    "\n",
    "pipe = make_pipeline(\n",
    "    StandardScaler(),\n",
    "    PolynomialFeatures(),\n",
    "    Ridge())"
   ]
  },
  {
   "cell_type": "code",
   "execution_count": 66,
   "metadata": {
    "collapsed": true,
    "scrolled": true
   },
   "outputs": [],
   "source": [
    "param_grid = {'polynomialfeatures__degree': [1, 2, 3],\n",
    "              'ridge__alpha': [0.001, 0.01, 0.1, 1, 10, 100]}"
   ]
  },
  {
   "cell_type": "code",
   "execution_count": 67,
   "metadata": {
    "scrolled": true
   },
   "outputs": [
    {
     "name": "stdout",
     "output_type": "stream",
     "text": [
      "Fitting 5 folds for each of 18 candidates, totalling 90 fits\n"
     ]
    },
    {
     "name": "stderr",
     "output_type": "stream",
     "text": [
      "[Parallel(n_jobs=1)]: Done  90 out of  90 | elapsed:    6.0s finished\n"
     ]
    },
    {
     "data": {
      "text/plain": [
       "GridSearchCV(cv=5, error_score='raise',\n",
       "       estimator=Pipeline(memory=None,\n",
       "     steps=[('standardscaler', StandardScaler(copy=True, with_mean=True, with_std=True)), ('polynomialfeatures', PolynomialFeatures(degree=2, include_bias=True, interaction_only=False)), ('ridge', Ridge(alpha=1.0, copy_X=True, fit_intercept=True, max_iter=None,\n",
       "   normalize=False, random_state=None, solver='auto', tol=0.001))]),\n",
       "       fit_params=None, iid=True, n_jobs=1,\n",
       "       param_grid={'ridge__alpha': [0.001, 0.01, 0.1, 1, 10, 100], 'polynomialfeatures__degree': [1, 2, 3]},\n",
       "       pre_dispatch='2*n_jobs', refit=True, return_train_score='warn',\n",
       "       scoring=None, verbose=True)"
      ]
     },
     "execution_count": 67,
     "metadata": {},
     "output_type": "execute_result"
    }
   ],
   "source": [
    "grid = GridSearchCV(pipe, param_grid=param_grid, \n",
    "                    cv=5, verbose=True)\n",
    "grid.fit(X_train, y_train)"
   ]
  },
  {
   "cell_type": "code",
   "execution_count": 68,
   "metadata": {},
   "outputs": [
    {
     "data": {
      "text/plain": [
       "<matplotlib.colorbar.Colorbar at 0x1f4b9fd0>"
      ]
     },
     "execution_count": 68,
     "metadata": {},
     "output_type": "execute_result"
    },
    {
     "data": {
      "image/png": "[encoded data removed]",
      "text/plain": [
       "<matplotlib.figure.Figure at 0x1f1ca358>"
      ]
     },
     "metadata": {},
     "output_type": "display_data"
    }
   ],
   "source": [
    "plt.matshow(grid.cv_results_['mean_test_score'].reshape(3, -1),\n",
    "            vmin=0, cmap=\"viridis\")\n",
    "plt.xlabel(\"ridge__alpha\")\n",
    "plt.ylabel(\"polynomialfeatures__degree\")\n",
    "plt.xticks(range(len(param_grid['ridge__alpha'])), param_grid['ridge__alpha'])\n",
    "plt.yticks(range(len(param_grid['polynomialfeatures__degree'])),\n",
    "           param_grid['polynomialfeatures__degree'])\n",
    "\n",
    "plt.colorbar()"
   ]
  },
  {
   "cell_type": "code",
   "execution_count": 69,
   "metadata": {},
   "outputs": [
    {
     "name": "stdout",
     "output_type": "stream",
     "text": [
      "Best parameters: {'ridge__alpha': 10, 'polynomialfeatures__degree': 2}\n"
     ]
    }
   ],
   "source": [
    "print(\"Best parameters: {}\".format(grid.best_params_))"
   ]
  },
  {
   "cell_type": "code",
   "execution_count": 70,
   "metadata": {},
   "outputs": [
    {
     "name": "stdout",
     "output_type": "stream",
     "text": [
      "Test-set score: 0.77\n"
     ]
    }
   ],
   "source": [
    "print(\"Test-set score: {:.2f}\".format(grid.score(X_test, y_test)))"
   ]
  },
  {
   "cell_type": "code",
   "execution_count": 71,
   "metadata": {},
   "outputs": [
    {
     "name": "stdout",
     "output_type": "stream",
     "text": [
      "Score without poly features: 0.63\n"
     ]
    }
   ],
   "source": [
    "param_grid = {'ridge__alpha': [0.001, 0.01, 0.1, 1, 10, 100]}\n",
    "pipe = make_pipeline(StandardScaler(), Ridge())\n",
    "grid = GridSearchCV(pipe, param_grid, cv=5)\n",
    "grid.fit(X_train, y_train)\n",
    "print(\"Score without poly features: {:.2f}\".format(grid.score(X_test, y_test)))"
   ]
  },
  {
   "cell_type": "code",
   "execution_count": 72,
   "metadata": {
    "collapsed": true
   },
   "outputs": [],
   "source": [
    "pipe = Pipeline([('preprocessing', StandardScaler()), ('classifier', SVC())])"
   ]
  },
  {
   "cell_type": "code",
   "execution_count": 73,
   "metadata": {
    "collapsed": true
   },
   "outputs": [],
   "source": [
    "from sklearn.ensemble import RandomForestClassifier\n",
    "\n",
    "param_grid = [\n",
    "    {'classifier': [SVC()], 'preprocessing': [StandardScaler(), None],\n",
    "     'classifier__gamma': [0.001, 0.01, 0.1, 1, 10, 100],\n",
    "     'classifier__C': [0.001, 0.01, 0.1, 1, 10, 100]},\n",
    "    {'classifier': [RandomForestClassifier(n_estimators=100)],\n",
    "     'preprocessing': [None], 'classifier__max_features': [1, 2, 3]}]"
   ]
  },
  {
   "cell_type": "code",
   "execution_count": 74,
   "metadata": {},
   "outputs": [
    {
     "name": "stdout",
     "output_type": "stream",
     "text": [
      "Best params:\n",
      "{'classifier__gamma': 0.01, 'preprocessing': StandardScaler(copy=True, with_mean=True, with_std=True), 'classifier': SVC(C=10, cache_size=200, class_weight=None, coef0=0.0,\n",
      "  decision_function_shape='ovr', degree=3, gamma=0.01, kernel='rbf',\n",
      "  max_iter=-1, probability=False, random_state=None, shrinking=True,\n",
      "  tol=0.001, verbose=False), 'classifier__C': 10}\n",
      "\n",
      "Best cross-validation score: 0.99\n",
      "Test-set score: 0.98\n"
     ]
    }
   ],
   "source": [
    "X_train, X_test, y_train, y_test = train_test_split(\n",
    "    cancer.data, cancer.target, random_state=0)\n",
    "\n",
    "grid = GridSearchCV(pipe, param_grid, cv=5)\n",
    "grid.fit(X_train, y_train)\n",
    "\n",
    "print(\"Best params:\\n{}\\n\".format(grid.best_params_))\n",
    "print(\"Best cross-validation score: {:.2f}\".format(grid.best_score_))\n",
    "print(\"Test-set score: {:.2f}\".format(grid.score(X_test, y_test)))"
   ]
  },
  {
   "cell_type": "code",
   "execution_count": null,
   "metadata": {
    "collapsed": true
   },
   "outputs": [],
   "source": []
  }
 ],
 "metadata": {
  "anaconda-cloud": {},
  "kernelspec": {
   "display_name": "Python [default]",
   "language": "python",
   "name": "python2"
  },
  "language_info": {
   "codemirror_mode": {
    "name": "ipython",
    "version": 2
   },
   "file_extension": ".py",
   "mimetype": "text/x-python",
   "name": "python",
   "nbconvert_exporter": "python",
   "pygments_lexer": "ipython2",
   "version": "2.7.13"
  }
 },
 "nbformat": 4,
 "nbformat_minor": 1
}
