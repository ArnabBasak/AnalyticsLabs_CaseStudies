{
 "cells": [
  {
   "cell_type": "code",
   "execution_count": 1,
   "metadata": {},
   "outputs": [],
   "source": [
    "import numpy as np\n",
    "import pandas as pd"
   ]
  },
  {
   "cell_type": "code",
   "execution_count": 13,
   "metadata": {},
   "outputs": [],
   "source": [
    "arr1 = np.random.random(size=10000) * 100\n",
    "ser1 = pd.Series(arr1)"
   ]
  },
  {
   "cell_type": "code",
   "execution_count": 39,
   "metadata": {},
   "outputs": [
    {
     "data": {
      "text/plain": [
       "1817    45.261767\n",
       "9837    27.590139\n",
       "1804    89.036198\n",
       "34      64.735455\n",
       "2845    83.675923\n",
       "7265    65.336713\n",
       "5022     0.529873\n",
       "7408    92.038768\n",
       "7992    58.034403\n",
       "1600    74.283578\n",
       "dtype: float64"
      ]
     },
     "execution_count": 39,
     "metadata": {},
     "output_type": "execute_result"
    }
   ],
   "source": [
    "ser1.sample(n=10)"
   ]
  },
  {
   "cell_type": "code",
   "execution_count": 44,
   "metadata": {},
   "outputs": [
    {
     "data": {
      "text/plain": [
       "4629    88.993435\n",
       "8030     3.702342\n",
       "9939    84.254020\n",
       "3797    42.922683\n",
       "8695    12.225804\n",
       "420     69.397338\n",
       "5256    48.556225\n",
       "8146    22.935457\n",
       "9739     3.201874\n",
       "4369     1.306386\n",
       "5187     0.891972\n",
       "7037    77.256653\n",
       "7665    41.916045\n",
       "4638     9.012885\n",
       "5178    47.615129\n",
       "6003    44.723813\n",
       "1724    48.118588\n",
       "4683     6.459094\n",
       "7794    67.084256\n",
       "8115    52.999524\n",
       "2252    71.436287\n",
       "4378     8.227463\n",
       "4200    67.500357\n",
       "3824    94.329586\n",
       "9697    84.227478\n",
       "3987     2.776123\n",
       "4344    37.102422\n",
       "6884    20.744245\n",
       "2130    92.962912\n",
       "9883    33.338008\n",
       "3765    43.172771\n",
       "4828    82.395523\n",
       "7834     5.270621\n",
       "6291    79.985076\n",
       "8715    40.458211\n",
       "5239    67.230576\n",
       "9157    15.760716\n",
       "5904    25.867354\n",
       "5089    36.770753\n",
       "6430    88.476165\n",
       "2762    33.783253\n",
       "7453    38.680776\n",
       "9622    50.479185\n",
       "4815    79.335342\n",
       "9486    98.151295\n",
       "2080    39.100969\n",
       "6647    33.409451\n",
       "1961    61.290197\n",
       "1197    90.647547\n",
       "2974    31.117578\n",
       "dtype: float64"
      ]
     },
     "execution_count": 44,
     "metadata": {},
     "output_type": "execute_result"
    }
   ],
   "source": [
    "ser1.sample(frac=0.005,replace=True)"
   ]
  },
  {
   "cell_type": "code",
   "execution_count": 45,
   "metadata": {},
   "outputs": [],
   "source": [
    "ser2 = pd.Series(['H','T'])"
   ]
  },
  {
   "cell_type": "code",
   "execution_count": 60,
   "metadata": {},
   "outputs": [
    {
     "data": {
      "text/plain": [
       "0    H\n",
       "0    H\n",
       "0    H\n",
       "1    T\n",
       "0    H\n",
       "0    H\n",
       "0    H\n",
       "0    H\n",
       "0    H\n",
       "1    T\n",
       "dtype: object"
      ]
     },
     "execution_count": 60,
     "metadata": {},
     "output_type": "execute_result"
    }
   ],
   "source": [
    "ser2.sample(10,replace=True)"
   ]
  },
  {
   "cell_type": "code",
   "execution_count": 88,
   "metadata": {},
   "outputs": [],
   "source": [
    "pop = pd.Series(['M','F']).sample(100000,replace=True)\n",
    "pop.name = \"Gender\""
   ]
  },
  {
   "cell_type": "code",
   "execution_count": 78,
   "metadata": {},
   "outputs": [
    {
     "data": {
      "text/plain": [
       "F    50189\n",
       "M    49811\n",
       "Name: Gender, dtype: int64"
      ]
     },
     "execution_count": 78,
     "metadata": {},
     "output_type": "execute_result"
    }
   ],
   "source": [
    "pop.value_counts()"
   ]
  },
  {
   "cell_type": "code",
   "execution_count": 79,
   "metadata": {},
   "outputs": [],
   "source": [
    "# 90% of F buy handbags and 10% M buy handbags\n",
    "sample1 = pop.sample(n = 150)"
   ]
  },
  {
   "cell_type": "code",
   "execution_count": 80,
   "metadata": {},
   "outputs": [
    {
     "data": {
      "text/plain": [
       "F    77\n",
       "M    73\n",
       "Name: Gender, dtype: int64"
      ]
     },
     "execution_count": 80,
     "metadata": {},
     "output_type": "execute_result"
    }
   ],
   "source": [
    "sample1.value_counts()"
   ]
  },
  {
   "cell_type": "code",
   "execution_count": 81,
   "metadata": {},
   "outputs": [
    {
     "data": {
      "text/plain": [
       "142.5"
      ]
     },
     "execution_count": 81,
     "metadata": {},
     "output_type": "execute_result"
    }
   ],
   "source": [
    "0.95*150"
   ]
  },
  {
   "cell_type": "code",
   "execution_count": 89,
   "metadata": {},
   "outputs": [],
   "source": [
    "s1 = pop.loc[pop == \"M\"].sample(frac = 0.05)\n",
    "s2 = pop.loc[pop == \"F\"].sample(frac = 0.95)\n",
    "sample = pd.concat([s1,s2])"
   ]
  },
  {
   "cell_type": "code",
   "execution_count": 90,
   "metadata": {},
   "outputs": [
    {
     "data": {
      "text/plain": [
       "F    47396\n",
       "M     2505\n",
       "Name: Gender, dtype: int64"
      ]
     },
     "execution_count": 90,
     "metadata": {},
     "output_type": "execute_result"
    }
   ],
   "source": [
    "sample.value_counts()"
   ]
  },
  {
   "cell_type": "code",
   "execution_count": 92,
   "metadata": {},
   "outputs": [
    {
     "data": {
      "text/plain": [
       "50.288546743270956"
      ]
     },
     "execution_count": 92,
     "metadata": {},
     "output_type": "execute_result"
    }
   ],
   "source": [
    "ser1.median()"
   ]
  },
  {
   "cell_type": "code",
   "execution_count": 93,
   "metadata": {},
   "outputs": [
    {
     "data": {
      "text/plain": [
       "0.5    50.288547\n",
       "dtype: float64"
      ]
     },
     "execution_count": 93,
     "metadata": {},
     "output_type": "execute_result"
    }
   ],
   "source": [
    "ser1.quantile([0.5])"
   ]
  },
  {
   "cell_type": "code",
   "execution_count": null,
   "metadata": {},
   "outputs": [],
   "source": []
  }
 ],
 "metadata": {
  "kernelspec": {
   "display_name": "Python 3",
   "language": "python",
   "name": "python3"
  },
  "language_info": {
   "codemirror_mode": {
    "name": "ipython",
    "version": 3
   },
   "file_extension": ".py",
   "mimetype": "text/x-python",
   "name": "python",
   "nbconvert_exporter": "python",
   "pygments_lexer": "ipython3",
   "version": "3.6.5"
  }
 },
 "nbformat": 4,
 "nbformat_minor": 2
}
