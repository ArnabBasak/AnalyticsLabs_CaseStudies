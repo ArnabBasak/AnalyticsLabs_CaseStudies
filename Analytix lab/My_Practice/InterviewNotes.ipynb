{
 "cells": [
  {
   "cell_type": "code",
   "execution_count": 1,
   "metadata": {},
   "outputs": [
    {
     "name": "stdout",
     "output_type": "stream",
     "text": [
      "hello world\n"
     ]
    }
   ],
   "source": [
    "\"\"\"printing hello world\"\"\"\n",
    "print('hello world')"
   ]
  },
  {
   "cell_type": "code",
   "execution_count": 9,
   "metadata": {},
   "outputs": [
    {
     "name": "stdout",
     "output_type": "stream",
     "text": [
      "addition is  11\n",
      "substraction is  7\n",
      "division is  4.5\n",
      "Floor division  4\n",
      "modulus is  1\n",
      "multiplication is  18\n",
      "square is  81\n"
     ]
    }
   ],
   "source": [
    "\"\"\"basic arithmatic\"\"\"\n",
    "a,b = 9,2\n",
    "print(\"addition is \",a+b)\n",
    "print(\"substraction is \",a-b)\n",
    "print(\"division is \",a/b)\n",
    "print(\"Floor division \",a//b) \"\"\"Floor division\"\"\"\n",
    "print(\"modulus is \",a%b)\n",
    "print(\"multiplication is \",a*b)\n",
    "print(\"square is \",a**b)\n"
   ]
  },
  {
   "cell_type": "code",
   "execution_count": 5,
   "metadata": {},
   "outputs": [
    {
     "name": "stdout",
     "output_type": "stream",
     "text": [
      "enter your namearnab\n",
      "hello arnab\n"
     ]
    }
   ],
   "source": [
    "\"\"\"Taking user input\"\"\"\n",
    "user_input = input('enter your name')\n",
    "print('hello',user_input)"
   ]
  },
  {
   "cell_type": "code",
   "execution_count": 13,
   "metadata": {},
   "outputs": [
    {
     "name": "stdout",
     "output_type": "stream",
     "text": [
      "2 is even\n"
     ]
    }
   ],
   "source": [
    "\"\"\"even odd\"\"\"\n",
    "a = 2\n",
    "if a % 2 == 0:\n",
    "    print(a,'is even')\n",
    "else:\n",
    "    print(b,'is odd')"
   ]
  },
  {
   "cell_type": "code",
   "execution_count": 12,
   "metadata": {},
   "outputs": [
    {
     "name": "stdout",
     "output_type": "stream",
     "text": [
      "3 is positive number\n"
     ]
    }
   ],
   "source": [
    "\"\"\"Positive negative zero\"\"\"\n",
    "a = 3\n",
    "if a > 0:\n",
    "    print(a,\"is positive number\")\n",
    "elif a < 0:\n",
    "    print(a,\"is negative number\")\n",
    "elif a == 0:\n",
    "    print(a,'is zero')\n",
    "else:\n",
    "    print('enter a number')"
   ]
  },
  {
   "cell_type": "code",
   "execution_count": 18,
   "metadata": {},
   "outputs": [
    {
     "name": "stdout",
     "output_type": "stream",
     "text": [
      "area of rectange 782\n",
      "area of circle 1661.06\n",
      "area of square 1156\n",
      "area of triangle 55.5\n"
     ]
    }
   ],
   "source": [
    "\"\"\"area of rectangel\"\"\"\n",
    "l,b = 23,34\n",
    "print('area of rectange',l*b)\n",
    "\"\"\"area of circle\"\"\"\n",
    "r= 23\n",
    "print('area of circle',3.14*r*r)\n",
    "\"\"\"are of square\"\"\"\n",
    "s = 34\n",
    "print('area of square',s*s)\n",
    "\"\"\"area of triangle\"\"\"\n",
    "a,b,c = 33,34,44\n",
    "print('area of triangle',((a+b+c)/2))"
   ]
  },
  {
   "cell_type": "code",
   "execution_count": 19,
   "metadata": {},
   "outputs": [
    {
     "name": "stdout",
     "output_type": "stream",
     "text": [
      "567543  is greater\n"
     ]
    }
   ],
   "source": [
    "\"\"\"largest of three numbers\"\"\"\n",
    "a,b,c = 564746,564434,567543\n",
    "if a > b and a > c:\n",
    "    print(a,'is greater')\n",
    "elif b > a and b > c:\n",
    "    print(b,'is greater')\n",
    "elif c > a and c > b:\n",
    "    print(c,' is greater')\n",
    "else:\n",
    "    print('all numbers are equal')"
   ]
  },
  {
   "cell_type": "code",
   "execution_count": 22,
   "metadata": {},
   "outputs": [
    {
     "name": "stdout",
     "output_type": "stream",
     "text": [
      "entered string is palindrome\n"
     ]
    }
   ],
   "source": [
    "\"\"\"palindrom of a string\"\"\"\n",
    "mystring = 'aIbohPhoBiA'\n",
    "clearstring = mystring.casefold()#ignores the case upper and lower \n",
    "rev_String = reversed(clearstring)\n",
    "if list(rev_String) == list(clearstring):\n",
    "    print('entered string is palindrome')\n",
    "else:\n",
    "    print('entered string is not palindrome')"
   ]
  },
  {
   "cell_type": "code",
   "execution_count": 2,
   "metadata": {},
   "outputs": [
    {
     "name": "stdout",
     "output_type": "stream",
     "text": [
      "407 is not prime\n",
      "11 times 37 =is 407\n"
     ]
    }
   ],
   "source": [
    "\"\"\"prime numbers\"\"\"\n",
    "num = 407\n",
    "if num > 1:\n",
    "    for i in range(2,num):\n",
    "        if(num % i) == 0:\n",
    "            print(num,'is not prime')\n",
    "            print(i,\"times\",num //i,'=is',num)\n",
    "            break\n",
    "    else:\n",
    "        print(num,\"is prime\")\n"
   ]
  },
  {
   "cell_type": "code",
   "execution_count": 36,
   "metadata": {},
   "outputs": [
    {
     "name": "stdout",
     "output_type": "stream",
     "text": [
      "the factorial of  7 is 5040\n"
     ]
    }
   ],
   "source": [
    "\"\"\"factorial of a number\"\"\"\n",
    "num = 7\n",
    "factorial = 1\n",
    "if num == 0:\n",
    "    print('there is no factorial for 0')\n",
    "elif num < 0:\n",
    "    print('thre is no factorial for negative numbers')\n",
    "else:\n",
    "    for i in range(1,num+1):\n",
    "        factorial = factorial *i\n",
    "    print(\"the factorial of \",num,\"is\",factorial)"
   ]
  },
  {
   "cell_type": "code",
   "execution_count": 38,
   "metadata": {},
   "outputs": [
    {
     "name": "stdout",
     "output_type": "stream",
     "text": [
      "12 x 1 12\n",
      "12 x 2 24\n",
      "12 x 3 36\n",
      "12 x 4 48\n",
      "12 x 5 60\n",
      "12 x 6 72\n",
      "12 x 7 84\n",
      "12 x 8 96\n",
      "12 x 9 108\n",
      "12 x 10 120\n"
     ]
    }
   ],
   "source": [
    "\"\"\"multiplication table\"\"\"\n",
    "num = 12\n",
    "for i in range(1,11):\n",
    "    print(num,\"x\",i,num*i)"
   ]
  },
  {
   "cell_type": "code",
   "execution_count": 3,
   "metadata": {},
   "outputs": [
    {
     "name": "stdout",
     "output_type": "stream",
     "text": [
      "16\n",
      "15\n",
      "31\n",
      "14\n",
      "45\n",
      "13\n",
      "58\n",
      "12\n",
      "70\n",
      "11\n",
      "81\n",
      "10\n",
      "91\n",
      "9\n",
      "100\n",
      "8\n",
      "108\n",
      "7\n",
      "115\n",
      "6\n",
      "121\n",
      "5\n",
      "126\n",
      "4\n",
      "130\n",
      "3\n",
      "133\n",
      "2\n",
      "135\n",
      "1\n",
      "136\n",
      "0\n",
      "sum is  136\n"
     ]
    }
   ],
   "source": [
    "\"\"\"sum of natural numbers\"\"\"\n",
    "num = 16\n",
    "if num < 0:\n",
    "    print('enter a positive number')\n",
    "else:\n",
    "    sum = 0\n",
    "    while (num > 0):\n",
    "        sum += num\n",
    "        print(sum)\n",
    "        num -= 1\n",
    "        print(num)\n",
    "    print('sum is ',sum)"
   ]
  },
  {
   "cell_type": "code",
   "execution_count": 42,
   "metadata": {},
   "outputs": [
    {
     "name": "stdout",
     "output_type": "stream",
     "text": [
      "the square root of  1.4142135623730951\n"
     ]
    }
   ],
   "source": [
    "import math\n",
    "num = 2\n",
    "print(\"the square root of \",math.sqrt(num))"
   ]
  },
  {
   "cell_type": "code",
   "execution_count": 43,
   "metadata": {},
   "outputs": [
    {
     "name": "stdout",
     "output_type": "stream",
     "text": [
      "before swaping 1 2\n",
      "after swapping 2 1\n"
     ]
    }
   ],
   "source": [
    "\"swapping of two variables with temporary variables and in single line\"\n",
    "a,b = 1,2\n",
    "print('before swaping',a,b)\n",
    "a,b = b,a\n",
    "print('after swapping',a,b)"
   ]
  },
  {
   "cell_type": "code",
   "execution_count": 44,
   "metadata": {},
   "outputs": [
    {
     "name": "stdout",
     "output_type": "stream",
     "text": [
      "binary of  455 0b111000111\n",
      "octal of  455 0o707\n",
      "hexadecimal of  455 0x1c7\n"
     ]
    }
   ],
   "source": [
    "\"\"\"Decimal to binary octal and hexadecimal conversion\"\"\"\n",
    "num = 455\n",
    "print('binary of ',num,bin(num))\n",
    "print('octal of ',num,oct(num))\n",
    "print('hexadecimal of ',num,hex(num))"
   ]
  },
  {
   "cell_type": "code",
   "execution_count": 6,
   "metadata": {},
   "outputs": [
    {
     "name": "stdout",
     "output_type": "stream",
     "text": [
      "calc_squaretook26.281118392944336mil second\n",
      "cal_cubetook26.468992233276367mil second\n"
     ]
    }
   ],
   "source": [
    "\"\"\"decorators\"\"\"\n",
    "import time\n",
    "def time_it(func):\n",
    "    def wrapper(*args,**kwargs):\n",
    "        start = time.time()\n",
    "        result = func(*args,**kwargs)\n",
    "        end = time.time()\n",
    "        print(func.__name__+\"took\"+str((end-start)*1000) + \"mil second\")\n",
    "        return result\n",
    "    return wrapper\n",
    "@time_it\n",
    "def calc_square(numbers):\n",
    "    result = []\n",
    "    for number in numbers:\n",
    "        result.append(number*number)\n",
    "    return result\n",
    "@time_it          \n",
    "def cal_cube(numbers):\n",
    "    result = []\n",
    "    for number in numbers:\n",
    "          result.append(number * number * number)\n",
    "    return result\n",
    "\n",
    "array = range(1,100000)\n",
    "out_square = calc_square(array)\n",
    "out_cube = cal_cube(array)"
   ]
  },
  {
   "cell_type": "code",
   "execution_count": 9,
   "metadata": {},
   "outputs": [
    {
     "name": "stdout",
     "output_type": "stream",
     "text": [
      "0\n",
      "1\n",
      "1\n",
      "2\n",
      "3\n",
      "5\n",
      "8\n",
      "13\n",
      "21\n",
      "34\n"
     ]
    }
   ],
   "source": [
    "\"\"\"Generators in python printing fibonaci sequence\"\"\"\n",
    "def fib():\n",
    "    a,b = 0,1\n",
    "    while True:\n",
    "        yield a\n",
    "        a,b = b,a+b\n",
    "        \n",
    "for f in fib():\n",
    "    if f > 50:\n",
    "        break\n",
    "    print(f)\n"
   ]
  },
  {
   "cell_type": "code",
   "execution_count": 8,
   "metadata": {},
   "outputs": [
    {
     "name": "stdout",
     "output_type": "stream",
     "text": [
      "7\n",
      "7\n",
      "Arnab Basak\n",
      "['Douglas Adams', 'Issac Asimov', 'Leigh Brackett', 'Ray Braduary', 'Orsan scott card', ' Arthur .c. Clark', 'Robert Heinlein', 'Frank Herbert', 'H. G. Wells']\n",
      "13\n"
     ]
    }
   ],
   "source": [
    "# A simple function to calculate the value 3x+1\n",
    "#anonymous function == lambda expression\n",
    "\n",
    "#lambda just like function its perfectly acceptable to have a function without any name\n",
    "#cannot use lambda expression for multiline values\n",
    "\n",
    "def f(x):\n",
    "    return 3*x+1\n",
    "print(f(2))\n",
    "\n",
    "g = lambda x: 3*x+1\n",
    "print(g(2))\n",
    "\n",
    "#lambda expression with more than one input \n",
    "#combine first and last name into a single name\n",
    "\n",
    "full_name = lambda fn,ln:fn.strip().title() + \" \" + ln.strip().title()\n",
    "print(full_name(\"   Arnab\",\"BASAK\"))\n",
    "\n",
    "scifi_authors = [\"Issac Asimov\", \"Ray Braduary\", \"Robert Heinlein\",\" Arthur .c. Clark\",\"Frank Herbert\",\"Orsan scott card\",\"Douglas Adams\",\"H. G. Wells\",\"Leigh Brackett\"]\n",
    "#sort this list in alphabetic order through anonimous function\n",
    "#sorting the list on the last name\n",
    "scifi_authors.sort(key=lambda name:name.split(\" \")[-1].lower())\n",
    "print(scifi_authors)\n",
    "\n",
    "def build_quadratic_equations(a,b,c):\n",
    "    return lambda x: a*x**2 + b*x + c\n",
    "#f = build_quadratic_equations(2,3,-5)\n",
    "#print(f(2))\n",
    "print(build_quadratic_equations(3,0,1)(2)) # evaluate 3x^2+1\n",
    "\n",
    "#common application for lambda expression is sorting and flitering data\n"
   ]
  },
  {
   "cell_type": "code",
   "execution_count": 24,
   "metadata": {},
   "outputs": [
    {
     "name": "stdout",
     "output_type": "stream",
     "text": [
      "47251\n",
      "upper case count in the file is 36422\n",
      "lower case count in the file is 1036\n",
      "precentage of the upper case letter in the file\n",
      "77.08196651922711\n",
      "precentage of the lower case letter in the file\n",
      "2.192546189498635\n"
     ]
    }
   ],
   "source": [
    "\"\"\"reading a file and other file operation\"\"\"\n",
    "\n",
    "my_file = open(\"/users/arnabbasak/Desktop/flask_blog/modi_speech.txt\",'r')\n",
    "example_sent = my_file.read().replace('\\n','')\n",
    "print(len(example_sent))\n",
    "uppercasecount = 0\n",
    "lowercasecount = 0\n",
    "for element in example_sent:\n",
    "    if(element.islower()):\n",
    "        uppercasecount = uppercasecount+1\n",
    "    elif(element.isupper()):\n",
    "        lowercasecount = lowercasecount+1\n",
    "print('upper case count in the file is',uppercasecount)\n",
    "print('lower case count in the file is',lowercasecount)\n",
    "print('precentage of the upper case letter in the file')\n",
    "print(((uppercasecount)/(len(example_sent)))*100)\n",
    "print('precentage of the lower case letter in the file')\n",
    "print(((lowercasecount)/(len(example_sent)))*100)\n"
   ]
  },
  {
   "cell_type": "code",
   "execution_count": 25,
   "metadata": {},
   "outputs": [
    {
     "name": "stdout",
     "output_type": "stream",
     "text": [
      "how a=many numbers do you want to create fibonacci series23\n",
      "0\n",
      "1\n",
      "1\n",
      "2\n",
      "3\n",
      "5\n",
      "8\n",
      "13\n",
      "21\n",
      "34\n"
     ]
    }
   ],
   "source": [
    "n = int(input(\"how a=many numbers do you want to create fibonacci series\"))\n",
    "def fib(n):\n",
    "    a,b = 0,1\n",
    "    while a < n:\n",
    "        print(a)\n",
    "        a,b = b,a+b\n",
    "    return(a)\n",
    "print(fib(n))\n"
   ]
  },
  {
   "cell_type": "code",
   "execution_count": 26,
   "metadata": {},
   "outputs": [
    {
     "name": "stdout",
     "output_type": "stream",
     "text": [
      "meet me tonight.\n",
      "meet me string\n",
      "meet\n",
      "meet me tonight.\n",
      "meet me tonight\n"
     ]
    }
   ],
   "source": [
    "message = \"meet me tonight.\"\n",
    "print(message)\n",
    "message2 = 'meet me string'\n",
    "print(message2)\n",
    "print(message[0:4])\n",
    "print(message[0:])\n",
    "print(message[:15])\n",
    "\n",
    "#srting is immutable"
   ]
  },
  {
   "cell_type": "code",
   "execution_count": null,
   "metadata": {
    "collapsed": true
   },
   "outputs": [],
   "source": []
  }
 ],
 "metadata": {
  "kernelspec": {
   "display_name": "Python 3",
   "language": "python",
   "name": "python3"
  },
  "language_info": {
   "codemirror_mode": {
    "name": "ipython",
    "version": 3
   },
   "file_extension": ".py",
   "mimetype": "text/x-python",
   "name": "python",
   "nbconvert_exporter": "python",
   "pygments_lexer": "ipython3",
   "version": "3.6.1"
  }
 },
 "nbformat": 4,
 "nbformat_minor": 2
}
