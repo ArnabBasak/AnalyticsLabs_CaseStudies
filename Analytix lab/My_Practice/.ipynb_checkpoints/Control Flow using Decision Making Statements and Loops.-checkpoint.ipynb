{
 "cells": [
  {
   "cell_type": "markdown",
   "metadata": {},
   "source": [
    "<h5>1. Write a Python program to input a number from the user and check if it is positive, negative or zero. </h5>"
   ]
  },
  {
   "cell_type": "code",
   "execution_count": 8,
   "metadata": {},
   "outputs": [
    {
     "name": "stdout",
     "output_type": "stream",
     "text": [
      "enter a number-147\n",
      "-147 is negative\n"
     ]
    }
   ],
   "source": [
    "number = int(input('enter a number'))\n",
    "if number == 0:\n",
    "    print(number, \"is 0\")\n",
    "elif number >  0:\n",
    "    print(number,\"is positive\")\n",
    "elif number < 0:\n",
    "    print(number,\"is negative\")\n",
    "else:\n",
    "    print('enter a valid number')"
   ]
  },
  {
   "cell_type": "markdown",
   "metadata": {},
   "source": [
    "<h5>2.Write a Python Program to Check if a Number is Odd or Even by taking user input.</h5>"
   ]
  },
  {
   "cell_type": "code",
   "execution_count": 12,
   "metadata": {},
   "outputs": [
    {
     "name": "stdout",
     "output_type": "stream",
     "text": [
      "enter a number141\n",
      "number is odd\n"
     ]
    }
   ],
   "source": [
    "number = int(input('enter a number'))\n",
    "if number == 0: \n",
    "    print(\"number is \",number)\n",
    "elif number % 2 == 0:\n",
    "    print(\"number is even\")\n",
    "elif number % 2 != 0:\n",
    "    print(\"number is odd\")\n",
    "else:\n",
    "    print('enter a valid number')\n"
   ]
  },
  {
   "cell_type": "markdown",
   "metadata": {},
   "source": [
    "<h5> practice </h5>"
   ]
  },
  {
   "cell_type": "code",
   "execution_count": 10,
   "metadata": {},
   "outputs": [
    {
     "name": "stdout",
     "output_type": "stream",
     "text": [
      "<class 'type'>\n"
     ]
    }
   ],
   "source": [
    "a = 123\n",
    "var = type(a)\n",
    "print(type(var))"
   ]
  },
  {
   "cell_type": "markdown",
   "metadata": {},
   "source": [
    "<h5>4. Write a Python Program to Find the Largest Among Three Numbers, using the least number of lines of code.</h5>"
   ]
  },
  {
   "cell_type": "code",
   "execution_count": 51,
   "metadata": {},
   "outputs": [
    {
     "name": "stdout",
     "output_type": "stream",
     "text": [
      "5814786521321323354  B is largest\n"
     ]
    }
   ],
   "source": [
    "a,b,c = 581232521455822,5814786521321323354,5823156152114784\n",
    "if a > b and a > c:\n",
    "    print(a,\" A is largest\")\n",
    "if b > a and b > c:\n",
    "    print(b,\" B is largest\")\n",
    "if c > a and c > b:\n",
    "    print(c,\" C is largest\")"
   ]
  },
  {
   "cell_type": "markdown",
   "metadata": {},
   "source": [
    "<h5>3. Write a Python Program to input a year with century and check if it is Leap Year or print invalid if it is not in the form of year with century.</h5>"
   ]
  },
  {
   "cell_type": "code",
   "execution_count": 22,
   "metadata": {},
   "outputs": [
    {
     "name": "stdout",
     "output_type": "stream",
     "text": [
      "enter year91\n",
      "invalid input\n"
     ]
    }
   ],
   "source": [
    "year = input('enter year')\n",
    "if len(year) == 4:\n",
    "    leap_year = int(year)\n",
    "    if leap_year%400 == 0 and leap_year%4 == 0 and leap_year%100 !=0:\n",
    "        print('year is a leap year')\n",
    "    else:\n",
    "        print('year is not a leap year')\n",
    "else:\n",
    "    print('invalid input')"
   ]
  },
  {
   "cell_type": "markdown",
   "metadata": {},
   "source": [
    "<h5>5. Write a Python program to input a month name and print number of days in it.</h5>"
   ]
  },
  {
   "cell_type": "code",
   "execution_count": 30,
   "metadata": {},
   "outputs": [
    {
     "name": "stdout",
     "output_type": "stream",
     "text": [
      "enter the month nameAug\n",
      "Aug has this many days 31\n"
     ]
    }
   ],
   "source": [
    "days = {\"january\":31,\n",
    "        \"Feburary\":28,\n",
    "        \"March\":31,\n",
    "        \"April\":30,\n",
    "        \"May\":31,\n",
    "        \"June\":30,\n",
    "        \"July\":31,\n",
    "        \"Aug\":31,\n",
    "        \"September\":30,\n",
    "        \"October\":31,\n",
    "        \"November\":30,\n",
    "        \"December\":31}\n",
    "test = input('enter the month name')\n",
    "answer = days.get(test)\n",
    "print(test,\"has this many days\",answer)"
   ]
  },
  {
   "cell_type": "markdown",
   "metadata": {},
   "source": [
    "<h5>6. Write a Python Program to Check if a number is Prime Number or not.</h5>"
   ]
  },
  {
   "cell_type": "code",
   "execution_count": 39,
   "metadata": {},
   "outputs": [
    {
     "name": "stdout",
     "output_type": "stream",
     "text": [
      "enter any number11\n",
      "2 is prime\n",
      "3 is prime\n",
      "5 is prime\n",
      "7 is prime\n",
      "11 is prime\n"
     ]
    }
   ],
   "source": [
    "num = int(input('enter any number'))\n",
    "lower_bound = 2\n",
    "upper_bound = num\n",
    "for num in range(lower_bound,upper_bound+1):\n",
    "    if num > 1:\n",
    "        for i in range(2,num):\n",
    "            if num % i == 0:\n",
    "                #print(num,\"is not prime\")\n",
    "                break\n",
    "        else:\n",
    "                print(num,\"is prime\")\n",
    "    "
   ]
  },
  {
   "cell_type": "markdown",
   "metadata": {},
   "source": [
    "<h5>7. Write a Python Program to Find the Factorial of a Number.</h5>"
   ]
  },
  {
   "cell_type": "code",
   "execution_count": 43,
   "metadata": {},
   "outputs": [
    {
     "name": "stdout",
     "output_type": "stream",
     "text": [
      "enter any number4\n",
      "factorial of the given number is  24\n"
     ]
    }
   ],
   "source": [
    "num = int(input('enter any number'))\n",
    "if num < 0:\n",
    "    print('there is no factorial for negative numbers')\n",
    "elif num == 0:\n",
    "    print('there is no factorial of 0')\n",
    "else:\n",
    "    factorial = 1\n",
    "    for i in range(1,num+1):\n",
    "        factorial = factorial * i\n",
    "    print(\"factorial of the given number is \",factorial)"
   ]
  },
  {
   "cell_type": "markdown",
   "metadata": {},
   "source": [
    "<h5>8. Write a Python Program to Display the multiplication Table by taking the number as input. (Hint : Use print statement inside of a loop)</h5>"
   ]
  },
  {
   "cell_type": "code",
   "execution_count": 45,
   "metadata": {},
   "outputs": [
    {
     "name": "stdout",
     "output_type": "stream",
     "text": [
      "enter any number12\n",
      "12 x 1 = 12\n",
      "12 x 2 = 24\n",
      "12 x 3 = 36\n",
      "12 x 4 = 48\n",
      "12 x 5 = 60\n",
      "12 x 6 = 72\n",
      "12 x 7 = 84\n",
      "12 x 8 = 96\n",
      "12 x 9 = 108\n",
      "12 x 10 = 120\n"
     ]
    }
   ],
   "source": [
    "num = int(input('enter any number'))\n",
    "for i in range(1,11):\n",
    "    print(num,\"x\",i,\"=\",num*i)"
   ]
  },
  {
   "cell_type": "markdown",
   "metadata": {},
   "source": [
    "<h5>9. Write a Python Program to Print the Fibonacci sequence</h5>"
   ]
  },
  {
   "cell_type": "code",
   "execution_count": 53,
   "metadata": {},
   "outputs": [
    {
     "name": "stdout",
     "output_type": "stream",
     "text": [
      "enter any number123\n",
      "0\n",
      "1\n",
      "1\n",
      "2\n",
      "3\n",
      "5\n",
      "8\n",
      "13\n",
      "21\n",
      "34\n",
      "55\n",
      "89\n",
      "144\n",
      "233\n",
      "377\n",
      "610\n",
      "987\n",
      "1597\n",
      "2584\n",
      "4181\n",
      "6765\n",
      "10946\n",
      "17711\n",
      "28657\n",
      "46368\n",
      "75025\n",
      "121393\n",
      "196418\n",
      "317811\n",
      "514229\n",
      "832040\n",
      "1346269\n",
      "2178309\n",
      "3524578\n",
      "5702887\n",
      "9227465\n",
      "14930352\n",
      "24157817\n",
      "39088169\n",
      "63245986\n",
      "102334155\n",
      "165580141\n",
      "267914296\n",
      "433494437\n",
      "701408733\n",
      "1134903170\n",
      "1836311903\n",
      "2971215073\n",
      "4807526976\n",
      "7778742049\n",
      "12586269025\n",
      "20365011074\n",
      "32951280099\n",
      "53316291173\n",
      "86267571272\n",
      "139583862445\n",
      "225851433717\n",
      "365435296162\n",
      "591286729879\n",
      "956722026041\n",
      "1548008755920\n",
      "2504730781961\n",
      "4052739537881\n",
      "6557470319842\n",
      "10610209857723\n",
      "17167680177565\n",
      "27777890035288\n",
      "44945570212853\n",
      "72723460248141\n",
      "117669030460994\n",
      "190392490709135\n",
      "308061521170129\n",
      "498454011879264\n",
      "806515533049393\n",
      "1304969544928657\n",
      "2111485077978050\n",
      "3416454622906707\n",
      "5527939700884757\n",
      "8944394323791464\n",
      "14472334024676221\n",
      "23416728348467685\n",
      "37889062373143906\n",
      "61305790721611591\n",
      "99194853094755497\n",
      "160500643816367088\n",
      "259695496911122585\n",
      "420196140727489673\n",
      "679891637638612258\n",
      "1100087778366101931\n",
      "1779979416004714189\n",
      "2880067194370816120\n",
      "4660046610375530309\n",
      "7540113804746346429\n",
      "12200160415121876738\n",
      "19740274219868223167\n",
      "31940434634990099905\n",
      "51680708854858323072\n",
      "83621143489848422977\n",
      "135301852344706746049\n",
      "218922995834555169026\n",
      "354224848179261915075\n",
      "573147844013817084101\n",
      "927372692193078999176\n",
      "1500520536206896083277\n",
      "2427893228399975082453\n",
      "3928413764606871165730\n",
      "6356306993006846248183\n",
      "10284720757613717413913\n",
      "16641027750620563662096\n",
      "26925748508234281076009\n",
      "43566776258854844738105\n",
      "70492524767089125814114\n",
      "114059301025943970552219\n",
      "184551825793033096366333\n",
      "298611126818977066918552\n",
      "483162952612010163284885\n",
      "781774079430987230203437\n",
      "1264937032042997393488322\n",
      "2046711111473984623691759\n",
      "3311648143516982017180081\n",
      "5358359254990966640871840\n",
      "8670007398507948658051921\n",
      "14028366653498915298923761\n"
     ]
    }
   ],
   "source": [
    "num = int(input('enter any number'))\n",
    "if num == 0:\n",
    "    print('please enter a positive number')\n",
    "elif num == 1:\n",
    "    print('fibnoaci sequence of the number is ',num)\n",
    "else:\n",
    "    n1 = 0\n",
    "    n2 = 1\n",
    "    count = 0\n",
    "    while count < num:\n",
    "        print(n1,end= ',')\n",
    "        nth = n1 + n2\n",
    "        n1 = n2\n",
    "        n2 = nth\n",
    "        count += 1"
   ]
  },
  {
   "cell_type": "code",
   "execution_count": null,
   "metadata": {
    "collapsed": true
   },
   "outputs": [],
   "source": []
  }
 ],
 "metadata": {
  "kernelspec": {
   "display_name": "Python 3",
   "language": "python",
   "name": "python3"
  },
  "language_info": {
   "codemirror_mode": {
    "name": "ipython",
    "version": 3
   },
   "file_extension": ".py",
   "mimetype": "text/x-python",
   "name": "python",
   "nbconvert_exporter": "python",
   "pygments_lexer": "ipython3",
   "version": "3.6.1"
  }
 },
 "nbformat": 4,
 "nbformat_minor": 2
}
