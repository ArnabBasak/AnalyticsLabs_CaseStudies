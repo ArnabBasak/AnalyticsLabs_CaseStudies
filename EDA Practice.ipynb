{
 "cells": [
  {
   "cell_type": "code",
   "execution_count": 2,
   "metadata": {},
   "outputs": [],
   "source": [
    "#importing the libraries \n",
    "import pandas as pd\n",
    "import numpy as np\n",
    "from matplotlib import pyplot as plt\n",
    "%matplotlib inline"
   ]
  },
  {
   "cell_type": "code",
   "execution_count": 76,
   "metadata": {},
   "outputs": [],
   "source": [
    "#loading the data\n",
    "data = pd.read_csv('2018-2010_import.csv')"
   ]
  },
  {
   "cell_type": "code",
   "execution_count": 4,
   "metadata": {},
   "outputs": [
    {
     "name": "stdout",
     "output_type": "stream",
     "text": [
      "<class 'pandas.core.frame.DataFrame'>\n",
      "RangeIndex: 93095 entries, 0 to 93094\n",
      "Data columns (total 5 columns):\n",
      "HSCode       93095 non-null int64\n",
      "Commodity    93095 non-null object\n",
      "value        79068 non-null float64\n",
      "country      93095 non-null object\n",
      "year         93095 non-null int64\n",
      "dtypes: float64(1), int64(2), object(2)\n",
      "memory usage: 3.6+ MB\n"
     ]
    }
   ],
   "source": [
    "#checking the missing values\n",
    "data.info()"
   ]
  },
  {
   "cell_type": "code",
   "execution_count": 5,
   "metadata": {},
   "outputs": [
    {
     "data": {
      "text/plain": [
       "Index(['HSCode', 'Commodity', 'value', 'country', 'year'], dtype='object')"
      ]
     },
     "execution_count": 5,
     "metadata": {},
     "output_type": "execute_result"
    }
   ],
   "source": [
    "#checking the columns\n",
    "data.columns"
   ]
  },
  {
   "cell_type": "markdown",
   "metadata": {},
   "source": [
    "<b> FROM HOW MANY COUNTRIES DOES INDIA IMPORT GOODS </b>"
   ]
  },
  {
   "cell_type": "code",
   "execution_count": 6,
   "metadata": {},
   "outputs": [
    {
     "name": "stdout",
     "output_type": "stream",
     "text": [
      "INDIA IMPORTS GOODS FROM 242 DIFFERENT COUNTRIES\n"
     ]
    }
   ],
   "source": [
    "#from how many countries india import goods\n",
    "print(\"INDIA IMPORTS GOODS FROM\",data['country'].nunique(),\"DIFFERENT COUNTRIES\")"
   ]
  },
  {
   "cell_type": "markdown",
   "metadata": {},
   "source": [
    "<b> LIST OF COUNTRIES FROM WHERE INDIA IMPORT </b>"
   ]
  },
  {
   "cell_type": "code",
   "execution_count": 7,
   "metadata": {},
   "outputs": [
    {
     "name": "stdout",
     "output_type": "stream",
     "text": [
      "['AFGHANISTAN TIS', 'ALBANIA', 'ALGERIA', 'AMERI SAMOA', 'ANDORRA', 'ANGOLA', 'ANGUILLA', 'ANTARTICA', 'ANTIGUA', 'ARGENTINA', 'ARMENIA', 'ARUBA', 'AUSTRALIA', 'AUSTRIA', 'AZERBAIJAN', 'BAHAMAS', 'BAHARAIN IS', 'BANGLADESH PR', 'BARBADOS', 'BELARUS', 'BELGIUM', 'BELIZE', 'BENIN', 'BERMUDA', 'BHUTAN', 'BOLIVIA', 'BOSNIA-HRZGOVIN', 'BOTSWANA', 'BR VIRGN IS', 'BRAZIL', 'BRUNEI', 'BULGARIA', 'BURKINA FASO', 'BURUNDI', 'C AFRI REP', 'CAMBODIA', 'CAMEROON', 'CANADA', 'CAPE VERDE IS', 'CAYMAN IS', 'CHAD', 'CHILE', 'CHINA P RP', 'CHRISTMAS IS.', 'COCOS IS', 'COLOMBIA', 'COMOROS', 'CONGO D. REP.', 'CONGO P REP', 'COOK IS', 'COSTA RICA', \"COTE D' IVOIRE\", 'CROATIA', 'CUBA', 'CYPRUS', 'CZECH REPUBLIC', 'DENMARK', 'DJIBOUTI', 'DOMINIC REP', 'DOMINICA', 'ECUADOR', 'EGYPT A RP', 'EL SALVADOR', 'EQUTL GUINEA', 'ERITREA', 'ESTONIA', 'ETHIOPIA', 'FAROE IS.', 'FIJI IS', 'FINLAND', 'FR GUIANA', 'FR POLYNESIA', 'FRANCE', 'GABON', 'GAMBIA', 'GEORGIA', 'GERMANY', 'GHANA', 'GIBRALTAR', 'GREECE', 'GREENLAND', 'GRENADA', 'GUADELOUPE', 'GUAM', 'GUATEMALA', 'GUERNSEY', 'GUINEA', 'GUINEA BISSAU', 'GUYANA', 'HAITI', 'HONDURAS', 'HONG KONG', 'HUNGARY', 'ICELAND', 'INDONESIA', 'IRAN', 'IRAQ', 'IRELAND', 'ISRAEL', 'ITALY', 'JAMAICA', 'JAPAN', 'JERSEY         ', 'JORDAN', 'KAZAKHSTAN', 'KENYA', 'KIRIBATI REP', 'KOREA DP RP', 'KOREA RP', 'KUWAIT', 'KYRGHYZSTAN', 'LAO PD RP', 'LATVIA', 'LEBANON', 'LESOTHO', 'LIBERIA', 'LIBYA', 'LIECHTENSTEIN', 'LITHUANIA', 'LUXEMBOURG', 'MACAO', 'MACEDONIA', 'MADAGASCAR', 'MALAWI', 'MALAYSIA', 'MALDIVES', 'MALI', 'MALTA', 'MARSHALL ISLAND', 'MARTINIQUE', 'MAURITANIA', 'MAURITIUS', 'MAYOTTE', 'MEXICO', 'MOLDOVA', 'MONACO', 'MONGOLIA', 'MONTENEGRO', 'MONTSERRAT', 'MOROCCO', 'MOZAMBIQUE', 'MYANMAR', 'N. MARIANA IS.', 'NAMIBIA', 'NAURU RP', 'NEPAL', 'NETHERLAND', 'NETHERLANDANTIL', 'NEW CALEDONIA', 'NEW ZEALAND', 'NICARAGUA', 'NIGER', 'NIGERIA', 'NIUE IS', 'NORFOLK IS', 'NORWAY', 'OMAN', 'PAKISTAN IR', 'PALAU', 'PANAMA REPUBLIC', 'PAPUA N GNA', 'PARAGUAY', 'PERU', 'PHILIPPINES', 'PITCAIRN IS.', 'POLAND', 'PORTUGAL', 'PUERTO RICO', 'QATAR', 'REUNION', 'ROMANIA', 'RUSSIA', 'RWANDA', 'SAMOA', 'SAN MARINO', 'SAO TOME', 'SAUDI ARAB', 'SENEGAL', 'SERBIA', 'SEYCHELLES', 'SIERRA LEONE', 'SINGAPORE', 'SLOVAK REP', 'SLOVENIA', 'SOLOMON IS', 'SOMALIA', 'SOUTH AFRICA', 'SOUTH SUDAN ', 'SPAIN', 'SRI LANKA DSR', 'ST HELENA', 'ST KITT N A', 'ST LUCIA', 'ST VINCENT', 'STATE OF PALEST', 'SUDAN', 'SURINAME', 'SWAZILAND', 'SWEDEN', 'SWITZERLAND', 'SYRIA', 'TAIWAN', 'TAJIKISTAN', 'TANZANIA REP', 'THAILAND', 'TIMOR LESTE', 'TOGO', 'TOKELAU IS', 'TONGA', 'TRINIDAD', 'TUNISIA', 'TURKEY', 'TURKMENISTAN', 'TURKS C IS', 'TUVALU', 'U ARAB EMTS', 'U K', 'U S A', 'UGANDA', 'UKRAINE', 'UNSPECIFIED', 'URUGUAY', 'US MINOR OUTLYING ISLANDS               ', 'UZBEKISTAN', 'VANUATU REP', 'VATICAN CITY', 'VENEZUELA', 'VIETNAM SOC REP', 'VIRGIN IS US', 'WALLIS F IS', 'YEMEN REPUBLC', 'ZAMBIA', 'ZIMBABWE', 'HEARD MACDONALD', 'PANAMA C Z', 'FALKLAND IS', 'FR S ANT TR', 'ST PIERRE', 'UNION OF SERBIA & MONTENEGRO', 'MICRONESIA', 'PACIFIC IS', 'CHANNEL IS']\n"
     ]
    }
   ],
   "source": [
    "#list of the countries from where india import goods\n",
    "country_list = data['country'].unique().tolist()\n",
    "print([x for x in country_list])"
   ]
  },
  {
   "cell_type": "markdown",
   "metadata": {},
   "source": [
    "<b> ANALYSIS ON GOODS IMPORTED FROM AFGANISTAN </b>"
   ]
  },
  {
   "cell_type": "code",
   "execution_count": 10,
   "metadata": {},
   "outputs": [],
   "source": [
    "Afgan_imports = data[data['country'] == 'AFGHANISTAN TIS'] "
   ]
  },
  {
   "cell_type": "code",
   "execution_count": 77,
   "metadata": {},
   "outputs": [],
   "source": [
    "Afgan_imports = Afgan_imports.replace(0.0,np.nan)\n",
    "Afgan_imports = Afgan_imports.dropna()"
   ]
  },
  {
   "cell_type": "markdown",
   "metadata": {},
   "source": [
    "<b> TOTAL NUMBER OF COMMODITIES IMPORTED FROM AFGANISTAN </b>"
   ]
  },
  {
   "cell_type": "code",
   "execution_count": 12,
   "metadata": {},
   "outputs": [
    {
     "name": "stdout",
     "output_type": "stream",
     "text": [
      "TOTAL NUMBER OF COMODITIES IMPORTED FROM AFGANISTAN ARE: 44\n"
     ]
    }
   ],
   "source": [
    "#Different comodities imported from Afganistan\n",
    "Afgan_imports_list = Afgan_imports['Commodity'].unique().tolist()\n",
    "print('TOTAL NUMBER OF COMODITIES IMPORTED FROM AFGANISTAN ARE:',len(Afgan_imports_list))\n",
    "#print([x for x in Afgan_imports_list])"
   ]
  },
  {
   "cell_type": "markdown",
   "metadata": {},
   "source": [
    "<b> TOTAL QUANTITIES OF GOODS IMPORTED OVER THE YEARS FROM AFGANISTAN </b>"
   ]
  },
  {
   "cell_type": "code",
   "execution_count": 13,
   "metadata": {},
   "outputs": [
    {
     "name": "stdout",
     "output_type": "stream",
     "text": [
      "TOTAL QUANTITY OF GOODS IMPORTED FROM AFGANISTAN FROM 2010 TO 2018 IS 3555.83\n"
     ]
    }
   ],
   "source": [
    "#What is the total value of goods imported from Afganistan\n",
    "Value_Sum = Afgan_imports['value'].sum()\n",
    "print('TOTAL QUANTITY OF GOODS IMPORTED FROM AFGANISTAN FROM 2010 TO 2018 IS',Value_Sum)"
   ]
  },
  {
   "cell_type": "markdown",
   "metadata": {},
   "source": [
    "<b>WHICH IS THE HIGHEST QUNATITY OF THE GOOD IMPORTED AND IN WHICH YEAR FROM AFGANISTAN</b>"
   ]
  },
  {
   "cell_type": "code",
   "execution_count": 14,
   "metadata": {},
   "outputs": [
    {
     "data": {
      "text/plain": [
       "Commodity    EDIBLE FRUIT AND NUTS; PEEL OR CITRUS FRUIT OR...\n",
       "value                                                   274.79\n",
       "year                                                      2017\n",
       "Name: 8648, dtype: object"
      ]
     },
     "execution_count": 14,
     "metadata": {},
     "output_type": "execute_result"
    }
   ],
   "source": [
    "#highest_value = Afgan_imports[Afgan_imports['Commodity'] & Afgan_imports['value'].max()]\n",
    "highest_value = Afgan_imports.loc[Afgan_imports['value'].idxmax()]\n",
    "highest_value[['Commodity','value','year']]"
   ]
  },
  {
   "cell_type": "markdown",
   "metadata": {},
   "source": [
    "<b>WHICH IS THE LOWEST QUANTITY OF THE GOOD IMPORTED AND IN WHICH YEAR FROM AFGANISTAN</b>"
   ]
  },
  {
   "cell_type": "code",
   "execution_count": 29,
   "metadata": {},
   "outputs": [
    {
     "data": {
      "text/plain": [
       "Commodity    COTTON.\n",
       "value           0.01\n",
       "year            2018\n",
       "Name: 14, dtype: object"
      ]
     },
     "execution_count": 29,
     "metadata": {},
     "output_type": "execute_result"
    }
   ],
   "source": [
    "lowest_value = Afgan_imports.loc[Afgan_imports['value'].idxmin()]\n",
    "lowest_value[['Commodity','value','year']]"
   ]
  },
  {
   "cell_type": "markdown",
   "metadata": {},
   "source": [
    "<b> GOODS IMPORTED OVER THE YEAR DISTRIBUTION FROM AFGANISTAN </b>"
   ]
  },
  {
   "cell_type": "code",
   "execution_count": 16,
   "metadata": {},
   "outputs": [],
   "source": [
    "af_year_analysis = Afgan_imports[['Commodity','value','year']]"
   ]
  },
  {
   "cell_type": "code",
   "execution_count": 19,
   "metadata": {},
   "outputs": [
    {
     "ename": "TypeError",
     "evalue": "'str' object is not callable",
     "output_type": "error",
     "traceback": [
      "\u001b[1;31m---------------------------------------------------------------------------\u001b[0m",
      "\u001b[1;31mTypeError\u001b[0m                                 Traceback (most recent call last)",
      "\u001b[1;32m<ipython-input-19-31122abcb589>\u001b[0m in \u001b[0;36m<module>\u001b[1;34m\u001b[0m\n\u001b[0;32m      1\u001b[0m \u001b[0maf_import_dist\u001b[0m \u001b[1;33m=\u001b[0m \u001b[0maf_year_analysis\u001b[0m\u001b[1;33m.\u001b[0m\u001b[0mgroupby\u001b[0m\u001b[1;33m(\u001b[0m\u001b[1;34m'year'\u001b[0m\u001b[1;33m)\u001b[0m\u001b[1;33m[\u001b[0m\u001b[1;34m'value'\u001b[0m\u001b[1;33m]\u001b[0m\u001b[1;33m.\u001b[0m\u001b[0msum\u001b[0m\u001b[1;33m(\u001b[0m\u001b[1;33m)\u001b[0m\u001b[1;33m.\u001b[0m\u001b[0mto_frame\u001b[0m\u001b[1;33m(\u001b[0m\u001b[1;33m)\u001b[0m\u001b[1;33m.\u001b[0m\u001b[0mreset_index\u001b[0m\u001b[1;33m(\u001b[0m\u001b[1;33m)\u001b[0m\u001b[1;33m\u001b[0m\u001b[1;33m\u001b[0m\u001b[0m\n\u001b[0;32m      2\u001b[0m \u001b[0mplt\u001b[0m\u001b[1;33m.\u001b[0m\u001b[0mbar\u001b[0m\u001b[1;33m(\u001b[0m\u001b[0maf_import_dist\u001b[0m\u001b[1;33m.\u001b[0m\u001b[0myear\u001b[0m\u001b[1;33m,\u001b[0m\u001b[0maf_import_dist\u001b[0m\u001b[1;33m.\u001b[0m\u001b[0mvalue\u001b[0m\u001b[1;33m)\u001b[0m\u001b[1;33m\u001b[0m\u001b[1;33m\u001b[0m\u001b[0m\n\u001b[1;32m----> 3\u001b[1;33m \u001b[0mplt\u001b[0m\u001b[1;33m.\u001b[0m\u001b[0mxlabel\u001b[0m\u001b[1;33m(\u001b[0m\u001b[1;34m'Distribution over the year'\u001b[0m\u001b[1;33m)\u001b[0m\u001b[1;33m\u001b[0m\u001b[1;33m\u001b[0m\u001b[0m\n\u001b[0m\u001b[0;32m      4\u001b[0m \u001b[0mplt\u001b[0m\u001b[1;33m.\u001b[0m\u001b[0mylabel\u001b[0m\u001b[1;33m(\u001b[0m\u001b[1;34m'Commodities imported over the year'\u001b[0m\u001b[1;33m)\u001b[0m\u001b[1;33m\u001b[0m\u001b[1;33m\u001b[0m\u001b[0m\n\u001b[0;32m      5\u001b[0m \u001b[0mplt\u001b[0m\u001b[1;33m.\u001b[0m\u001b[0mtitle\u001b[0m\u001b[1;33m(\u001b[0m\u001b[1;34m'Commodities import distribution'\u001b[0m\u001b[1;33m)\u001b[0m\u001b[1;33m\u001b[0m\u001b[1;33m\u001b[0m\u001b[0m\n",
      "\u001b[1;31mTypeError\u001b[0m: 'str' object is not callable"
     ]
    },
    {
     "data": {
      "image/png": "[encoded data removed]",
      "text/plain": [
       "<Figure size 432x288 with 1 Axes>"
      ]
     },
     "metadata": {
      "needs_background": "light"
     },
     "output_type": "display_data"
    }
   ],
   "source": [
    "af_import_dist = af_year_analysis.groupby('year')['value'].sum().to_frame().reset_index()\n",
    "plt.bar(af_import_dist.year,af_import_dist.value)\n",
    "plt.xlabel('Distribution over the year')\n",
    "plt.ylabel('Commodities imported over the year')\n",
    "plt.title('Commodities import distribution')\n",
    "plt.show()"
   ]
  },
  {
   "cell_type": "markdown",
   "metadata": {},
   "source": [
    "<b>WHICH COMMODITIY IS MOST IMPORTED AND WHICH IS LEAST IMPORTED FROM AFGANISTAN </b>"
   ]
  },
  {
   "cell_type": "code",
   "execution_count": 31,
   "metadata": {},
   "outputs": [],
   "source": [
    "Afgan_Commodity = af_year_analysis.groupby('Commodity')['value'].sum().to_frame().reset_index()"
   ]
  },
  {
   "cell_type": "code",
   "execution_count": 32,
   "metadata": {},
   "outputs": [
    {
     "data": {
      "text/plain": [
       "Commodity    EDIBLE FRUIT AND NUTS; PEEL OR CITRUS FRUIT OR...\n",
       "value                                                  2194.07\n",
       "Name: 11, dtype: object"
      ]
     },
     "execution_count": 32,
     "metadata": {},
     "output_type": "execute_result"
    }
   ],
   "source": [
    "highest_value_Comm = Afgan_Commodity.loc[Afgan_Commodity['value'].idxmax()]\n",
    "highest_value_Comm"
   ]
  },
  {
   "cell_type": "code",
   "execution_count": 33,
   "metadata": {},
   "outputs": [
    {
     "data": {
      "text/plain": [
       "Commodity    FURNITURE; BEDDING, MATTRESSES, MATTRESS SUPPO...\n",
       "value                                                     0.01\n",
       "Name: 14, dtype: object"
      ]
     },
     "execution_count": 33,
     "metadata": {},
     "output_type": "execute_result"
    }
   ],
   "source": [
    "Lowest_value_Comm = Afgan_Commodity.loc[Afgan_Commodity['value'].idxmin()]\n",
    "Lowest_value_Comm"
   ]
  },
  {
   "cell_type": "markdown",
   "metadata": {},
   "source": [
    "<b> WHAT IS THE AMOUNT OF GOODS INDIA IMPORTED OVER THE YEAR FROM ALL THE COUNTRIES</b>"
   ]
  },
  {
   "cell_type": "code",
   "execution_count": 57,
   "metadata": {},
   "outputs": [],
   "source": [
    "data = data.replace(0.0,np.nan)\n",
    "data = data.dropna()"
   ]
  },
  {
   "cell_type": "code",
   "execution_count": 58,
   "metadata": {},
   "outputs": [],
   "source": [
    "import_dist = data.groupby('year')['value'].sum().to_frame().reset_index()"
   ]
  },
  {
   "cell_type": "code",
   "execution_count": 59,
   "metadata": {},
   "outputs": [
    {
     "ename": "TypeError",
     "evalue": "'str' object is not callable",
     "output_type": "error",
     "traceback": [
      "\u001b[1;31m---------------------------------------------------------------------------\u001b[0m",
      "\u001b[1;31mTypeError\u001b[0m                                 Traceback (most recent call last)",
      "\u001b[1;32m<ipython-input-59-2e2f10dc8f3f>\u001b[0m in \u001b[0;36m<module>\u001b[1;34m\u001b[0m\n\u001b[0;32m      1\u001b[0m \u001b[0mplt\u001b[0m\u001b[1;33m.\u001b[0m\u001b[0mbar\u001b[0m\u001b[1;33m(\u001b[0m\u001b[0mimport_dist\u001b[0m\u001b[1;33m.\u001b[0m\u001b[0myear\u001b[0m\u001b[1;33m,\u001b[0m\u001b[0mimport_dist\u001b[0m\u001b[1;33m.\u001b[0m\u001b[0mvalue\u001b[0m\u001b[1;33m)\u001b[0m\u001b[1;33m\u001b[0m\u001b[1;33m\u001b[0m\u001b[0m\n\u001b[1;32m----> 2\u001b[1;33m \u001b[0mplt\u001b[0m\u001b[1;33m.\u001b[0m\u001b[0mxlabel\u001b[0m\u001b[1;33m(\u001b[0m\u001b[1;34m'Distribution over the year'\u001b[0m\u001b[1;33m)\u001b[0m\u001b[1;33m\u001b[0m\u001b[1;33m\u001b[0m\u001b[0m\n\u001b[0m\u001b[0;32m      3\u001b[0m \u001b[0mplt\u001b[0m\u001b[1;33m.\u001b[0m\u001b[0mylabel\u001b[0m\u001b[1;33m(\u001b[0m\u001b[1;34m'Commodities imported over the year'\u001b[0m\u001b[1;33m)\u001b[0m\u001b[1;33m\u001b[0m\u001b[1;33m\u001b[0m\u001b[0m\n\u001b[0;32m      4\u001b[0m \u001b[0mplt\u001b[0m\u001b[1;33m.\u001b[0m\u001b[0mtitle\u001b[0m\u001b[1;33m(\u001b[0m\u001b[1;34m'Commodities import distribution'\u001b[0m\u001b[1;33m)\u001b[0m\u001b[1;33m\u001b[0m\u001b[1;33m\u001b[0m\u001b[0m\n\u001b[0;32m      5\u001b[0m \u001b[0mplt\u001b[0m\u001b[1;33m.\u001b[0m\u001b[0mshow\u001b[0m\u001b[1;33m(\u001b[0m\u001b[1;33m)\u001b[0m\u001b[1;33m\u001b[0m\u001b[1;33m\u001b[0m\u001b[0m\n",
      "\u001b[1;31mTypeError\u001b[0m: 'str' object is not callable"
     ]
    },
    {
     "data": {
      "image/png": "[encoded data removed]",
      "text/plain": [
       "<Figure size 432x288 with 1 Axes>"
      ]
     },
     "metadata": {
      "needs_background": "light"
     },
     "output_type": "display_data"
    }
   ],
   "source": [
    "plt.bar(import_dist.year,import_dist.value)\n",
    "plt.xlabel('Distribution over the year')\n",
    "plt.ylabel('Commodities imported over the year')\n",
    "plt.title('Commodities import distribution')\n",
    "plt.show()"
   ]
  },
  {
   "cell_type": "markdown",
   "metadata": {},
   "source": [
    "<b>WHICH COMMODITY WAS IMPORTED MOST AND IN WHICH YEAR AND WHICH COUNTRY</b>"
   ]
  },
  {
   "cell_type": "code",
   "execution_count": 60,
   "metadata": {},
   "outputs": [
    {
     "data": {
      "text/plain": [
       "Commodity    MINERAL FUELS, MINERAL OILS AND PRODUCTS OF TH...\n",
       "value                                                  32781.6\n",
       "year                                                      2013\n",
       "country                                             SAUDI ARAB\n",
       "Name: 65604, dtype: object"
      ]
     },
     "execution_count": 60,
     "metadata": {},
     "output_type": "execute_result"
    }
   ],
   "source": [
    "highest_value = data.loc[data['value'].idxmax()]\n",
    "highest_value[['Commodity','value','year','country']]"
   ]
  },
  {
   "cell_type": "markdown",
   "metadata": {},
   "source": [
    "<b> WHICH COMMODITY WAS IMPORTED LEAST AND IN WHICH YEAR AND FROM WHICH COUNTRY</b>"
   ]
  },
  {
   "cell_type": "code",
   "execution_count": 61,
   "metadata": {},
   "outputs": [
    {
     "data": {
      "text/plain": [
       "Commodity            COTTON.\n",
       "value                   0.01\n",
       "year                    2018\n",
       "country      AFGHANISTAN TIS\n",
       "Name: 14, dtype: object"
      ]
     },
     "execution_count": 61,
     "metadata": {},
     "output_type": "execute_result"
    }
   ],
   "source": [
    "least_value = data.loc[data['value'].idxmin()]\n",
    "least_value[['Commodity','value','year','country']]"
   ]
  },
  {
   "cell_type": "markdown",
   "metadata": {},
   "source": [
    "<b> DIFFERENT NUMBER OF COMMODITIES IMPORTED BY INDIA OVER THE YEARS </b>"
   ]
  },
  {
   "cell_type": "code",
   "execution_count": 62,
   "metadata": {},
   "outputs": [
    {
     "name": "stdout",
     "output_type": "stream",
     "text": [
      "98\n"
     ]
    }
   ],
   "source": [
    "data_length = data['Commodity'].unique().tolist()\n",
    "print(len(data_length))"
   ]
  },
  {
   "cell_type": "markdown",
   "metadata": {},
   "source": [
    "<b>FROM WHICH COUNTRY DOES INDIA IMPORT LARGEST AMOUNT OF GOODS </b>"
   ]
  },
  {
   "cell_type": "code",
   "execution_count": 63,
   "metadata": {},
   "outputs": [],
   "source": [
    "country_dist = data.groupby('country')['value'].sum().to_frame().reset_index()"
   ]
  },
  {
   "cell_type": "code",
   "execution_count": 54,
   "metadata": {},
   "outputs": [
    {
     "data": {
      "text/plain": [
       "country    CHINA P RP\n",
       "value          678877\n",
       "Name: 43, dtype: object"
      ]
     },
     "execution_count": 54,
     "metadata": {},
     "output_type": "execute_result"
    }
   ],
   "source": [
    "max_value = country_dist.loc[country_dist['value'].idxmax()]\n",
    "max_value"
   ]
  },
  {
   "cell_type": "markdown",
   "metadata": {},
   "source": [
    "<b>FROM WHICH COUNTRY DOES INDIA IMPORT lEAST AMOUNT OF GOODS </b>"
   ]
  },
  {
   "cell_type": "code",
   "execution_count": 64,
   "metadata": {},
   "outputs": [
    {
     "data": {
      "text/plain": [
       "country    PACIFIC IS\n",
       "value            0.01\n",
       "Name: 161, dtype: object"
      ]
     },
     "execution_count": 64,
     "metadata": {},
     "output_type": "execute_result"
    }
   ],
   "source": [
    "min_value = country_dist.loc[country_dist['value'].idxmin()]\n",
    "min_value"
   ]
  },
  {
   "cell_type": "markdown",
   "metadata": {},
   "source": [
    "<b> COUNTRY WISE DISTRIBUITION </b>"
   ]
  },
  {
   "cell_type": "code",
   "execution_count": 74,
   "metadata": {},
   "outputs": [
    {
     "data": {
      "text/plain": [
       "country\n",
       "AFGHANISTAN TIS                               3555.83\n",
       "ALBANIA                                        585.65\n",
       "ALGERIA                                      13143.63\n",
       "AMERI SAMOA                                      6.13\n",
       "ANDORRA                                          5.48\n",
       "ANGOLA                                       54337.40\n",
       "ANGUILLA                                         0.95\n",
       "ANTARTICA                                        8.63\n",
       "ANTIGUA                                         16.79\n",
       "ARGENTINA                                    22469.58\n",
       "ARMENIA                                         49.37\n",
       "ARUBA                                            9.16\n",
       "AUSTRALIA                                   142723.67\n",
       "AUSTRIA                                      10412.88\n",
       "AZERBAIJAN                                    4832.09\n",
       "BAHAMAS                                       1177.45\n",
       "BAHARAIN IS                                   6166.97\n",
       "BANGLADESH PR                                 8393.87\n",
       "BARBADOS                                         5.66\n",
       "BELARUS                                       2307.27\n",
       "BELGIUM                                     106676.14\n",
       "BELIZE                                           8.85\n",
       "BENIN                                         3006.50\n",
       "BERMUDA                                         15.53\n",
       "BHUTAN                                        3238.23\n",
       "BOLIVIA                                       3717.11\n",
       "BOSNIA-HRZGOVIN                                 97.76\n",
       "BOTSWANA                                      9148.92\n",
       "BR VIRGN IS                                     48.48\n",
       "BRAZIL                                       53771.14\n",
       "                                              ...    \n",
       "THAILAND                                     66191.05\n",
       "TIMOR LESTE                                     25.41\n",
       "TOGO                                          2070.54\n",
       "TOKELAU IS                                       0.53\n",
       "TONGA                                            0.48\n",
       "TRINIDAD                                      1108.19\n",
       "TUNISIA                                       1776.18\n",
       "TURKEY                                       17125.21\n",
       "TURKMENISTAN                                   226.45\n",
       "TURKS C IS                                       0.35\n",
       "TUVALU                                           1.57\n",
       "U ARAB EMTS                                 307810.15\n",
       "U K                                          63479.69\n",
       "U S A                                       281436.58\n",
       "UGANDA                                         403.07\n",
       "UKRAINE                                      24209.44\n",
       "UNION OF SERBIA & MONTENEGRO                    42.36\n",
       "UNSPECIFIED                                  53562.52\n",
       "URUGUAY                                        280.88\n",
       "US MINOR OUTLYING ISLANDS                        3.70\n",
       "UZBEKISTAN                                     725.47\n",
       "VANUATU REP                                      5.74\n",
       "VATICAN CITY                                     0.58\n",
       "VENEZUELA                                    89129.03\n",
       "VIETNAM SOC REP                              41001.68\n",
       "VIRGIN IS US                                    11.34\n",
       "WALLIS F IS                                      1.37\n",
       "YEMEN REPUBLC                                 5337.66\n",
       "ZAMBIA                                        5482.47\n",
       "ZIMBABWE                                       319.15\n",
       "Name: value, Length: 241, dtype: float64"
      ]
     },
     "execution_count": 74,
     "metadata": {},
     "output_type": "execute_result"
    }
   ],
   "source": [
    "data.groupby('country')['value'].sum()"
   ]
  },
  {
   "cell_type": "code",
   "execution_count": 87,
   "metadata": {},
   "outputs": [
    {
     "data": {
      "text/html": [
       "<div>\n",
       "<style scoped>\n",
       "    .dataframe tbody tr th:only-of-type {\n",
       "        vertical-align: middle;\n",
       "    }\n",
       "\n",
       "    .dataframe tbody tr th {\n",
       "        vertical-align: top;\n",
       "    }\n",
       "\n",
       "    .dataframe thead th {\n",
       "        text-align: right;\n",
       "    }\n",
       "</style>\n",
       "<table border=\"1\" class=\"dataframe\">\n",
       "  <thead>\n",
       "    <tr style=\"text-align: right;\">\n",
       "      <th></th>\n",
       "      <th>Commodity</th>\n",
       "      <th>value</th>\n",
       "    </tr>\n",
       "  </thead>\n",
       "  <tbody>\n",
       "    <tr>\n",
       "      <th>0</th>\n",
       "      <td>AIRCRAFT, SPACECRAFT, AND PARTS THEREOF.</td>\n",
       "      <td>65212.62</td>\n",
       "    </tr>\n",
       "    <tr>\n",
       "      <th>1</th>\n",
       "      <td>ALBUMINOIDAL SUBSTANCES; MODIFIED STARCHES; GL...</td>\n",
       "      <td>4097.18</td>\n",
       "    </tr>\n",
       "    <tr>\n",
       "      <th>2</th>\n",
       "      <td>ALUMINIUM AND ARTICLES THEREOF.</td>\n",
       "      <td>42375.88</td>\n",
       "    </tr>\n",
       "    <tr>\n",
       "      <th>3</th>\n",
       "      <td>ANIMAL OR VEGETABLE FATS AND OILS AND THEIR CL...</td>\n",
       "      <td>115462.40</td>\n",
       "    </tr>\n",
       "    <tr>\n",
       "      <th>4</th>\n",
       "      <td>ARMS AND AMMUNITION; PARTS AND ACCESSORIES THE...</td>\n",
       "      <td>414.10</td>\n",
       "    </tr>\n",
       "    <tr>\n",
       "      <th>5</th>\n",
       "      <td>ARTICLES OF APPAREL AND CLOTHING ACCESSORIES, ...</td>\n",
       "      <td>2884.66</td>\n",
       "    </tr>\n",
       "    <tr>\n",
       "      <th>6</th>\n",
       "      <td>ARTICLES OF APPAREL AND CLOTHING ACCESSORIES, ...</td>\n",
       "      <td>3991.15</td>\n",
       "    </tr>\n",
       "    <tr>\n",
       "      <th>7</th>\n",
       "      <td>ARTICLES OF IRON OR STEEL</td>\n",
       "      <td>45781.95</td>\n",
       "    </tr>\n",
       "    <tr>\n",
       "      <th>8</th>\n",
       "      <td>ARTICLES OF LEATHER,SADDLERY AND HARNESS;TRAVE...</td>\n",
       "      <td>3750.24</td>\n",
       "    </tr>\n",
       "    <tr>\n",
       "      <th>9</th>\n",
       "      <td>ARTICLES OF STONE, PLASTER, CEMENT, ASBESTOS, ...</td>\n",
       "      <td>7561.06</td>\n",
       "    </tr>\n",
       "    <tr>\n",
       "      <th>10</th>\n",
       "      <td>BEVERAGES, SPIRITS AND VINEGAR.</td>\n",
       "      <td>6191.45</td>\n",
       "    </tr>\n",
       "    <tr>\n",
       "      <th>11</th>\n",
       "      <td>CARPETS AND OTHER TEXTILE FLOOR COVERINGS.</td>\n",
       "      <td>1041.29</td>\n",
       "    </tr>\n",
       "    <tr>\n",
       "      <th>12</th>\n",
       "      <td>CERAMIC PRODUCTS.</td>\n",
       "      <td>7077.66</td>\n",
       "    </tr>\n",
       "    <tr>\n",
       "      <th>13</th>\n",
       "      <td>CEREALS.</td>\n",
       "      <td>2830.67</td>\n",
       "    </tr>\n",
       "    <tr>\n",
       "      <th>14</th>\n",
       "      <td>CLOCKS AND WATCHES AND PARTS THEREOF.</td>\n",
       "      <td>3390.63</td>\n",
       "    </tr>\n",
       "    <tr>\n",
       "      <th>15</th>\n",
       "      <td>COCOA AND COCOA PREPARATIONS.</td>\n",
       "      <td>2378.61</td>\n",
       "    </tr>\n",
       "    <tr>\n",
       "      <th>16</th>\n",
       "      <td>COFFEE, TEA, MATE AND SPICES.</td>\n",
       "      <td>7257.63</td>\n",
       "    </tr>\n",
       "    <tr>\n",
       "      <th>17</th>\n",
       "      <td>COPPER AND ARTICLES THEREOF.</td>\n",
       "      <td>39889.03</td>\n",
       "    </tr>\n",
       "    <tr>\n",
       "      <th>18</th>\n",
       "      <td>CORK AND ARTICLES OF CORK.</td>\n",
       "      <td>65.21</td>\n",
       "    </tr>\n",
       "    <tr>\n",
       "      <th>19</th>\n",
       "      <td>COTTON.</td>\n",
       "      <td>9030.46</td>\n",
       "    </tr>\n",
       "    <tr>\n",
       "      <th>20</th>\n",
       "      <td>DAIRY PRODUCE; BIRDS' EGGS; NATURAL HONEY; EDI...</td>\n",
       "      <td>807.00</td>\n",
       "    </tr>\n",
       "    <tr>\n",
       "      <th>21</th>\n",
       "      <td>EDIBLE FRUIT AND NUTS; PEEL OR CITRUS FRUIT OR...</td>\n",
       "      <td>31111.30</td>\n",
       "    </tr>\n",
       "    <tr>\n",
       "      <th>22</th>\n",
       "      <td>EDIBLE VEGETABLES AND CERTAIN ROOTS AND TUBERS.</td>\n",
       "      <td>28442.52</td>\n",
       "    </tr>\n",
       "    <tr>\n",
       "      <th>23</th>\n",
       "      <td>ELECTRICAL MACHINERY AND EQUIPMENT AND PARTS T...</td>\n",
       "      <td>427570.66</td>\n",
       "    </tr>\n",
       "    <tr>\n",
       "      <th>24</th>\n",
       "      <td>ESSENTIAL OILS AND RESINOIDS; PERFUMERY, COSME...</td>\n",
       "      <td>8100.83</td>\n",
       "    </tr>\n",
       "    <tr>\n",
       "      <th>25</th>\n",
       "      <td>EXPLOSIVES; PYROTECHNIC PRODUCTS; MATCHES; PYR...</td>\n",
       "      <td>109.04</td>\n",
       "    </tr>\n",
       "    <tr>\n",
       "      <th>26</th>\n",
       "      <td>FERTILISERS.</td>\n",
       "      <td>68717.35</td>\n",
       "    </tr>\n",
       "    <tr>\n",
       "      <th>27</th>\n",
       "      <td>FISH AND CRUSTACEANS, MOLLUSCS AND OTHER AQUAT...</td>\n",
       "      <td>896.99</td>\n",
       "    </tr>\n",
       "    <tr>\n",
       "      <th>28</th>\n",
       "      <td>FOOTWEAR, GAITERS AND THE LIKE; PARTS OF SUCH ...</td>\n",
       "      <td>5741.58</td>\n",
       "    </tr>\n",
       "    <tr>\n",
       "      <th>29</th>\n",
       "      <td>FURNITURE; BEDDING, MATTRESSES, MATTRESS SUPPO...</td>\n",
       "      <td>15785.33</td>\n",
       "    </tr>\n",
       "    <tr>\n",
       "      <th>...</th>\n",
       "      <td>...</td>\n",
       "      <td>...</td>\n",
       "    </tr>\n",
       "    <tr>\n",
       "      <th>68</th>\n",
       "      <td>PREPARATIONS OF VEGETABLES, FRUIT, NUTS OR OTH...</td>\n",
       "      <td>976.57</td>\n",
       "    </tr>\n",
       "    <tr>\n",
       "      <th>69</th>\n",
       "      <td>PREPARED FEATHERS AND DOWN AND ARTICLES MADE O...</td>\n",
       "      <td>169.11</td>\n",
       "    </tr>\n",
       "    <tr>\n",
       "      <th>70</th>\n",
       "      <td>PRINTED BOOKDS, NEWSPAPERS, PICTURES AND OTHER...</td>\n",
       "      <td>4782.72</td>\n",
       "    </tr>\n",
       "    <tr>\n",
       "      <th>71</th>\n",
       "      <td>PRODUCTS OF ANIMAL ORIGIN, NOT ELSEWHERE SPECI...</td>\n",
       "      <td>457.45</td>\n",
       "    </tr>\n",
       "    <tr>\n",
       "      <th>72</th>\n",
       "      <td>PRODUCTS OF THE MILLING INDUSTRY; MALT; STARCH...</td>\n",
       "      <td>662.15</td>\n",
       "    </tr>\n",
       "    <tr>\n",
       "      <th>73</th>\n",
       "      <td>PROJECT GOODS; SOME SPECIAL USES.</td>\n",
       "      <td>43677.74</td>\n",
       "    </tr>\n",
       "    <tr>\n",
       "      <th>74</th>\n",
       "      <td>PULP OF WOOD OR OF OTHER FIBROUS CELLULOSIC MA...</td>\n",
       "      <td>19670.78</td>\n",
       "    </tr>\n",
       "    <tr>\n",
       "      <th>75</th>\n",
       "      <td>RAILWAY OR TRAMWAY LOCOMOTIVES, ROLLING-STOCK ...</td>\n",
       "      <td>4808.38</td>\n",
       "    </tr>\n",
       "    <tr>\n",
       "      <th>76</th>\n",
       "      <td>RAW HIDES AND SKINS (OTHER THAN FURSKINS) AND ...</td>\n",
       "      <td>6638.67</td>\n",
       "    </tr>\n",
       "    <tr>\n",
       "      <th>77</th>\n",
       "      <td>RESIDUES AND WASTE FROM THE FOOD INDUSTRIES; P...</td>\n",
       "      <td>4651.84</td>\n",
       "    </tr>\n",
       "    <tr>\n",
       "      <th>78</th>\n",
       "      <td>RUBBER AND ARTICLES THEREOF.</td>\n",
       "      <td>37362.65</td>\n",
       "    </tr>\n",
       "    <tr>\n",
       "      <th>79</th>\n",
       "      <td>SALT; SULPHUR; EARTHS AND STONE; PLASTERING MA...</td>\n",
       "      <td>28984.75</td>\n",
       "    </tr>\n",
       "    <tr>\n",
       "      <th>80</th>\n",
       "      <td>SHIPS, BOATS AND FLOATING STRUCTURES.</td>\n",
       "      <td>58294.94</td>\n",
       "    </tr>\n",
       "    <tr>\n",
       "      <th>81</th>\n",
       "      <td>SILK</td>\n",
       "      <td>2791.80</td>\n",
       "    </tr>\n",
       "    <tr>\n",
       "      <th>82</th>\n",
       "      <td>SOAP, ORGANIC SURFACE-ACTIVE AGENTS, WASHING P...</td>\n",
       "      <td>7500.32</td>\n",
       "    </tr>\n",
       "    <tr>\n",
       "      <th>83</th>\n",
       "      <td>SPECIAL WOVEN FABRICS; TUFTED TEXTILE FABRICS;...</td>\n",
       "      <td>1943.68</td>\n",
       "    </tr>\n",
       "    <tr>\n",
       "      <th>84</th>\n",
       "      <td>SUGARS AND SUGAR CONFECTIONERY.</td>\n",
       "      <td>8213.27</td>\n",
       "    </tr>\n",
       "    <tr>\n",
       "      <th>85</th>\n",
       "      <td>TANNING OR DYEING EXTRACTS; TANNINS AND THEIR ...</td>\n",
       "      <td>19103.44</td>\n",
       "    </tr>\n",
       "    <tr>\n",
       "      <th>86</th>\n",
       "      <td>TIN AND ARTICLES THEREOF.</td>\n",
       "      <td>2277.85</td>\n",
       "    </tr>\n",
       "    <tr>\n",
       "      <th>87</th>\n",
       "      <td>TOBACCO AND MANUFACTURED TOBACCO SUBSTITUTES.</td>\n",
       "      <td>481.77</td>\n",
       "    </tr>\n",
       "    <tr>\n",
       "      <th>88</th>\n",
       "      <td>TOOLS IMPLEMENTS, CUTLERY, SPOONS AND FORKS, O...</td>\n",
       "      <td>10568.39</td>\n",
       "    </tr>\n",
       "    <tr>\n",
       "      <th>89</th>\n",
       "      <td>TOYS, GAMES AND SPORTS REQUISITES; PARTS AND A...</td>\n",
       "      <td>5734.05</td>\n",
       "    </tr>\n",
       "    <tr>\n",
       "      <th>90</th>\n",
       "      <td>UMBRELLAS, SUN UMBRELLAS, WALKING-STICKS, SEAT...</td>\n",
       "      <td>310.79</td>\n",
       "    </tr>\n",
       "    <tr>\n",
       "      <th>91</th>\n",
       "      <td>VEGETABLE PLAITING MATERIALS; VEGETABLE PRODUC...</td>\n",
       "      <td>308.94</td>\n",
       "    </tr>\n",
       "    <tr>\n",
       "      <th>92</th>\n",
       "      <td>VEHICLES OTHER THAN RAILWAY OR TRAMWAY ROLLING...</td>\n",
       "      <td>57415.76</td>\n",
       "    </tr>\n",
       "    <tr>\n",
       "      <th>93</th>\n",
       "      <td>WADDING, FELT AND NONWOVENS; SPACIAL YARNS; TW...</td>\n",
       "      <td>2891.36</td>\n",
       "    </tr>\n",
       "    <tr>\n",
       "      <th>94</th>\n",
       "      <td>WOOD AND ARTICLES OF WOOD; WOOD CHARCOAL.</td>\n",
       "      <td>25978.66</td>\n",
       "    </tr>\n",
       "    <tr>\n",
       "      <th>95</th>\n",
       "      <td>WOOL, FINE OR COARSE ANIMAL HAIR, HORSEHAIR YA...</td>\n",
       "      <td>4290.27</td>\n",
       "    </tr>\n",
       "    <tr>\n",
       "      <th>96</th>\n",
       "      <td>WORKS OF ART COLLECTORS' PIECES AND ANTIQUES.</td>\n",
       "      <td>1186.38</td>\n",
       "    </tr>\n",
       "    <tr>\n",
       "      <th>97</th>\n",
       "      <td>ZINC AND ARTICLES THEREOF.</td>\n",
       "      <td>6194.61</td>\n",
       "    </tr>\n",
       "  </tbody>\n",
       "</table>\n",
       "<p>98 rows × 2 columns</p>\n",
       "</div>"
      ],
      "text/plain": [
       "                                            Commodity      value\n",
       "0            AIRCRAFT, SPACECRAFT, AND PARTS THEREOF.   65212.62\n",
       "1   ALBUMINOIDAL SUBSTANCES; MODIFIED STARCHES; GL...    4097.18\n",
       "2                     ALUMINIUM AND ARTICLES THEREOF.   42375.88\n",
       "3   ANIMAL OR VEGETABLE FATS AND OILS AND THEIR CL...  115462.40\n",
       "4   ARMS AND AMMUNITION; PARTS AND ACCESSORIES THE...     414.10\n",
       "5   ARTICLES OF APPAREL AND CLOTHING ACCESSORIES, ...    2884.66\n",
       "6   ARTICLES OF APPAREL AND CLOTHING ACCESSORIES, ...    3991.15\n",
       "7                           ARTICLES OF IRON OR STEEL   45781.95\n",
       "8   ARTICLES OF LEATHER,SADDLERY AND HARNESS;TRAVE...    3750.24\n",
       "9   ARTICLES OF STONE, PLASTER, CEMENT, ASBESTOS, ...    7561.06\n",
       "10                    BEVERAGES, SPIRITS AND VINEGAR.    6191.45\n",
       "11         CARPETS AND OTHER TEXTILE FLOOR COVERINGS.    1041.29\n",
       "12                                  CERAMIC PRODUCTS.    7077.66\n",
       "13                                           CEREALS.    2830.67\n",
       "14              CLOCKS AND WATCHES AND PARTS THEREOF.    3390.63\n",
       "15                      COCOA AND COCOA PREPARATIONS.    2378.61\n",
       "16                      COFFEE, TEA, MATE AND SPICES.    7257.63\n",
       "17                       COPPER AND ARTICLES THEREOF.   39889.03\n",
       "18                         CORK AND ARTICLES OF CORK.      65.21\n",
       "19                                            COTTON.    9030.46\n",
       "20  DAIRY PRODUCE; BIRDS' EGGS; NATURAL HONEY; EDI...     807.00\n",
       "21  EDIBLE FRUIT AND NUTS; PEEL OR CITRUS FRUIT OR...   31111.30\n",
       "22    EDIBLE VEGETABLES AND CERTAIN ROOTS AND TUBERS.   28442.52\n",
       "23  ELECTRICAL MACHINERY AND EQUIPMENT AND PARTS T...  427570.66\n",
       "24  ESSENTIAL OILS AND RESINOIDS; PERFUMERY, COSME...    8100.83\n",
       "25  EXPLOSIVES; PYROTECHNIC PRODUCTS; MATCHES; PYR...     109.04\n",
       "26                                       FERTILISERS.   68717.35\n",
       "27  FISH AND CRUSTACEANS, MOLLUSCS AND OTHER AQUAT...     896.99\n",
       "28  FOOTWEAR, GAITERS AND THE LIKE; PARTS OF SUCH ...    5741.58\n",
       "29  FURNITURE; BEDDING, MATTRESSES, MATTRESS SUPPO...   15785.33\n",
       "..                                                ...        ...\n",
       "68  PREPARATIONS OF VEGETABLES, FRUIT, NUTS OR OTH...     976.57\n",
       "69  PREPARED FEATHERS AND DOWN AND ARTICLES MADE O...     169.11\n",
       "70  PRINTED BOOKDS, NEWSPAPERS, PICTURES AND OTHER...    4782.72\n",
       "71  PRODUCTS OF ANIMAL ORIGIN, NOT ELSEWHERE SPECI...     457.45\n",
       "72  PRODUCTS OF THE MILLING INDUSTRY; MALT; STARCH...     662.15\n",
       "73                  PROJECT GOODS; SOME SPECIAL USES.   43677.74\n",
       "74  PULP OF WOOD OR OF OTHER FIBROUS CELLULOSIC MA...   19670.78\n",
       "75  RAILWAY OR TRAMWAY LOCOMOTIVES, ROLLING-STOCK ...    4808.38\n",
       "76  RAW HIDES AND SKINS (OTHER THAN FURSKINS) AND ...    6638.67\n",
       "77  RESIDUES AND WASTE FROM THE FOOD INDUSTRIES; P...    4651.84\n",
       "78                       RUBBER AND ARTICLES THEREOF.   37362.65\n",
       "79  SALT; SULPHUR; EARTHS AND STONE; PLASTERING MA...   28984.75\n",
       "80              SHIPS, BOATS AND FLOATING STRUCTURES.   58294.94\n",
       "81                                               SILK    2791.80\n",
       "82  SOAP, ORGANIC SURFACE-ACTIVE AGENTS, WASHING P...    7500.32\n",
       "83  SPECIAL WOVEN FABRICS; TUFTED TEXTILE FABRICS;...    1943.68\n",
       "84                    SUGARS AND SUGAR CONFECTIONERY.    8213.27\n",
       "85  TANNING OR DYEING EXTRACTS; TANNINS AND THEIR ...   19103.44\n",
       "86                          TIN AND ARTICLES THEREOF.    2277.85\n",
       "87      TOBACCO AND MANUFACTURED TOBACCO SUBSTITUTES.     481.77\n",
       "88  TOOLS IMPLEMENTS, CUTLERY, SPOONS AND FORKS, O...   10568.39\n",
       "89  TOYS, GAMES AND SPORTS REQUISITES; PARTS AND A...    5734.05\n",
       "90  UMBRELLAS, SUN UMBRELLAS, WALKING-STICKS, SEAT...     310.79\n",
       "91  VEGETABLE PLAITING MATERIALS; VEGETABLE PRODUC...     308.94\n",
       "92  VEHICLES OTHER THAN RAILWAY OR TRAMWAY ROLLING...   57415.76\n",
       "93  WADDING, FELT AND NONWOVENS; SPACIAL YARNS; TW...    2891.36\n",
       "94          WOOD AND ARTICLES OF WOOD; WOOD CHARCOAL.   25978.66\n",
       "95  WOOL, FINE OR COARSE ANIMAL HAIR, HORSEHAIR YA...    4290.27\n",
       "96      WORKS OF ART COLLECTORS' PIECES AND ANTIQUES.    1186.38\n",
       "97                         ZINC AND ARTICLES THEREOF.    6194.61\n",
       "\n",
       "[98 rows x 2 columns]"
      ]
     },
     "execution_count": 87,
     "metadata": {},
     "output_type": "execute_result"
    }
   ],
   "source": [
    "commodity_data = data.groupby('Commodity')['value'].sum().to_frame().reset_index()\n",
    "commodity_data"
   ]
  },
  {
   "cell_type": "code",
   "execution_count": 85,
   "metadata": {},
   "outputs": [
    {
     "data": {
      "text/plain": [
       "Commodity    MINERAL FUELS, MINERAL OILS AND PRODUCTS OF TH...\n",
       "value                                              1.61856e+06\n",
       "Name: 45, dtype: object"
      ]
     },
     "execution_count": 85,
     "metadata": {},
     "output_type": "execute_result"
    }
   ],
   "source": [
    "commodity_max_value = commodity_data.loc[commodity_data['value'].idxmax()]\n",
    "commodity_max_value"
   ]
  },
  {
   "cell_type": "code",
   "execution_count": 86,
   "metadata": {},
   "outputs": [
    {
     "data": {
      "text/plain": [
       "Commodity    MANUFACTURES OF STRAW, OF ESPARTO OR OF OTHER ...\n",
       "value                                                    32.68\n",
       "Name: 43, dtype: object"
      ]
     },
     "execution_count": 86,
     "metadata": {},
     "output_type": "execute_result"
    }
   ],
   "source": [
    "commodity_min_value = commodity_data.loc[commodity_data['value'].idxmin()]\n",
    "commodity_min_value"
   ]
  },
  {
   "cell_type": "code",
   "execution_count": null,
   "metadata": {},
   "outputs": [],
   "source": []
  }
 ],
 "metadata": {
  "kernelspec": {
   "display_name": "Python 3",
   "language": "python",
   "name": "python3"
  },
  "language_info": {
   "codemirror_mode": {
    "name": "ipython",
    "version": 3
   },
   "file_extension": ".py",
   "mimetype": "text/x-python",
   "name": "python",
   "nbconvert_exporter": "python",
   "pygments_lexer": "ipython3",
   "version": "3.7.3"
  }
 },
 "nbformat": 4,
 "nbformat_minor": 4
}
