{
 "cells": [
  {
   "cell_type": "markdown",
   "metadata": {},
   "source": [
    "<h1> Python Regular expression practice </h1>"
   ]
  },
  {
   "cell_type": "markdown",
   "metadata": {},
   "source": [
    "<b> A RegEx, or Regular Expression, is a sequence of characters that forms a search pattern.\n",
    "\n",
    "RegEx can be used to check if a string contains the specified search pattern.\n",
    "\n",
    "</b>"
   ]
  },
  {
   "cell_type": "code",
   "execution_count": 4,
   "metadata": {},
   "outputs": [],
   "source": [
    "#importing the re module\n",
    "import re"
   ]
  },
  {
   "cell_type": "markdown",
   "metadata": {},
   "source": [
    "<h2> MENU </h2> <br>\n",
    "<a href=\"Heading 2\">Search the string to see if it starts with \"The\" and ends with \"Spain\":</a> <br>"
   ]
  },
  {
   "cell_type": "markdown",
   "metadata": {},
   "source": [
    "<a id=\"Heading 1\"><h3>Regex functions</h3></a> <br>\n",
    "\n",
    "findall\tReturns a list containing all matches<br>\n",
    "search\tReturns a Match object if there is a match anywhere in the string<br>\n",
    "split\tReturns a list where the string has been split at each match<br>\n",
    "sub\tReplaces one or many matches with a string<br>"
   ]
  },
  {
   "cell_type": "markdown",
   "metadata": {},
   "source": [
    "<a id=\"Heading 2\"><h4>re.search</h4></a>"
   ]
  },
  {
   "cell_type": "markdown",
   "metadata": {},
   "source": [
    "<a id=\"Heading_3\">Search the string to see if it starts with \"The\" and ends with \"Spain\":</a>"
   ]
  },
  {
   "cell_type": "code",
   "execution_count": 19,
   "metadata": {},
   "outputs": [
    {
     "name": "stdout",
     "output_type": "stream",
     "text": [
      "<re.Match object; span=(0, 17), match='The rain in Spain'>\n"
     ]
    }
   ],
   "source": [
    "text = \"The rain in Spain\"\n",
    "x = re.search(\"^The.*Spain$\",text)\n",
    "print(x)"
   ]
  },
  {
   "cell_type": "markdown",
   "metadata": {},
   "source": [
    "Search for the first white-space character in the string:"
   ]
  },
  {
   "cell_type": "code",
   "execution_count": 16,
   "metadata": {},
   "outputs": [
    {
     "name": "stdout",
     "output_type": "stream",
     "text": [
      "The first white space character located in the position:  3\n"
     ]
    }
   ],
   "source": [
    "txt = \"The rain in Spain\"\n",
    "output = re.search(\"\\s\",txt)\n",
    "print(\"The first white space character located in the position: \",output.start())"
   ]
  },
  {
   "cell_type": "markdown",
   "metadata": {},
   "source": [
    "Make a search that returns no match"
   ]
  },
  {
   "cell_type": "code",
   "execution_count": 21,
   "metadata": {},
   "outputs": [
    {
     "name": "stdout",
     "output_type": "stream",
     "text": [
      "None\n"
     ]
    }
   ],
   "source": [
    "text1 = \"The rain in spain\"\n",
    "x = re.search('India',text1)\n",
    "print(x)"
   ]
  },
  {
   "cell_type": "markdown",
   "metadata": {},
   "source": [
    "<h5>re.findall</h5>"
   ]
  },
  {
   "cell_type": "markdown",
   "metadata": {},
   "source": [
    "print a list of all matches"
   ]
  },
  {
   "cell_type": "code",
   "execution_count": 20,
   "metadata": {},
   "outputs": [
    {
     "name": "stdout",
     "output_type": "stream",
     "text": [
      "['ai', 'ai']\n"
     ]
    }
   ],
   "source": [
    "text = \"the rain in Spain\"\n",
    "x = re.findall(\"ai\",text)\n",
    "print(x)"
   ]
  },
  {
   "cell_type": "markdown",
   "metadata": {},
   "source": [
    "<b> Split function </b>"
   ]
  },
  {
   "cell_type": "code",
   "execution_count": 22,
   "metadata": {},
   "outputs": [
    {
     "name": "stdout",
     "output_type": "stream",
     "text": [
      "['The', 'rain', 'in', 'spain']\n"
     ]
    }
   ],
   "source": [
    "text2 = \"The rain in spain\"\n",
    "x = re.split(\"\\s\",text2) # This will split the string using white spaces\n",
    "print(x)"
   ]
  },
  {
   "cell_type": "markdown",
   "metadata": {},
   "source": [
    "Split the string only at first occurance of white space"
   ]
  },
  {
   "cell_type": "code",
   "execution_count": 23,
   "metadata": {},
   "outputs": [
    {
     "name": "stdout",
     "output_type": "stream",
     "text": [
      "['The', 'rain in spain']\n"
     ]
    }
   ],
   "source": [
    "text3 = \"The rain in spain\"\n",
    "x = re.split(\"\\s\",text3,1)\n",
    "print(x)"
   ]
  },
  {
   "cell_type": "markdown",
   "metadata": {},
   "source": [
    "<b> sub function </b>"
   ]
  },
  {
   "cell_type": "code",
   "execution_count": 24,
   "metadata": {},
   "outputs": [
    {
     "name": "stdout",
     "output_type": "stream",
     "text": [
      "The9rain9in9spain\n"
     ]
    }
   ],
   "source": [
    "text4 = \"The rain in spain\"\n",
    "x = re.sub(\"\\s\",\"9\",text4) # replace all the white space character with 9\n",
    "print(x)"
   ]
  },
  {
   "cell_type": "markdown",
   "metadata": {},
   "source": [
    "Replace the first 2 occurance"
   ]
  },
  {
   "cell_type": "code",
   "execution_count": 26,
   "metadata": {},
   "outputs": [
    {
     "name": "stdout",
     "output_type": "stream",
     "text": [
      "The9rain9in spain\n"
     ]
    }
   ],
   "source": [
    "text5 = \"The rain in spain\"\n",
    "x = re.sub(\"\\s\",\"9\",text5,2)\n",
    "print(x)"
   ]
  },
  {
   "cell_type": "markdown",
   "metadata": {},
   "source": [
    "<b> Match Object </b>"
   ]
  },
  {
   "cell_type": "markdown",
   "metadata": {},
   "source": [
    "match object contains information about the search and result it has 3 properties:<br>\n",
    "1. .span()\n",
    "2. .string\n",
    "3. .group()"
   ]
  },
  {
   "cell_type": "code",
   "execution_count": 29,
   "metadata": {},
   "outputs": [
    {
     "name": "stdout",
     "output_type": "stream",
     "text": [
      "<re.Match object; span=(5, 7), match='ai'>\n"
     ]
    }
   ],
   "source": [
    "#Do a search that will return a Match Object:\n",
    "text6 = \"The rain in spain\"\n",
    "x = re.search(\"ai\",text6)\n",
    "print(x)"
   ]
  },
  {
   "cell_type": "markdown",
   "metadata": {},
   "source": [
    "<b>SPAN</b> <br>\n",
    "Print the position (start- and end-position) of the first match occurrence.\n",
    "\n",
    "The regular expression looks for any words that starts with an upper case \"S\":"
   ]
  },
  {
   "cell_type": "code",
   "execution_count": 36,
   "metadata": {},
   "outputs": [
    {
     "name": "stdout",
     "output_type": "stream",
     "text": [
      "(12, 17)\n"
     ]
    }
   ],
   "source": [
    "text6 = \"The rain in Spain\"\n",
    "x = re.search(r\"\\bS\\w+\", text6)\n",
    "print(x.span())"
   ]
  },
  {
   "cell_type": "markdown",
   "metadata": {},
   "source": [
    "Print the string passed into the function:"
   ]
  },
  {
   "cell_type": "code",
   "execution_count": 37,
   "metadata": {},
   "outputs": [
    {
     "name": "stdout",
     "output_type": "stream",
     "text": [
      "The rain in Spain\n"
     ]
    }
   ],
   "source": [
    "text7 = \"The rain in Spain\"\n",
    "x = re.search(r\"\\bS\\w+\",text7)\n",
    "print(x.string)"
   ]
  },
  {
   "cell_type": "markdown",
   "metadata": {},
   "source": [
    "Print the string where there was a match <br>\n",
    "<b> group </b>"
   ]
  },
  {
   "cell_type": "code",
   "execution_count": 38,
   "metadata": {},
   "outputs": [
    {
     "name": "stdout",
     "output_type": "stream",
     "text": [
      "Spain\n"
     ]
    }
   ],
   "source": [
    "text8 = \"The rain in Spain\"\n",
    "x = re.search(r\"\\bS\\w+\",text8)\n",
    "print(x.group())"
   ]
  },
  {
   "cell_type": "markdown",
   "metadata": {},
   "source": [
    "<h3> Meta Characters </h3>"
   ]
  },
  {
   "cell_type": "markdown",
   "metadata": {},
   "source": [
    "1. []\tA set of characters\t\"[a-m]\"\t<br>\n",
    "2. \\\tSignals a special sequence (can also be used to escape special characters)\t\"\\d\" <br>\n",
    "3. .\tAny character (except newline character)\t\"he..o\"\t<br>\n",
    "4. ^\tStarts with\t\"^hello\"\t<br>\n",
    "5.     $\t(doller sign)Ends with\t\"world$\"\t<br>\n",
    "6. *\tZero or more occurrences\t\"aix*\" <br>\t\n",
    "7. +\tOne or more occurrences\t\"aix+\"\t<br>\n",
    "8. {}\tExactly the specified number of occurrences\t\"al{2}\"\t<br>\n",
    "9. |\tEither or\t\"falls|stays\"\t<br>\n",
    "10. ()\tCapture and group\t<br>"
   ]
  },
  {
   "cell_type": "markdown",
   "metadata": {},
   "source": [
    "Find all the charaters alhabetically between \"a\" and \"m\""
   ]
  },
  {
   "cell_type": "code",
   "execution_count": 40,
   "metadata": {},
   "outputs": [
    {
     "name": "stdout",
     "output_type": "stream",
     "text": [
      "['a', 'a']\n"
     ]
    }
   ],
   "source": [
    "string1 = \"The rain in Spain\"\n",
    "x = re.findall(\"[a=m]\",string1)\n",
    "print(x)"
   ]
  },
  {
   "cell_type": "markdown",
   "metadata": {},
   "source": [
    "Find all digit characters:"
   ]
  },
  {
   "cell_type": "code",
   "execution_count": 41,
   "metadata": {},
   "outputs": [
    {
     "name": "stdout",
     "output_type": "stream",
     "text": [
      "['5', '9']\n"
     ]
    }
   ],
   "source": [
    "string2 = \"That will be 59 dollers\"\n",
    "x = re.findall(\"\\d\",string2)\n",
    "print(x)"
   ]
  },
  {
   "cell_type": "markdown",
   "metadata": {},
   "source": [
    "Search for a sequence that starts with \"he\", followed by two (any) characters, and an \"o\":"
   ]
  },
  {
   "cell_type": "code",
   "execution_count": 43,
   "metadata": {},
   "outputs": [
    {
     "name": "stdout",
     "output_type": "stream",
     "text": [
      "['hello']\n"
     ]
    }
   ],
   "source": [
    "#find any character except new line characters\n",
    "string3 = \"hello world\"\n",
    "x = re.findall(\"he..o\",string3)\n",
    "print(x)"
   ]
  },
  {
   "cell_type": "markdown",
   "metadata": {},
   "source": [
    "Check with string start with \"Hello\""
   ]
  },
  {
   "cell_type": "code",
   "execution_count": 45,
   "metadata": {},
   "outputs": [
    {
     "name": "stdout",
     "output_type": "stream",
     "text": [
      "yes\n",
      "['hello']\n"
     ]
    }
   ],
   "source": [
    "x = re.findall(\"^hello\",string3)\n",
    "if (x):\n",
    "    print(\"yes\")\n",
    "    print(x)\n",
    "else:\n",
    "    print(\"no match\")"
   ]
  },
  {
   "cell_type": "markdown",
   "metadata": {},
   "source": [
    "check if the string ends with 'world':"
   ]
  },
  {
   "cell_type": "code",
   "execution_count": 46,
   "metadata": {},
   "outputs": [
    {
     "name": "stdout",
     "output_type": "stream",
     "text": [
      "yes\n",
      "['world']\n"
     ]
    }
   ],
   "source": [
    "x = re.findall(\"world$\",string3)\n",
    "if (x):\n",
    "    print(\"yes\")\n",
    "    print(x)\n",
    "else:\n",
    "    print(\"no match\")"
   ]
  },
  {
   "cell_type": "markdown",
   "metadata": {},
   "source": [
    "Check if the string contains \"ai\" followed by 0 or more \"x\" characters:"
   ]
  },
  {
   "cell_type": "code",
   "execution_count": 56,
   "metadata": {},
   "outputs": [
    {
     "name": "stdout",
     "output_type": "stream",
     "text": [
      "['ai', 'ai', 'ai', 'ai']\n",
      "yes, there is atleast one match\n"
     ]
    }
   ],
   "source": [
    "string4 = \"The rain in Spain falls mainly in plain\"\n",
    "x = re.findall(\"aix*\",string4)\n",
    "print(x)\n",
    "if (x):\n",
    "    print(\"yes, there is atleast one match\")\n",
    "else:\n",
    "    print(\"there is no match\")\n",
    "    "
   ]
  },
  {
   "cell_type": "markdown",
   "metadata": {},
   "source": [
    "Check if the string contains \"ai\" followed by 1 or more \"x\" characters:"
   ]
  },
  {
   "cell_type": "code",
   "execution_count": 57,
   "metadata": {},
   "outputs": [
    {
     "name": "stdout",
     "output_type": "stream",
     "text": [
      "[]\n",
      "there is no match\n"
     ]
    }
   ],
   "source": [
    "x = re.findall(\"aix+\",string4)\n",
    "print(x)\n",
    "if (x):\n",
    "    print(\"Yes, there is atleast one match\")\n",
    "else:\n",
    "    print(\"there is no match\")"
   ]
  },
  {
   "cell_type": "markdown",
   "metadata": {},
   "source": [
    "Check if the string contains \"a\" followed by exactly two \"l\" characters:"
   ]
  },
  {
   "cell_type": "code",
   "execution_count": 58,
   "metadata": {},
   "outputs": [
    {
     "name": "stdout",
     "output_type": "stream",
     "text": [
      "['all']\n",
      "Yes there is atleast one match\n"
     ]
    }
   ],
   "source": [
    "str4 = \"The rain in Spain falls mainly in the plain!\"\n",
    "x = re.findall(\"al{2}\",str4)\n",
    "print(x)\n",
    "if (x):\n",
    "    print(\"Yes there is atleast one match\")\n",
    "else:\n",
    "    print(\"There is no match\")"
   ]
  },
  {
   "cell_type": "markdown",
   "metadata": {},
   "source": [
    "Check if the string contains either \"falls\" or \"stays\":"
   ]
  },
  {
   "cell_type": "code",
   "execution_count": 59,
   "metadata": {},
   "outputs": [
    {
     "name": "stdout",
     "output_type": "stream",
     "text": [
      "['falls']\n",
      "Yes there is atleast one match\n"
     ]
    }
   ],
   "source": [
    "x = re.findall(\"falls|stays\",string4)\n",
    "print(x)\n",
    "if (x):\n",
    "    print(\"Yes there is atleast one match\")\n",
    "else:\n",
    "    print(\"There is no match\")"
   ]
  },
  {
   "cell_type": "markdown",
   "metadata": {},
   "source": [
    "<h3> Special Sequences </h3>"
   ]
  },
  {
   "cell_type": "markdown",
   "metadata": {},
   "source": [
    "1. \\A\tReturns a match if the specified characters are at the beginning of the string\t\"\\AThe\" <br>\n",
    "2. \\b\tReturns a match where the specified characters are at the beginning or at the end of a word\tr\"\\bain\" r\"ain\\b\" <br>\n",
    "3. \\B\tReturns a match where the specified characters are present, but NOT at the beginning (or at the end) of a word r\"\\Bain\"    r\"ain\\B\" <br>\n",
    "4. \\d\tReturns a match where the string contains digits (numbers from 0-9)\t\"\\d\" <br>\n",
    "5. \\D\tReturns a match where the string DOES NOT contain digits\t\"\\D\" <br>\n",
    "6. \\s\tReturns a match where the string contains a white space character\t\"\\s\" <br>\n",
    "7. \\S\tReturns a match where the string DOES NOT contain a white space character\t\"\\S\" <br>\n",
    "8. \\w\tReturns a match where the string contains any word characters (characters from a to Z, digits from 0-9, and the underscore _ character)\t\"\\w\"\t<br>\n",
    "9. \\W\tReturns a match where the string DOES NOT contain any word characters\t\"\\W\"\t<br>\n",
    "10. \\Z\tReturns a match if the specified characters are at the end of the string\t\"Spain\\Z\"\t<br>\n"
   ]
  },
  {
   "cell_type": "markdown",
   "metadata": {},
   "source": [
    "\n",
    "Check if the string starts with \"The\":"
   ]
  },
  {
   "cell_type": "code",
   "execution_count": 62,
   "metadata": {},
   "outputs": [
    {
     "name": "stdout",
     "output_type": "stream",
     "text": [
      "Yes\n",
      "['The']\n"
     ]
    }
   ],
   "source": [
    "str1 = \"The rain in spain\"\n",
    "x = re.findall(\"\\AThe\",str1)\n",
    "if (x):\n",
    "    print(\"Yes\")\n",
    "else:\n",
    "    print(\"no\")\n",
    "print(x)"
   ]
  },
  {
   "cell_type": "markdown",
   "metadata": {},
   "source": [
    "<a> Check if \"ain\" is present at the beginning of a WORD:</a>"
   ]
  },
  {
   "cell_type": "code",
   "execution_count": 65,
   "metadata": {},
   "outputs": [
    {
     "name": "stdout",
     "output_type": "stream",
     "text": [
      "[]\n",
      "No\n"
     ]
    }
   ],
   "source": [
    "x = re.findall(r\"\\bain\",str1)\n",
    "print(x)\n",
    "if (x):\n",
    "    print(\"Yes\")\n",
    "else:\n",
    "    print(\"No\")"
   ]
  },
  {
   "cell_type": "markdown",
   "metadata": {},
   "source": [
    "Check if \"ain\" is present at the end of a WORD:"
   ]
  },
  {
   "cell_type": "code",
   "execution_count": 66,
   "metadata": {},
   "outputs": [
    {
     "name": "stdout",
     "output_type": "stream",
     "text": [
      "['ain', 'ain']\n",
      "Yes\n"
     ]
    }
   ],
   "source": [
    "x = re.findall(r\"ain\\b\",str1)\n",
    "print(x)\n",
    "if (x):\n",
    "    print(\"Yes\")\n",
    "else:\n",
    "    print(\"No\")"
   ]
  },
  {
   "cell_type": "markdown",
   "metadata": {},
   "source": [
    "Check if \"ain\" is present, but NOT at the beginning of a word:"
   ]
  },
  {
   "cell_type": "code",
   "execution_count": 68,
   "metadata": {},
   "outputs": [
    {
     "name": "stdout",
     "output_type": "stream",
     "text": [
      "['ain', 'ain']\n",
      "Yes\n"
     ]
    }
   ],
   "source": [
    "x = re.findall(r\"\\Bain\",str1)\n",
    "print(x)\n",
    "if (x):\n",
    "    print(\"Yes\")\n",
    "else:\n",
    "    print(\"No\")"
   ]
  },
  {
   "cell_type": "markdown",
   "metadata": {},
   "source": [
    "Check if \"ain\" is present, but NOT at the end of a word:"
   ]
  },
  {
   "cell_type": "code",
   "execution_count": 69,
   "metadata": {},
   "outputs": [
    {
     "name": "stdout",
     "output_type": "stream",
     "text": [
      "[]\n",
      "no\n"
     ]
    }
   ],
   "source": [
    "x = re.findall(r\"ain\\B\",str1)\n",
    "print(x)\n",
    "if (x):\n",
    "    print(\"Yes\")\n",
    "else:\n",
    "    print(\"no\")"
   ]
  },
  {
   "cell_type": "markdown",
   "metadata": {},
   "source": [
    "Check if the string contains any digits (numbers from 0-9):"
   ]
  },
  {
   "cell_type": "code",
   "execution_count": 77,
   "metadata": {},
   "outputs": [
    {
     "name": "stdout",
     "output_type": "stream",
     "text": [
      "['5', '9']\n",
      "Yes\n"
     ]
    }
   ],
   "source": [
    "str2 = \"That will be 59 Dollers\"\n",
    "x = re.findall(\"\\d\",str2)\n",
    "print(x)\n",
    "if (x):\n",
    "    print(\"Yes\")\n",
    "else:\n",
    "    print(\"No\")"
   ]
  },
  {
   "cell_type": "markdown",
   "metadata": {},
   "source": [
    "Return a match at every no-digit character:"
   ]
  },
  {
   "cell_type": "code",
   "execution_count": 76,
   "metadata": {},
   "outputs": [
    {
     "name": "stdout",
     "output_type": "stream",
     "text": [
      "['T', 'h', 'e', ' ', 'r', 'a', 'i', 'n', ' ', 'i', 'n', ' ', 's', 'p', 'a', 'i', 'n']\n",
      "Yes\n"
     ]
    }
   ],
   "source": [
    "x = re.findall(\"\\D\",str1)\n",
    "print(x)\n",
    "if (x):\n",
    "    print(\"Yes\")\n",
    "else:\n",
    "    print(\"No\")"
   ]
  },
  {
   "cell_type": "markdown",
   "metadata": {},
   "source": [
    "Return a match at every white-space character:"
   ]
  },
  {
   "cell_type": "code",
   "execution_count": 78,
   "metadata": {},
   "outputs": [
    {
     "name": "stdout",
     "output_type": "stream",
     "text": [
      "[' ', ' ', ' ']\n",
      "yes\n"
     ]
    }
   ],
   "source": [
    "x = re.findall(\"\\s\",str1)\n",
    "print(x)\n",
    "if (x):\n",
    "    print(\"yes\")\n",
    "else:\n",
    "    print(\"No\")"
   ]
  },
  {
   "cell_type": "markdown",
   "metadata": {},
   "source": [
    "Return a match at every NON white-space character:"
   ]
  },
  {
   "cell_type": "code",
   "execution_count": 80,
   "metadata": {},
   "outputs": [
    {
     "name": "stdout",
     "output_type": "stream",
     "text": [
      "['T', 'h', 'e', 'r', 'a', 'i', 'n', 'i', 'n', 's', 'p', 'a', 'i', 'n']\n",
      "Yes\n"
     ]
    }
   ],
   "source": [
    "x = re.findall(\"\\S\",str1)\n",
    "print(x)\n",
    "if (x):\n",
    "    print(\"Yes\")\n",
    "else:\n",
    "    print(\"No\")"
   ]
  },
  {
   "cell_type": "markdown",
   "metadata": {},
   "source": [
    "Return a match at every word character (characters from a to Z, digits from 0-9, and the underscore _ character):"
   ]
  },
  {
   "cell_type": "code",
   "execution_count": 82,
   "metadata": {},
   "outputs": [
    {
     "name": "stdout",
     "output_type": "stream",
     "text": [
      "['T', 'h', 'e', 'r', 'a', 'i', 'n', 'i', 'n', 's', 'p', 'a', 'i', 'n']\n",
      "Yes\n"
     ]
    }
   ],
   "source": [
    "x = re.findall(\"\\w\",str1)\n",
    "print(x)\n",
    "if (x):\n",
    "    print(\"Yes\")\n",
    "else:\n",
    "    print(\"No\")"
   ]
  },
  {
   "cell_type": "markdown",
   "metadata": {},
   "source": [
    "Return a match at every NON word character (characters NOT between a and Z. Like \"!\", \"?\" white-space etc.):"
   ]
  },
  {
   "cell_type": "code",
   "execution_count": 83,
   "metadata": {},
   "outputs": [
    {
     "name": "stdout",
     "output_type": "stream",
     "text": [
      "[' ', ' ', ' ']\n",
      "Yes\n"
     ]
    }
   ],
   "source": [
    "x = re.findall(\"\\W\",str1)\n",
    "print(x)\n",
    "if (x):\n",
    "    print(\"Yes\")\n",
    "else:\n",
    "    print(\"No\")"
   ]
  },
  {
   "cell_type": "markdown",
   "metadata": {},
   "source": [
    "Check if the string ends with \"Spain\":"
   ]
  },
  {
   "cell_type": "code",
   "execution_count": 86,
   "metadata": {},
   "outputs": [
    {
     "name": "stdout",
     "output_type": "stream",
     "text": [
      "['spain']\n",
      "The rain in spain\n",
      "Yes\n"
     ]
    }
   ],
   "source": [
    "x = re.findall(\"spain\\Z\",str1)\n",
    "print(x)\n",
    "print(str1)\n",
    "if (x):\n",
    "    print(\"Yes\")\n",
    "else:\n",
    "    print(\"No\")"
   ]
  },
  {
   "cell_type": "markdown",
   "metadata": {},
   "source": [
    "<h3> SETS </h3>"
   ]
  },
  {
   "cell_type": "markdown",
   "metadata": {},
   "source": [
    "1. [arn]\tReturns a match where one of the specified characters (a, r, or n) are present <br>\t\n",
    "2. [a-n]\tReturns a match for any lower case character, alphabetically between a and n <br>\t\n",
    "3. [^arn]\tReturns a match for any character EXCEPT a, r, and n <br>\t\n",
    "4. [0123]\tReturns a match where any of the specified digits (0, 1, 2, or 3) are present <br>\t\n",
    "5. [0-9]\tReturns a match for any digit between 0 and 9 <br>\t\n",
    "6. [0-5][0-9]\tReturns a match for any two-digit numbers from 00 and 59 <br>\t\n",
    "7. [a-zA-Z]\tReturns a match for any character alphabetically between a and z, lower case OR upper case <br>\t\n",
    "8. [+]\tIn sets, +, *, ., |, (), $,{} has no special meaning, so [+] means: return a match for any + character in the string \t\n"
   ]
  },
  {
   "cell_type": "markdown",
   "metadata": {},
   "source": [
    "Check if the string has any a, r, or n characters:"
   ]
  },
  {
   "cell_type": "code",
   "execution_count": 90,
   "metadata": {},
   "outputs": [
    {
     "name": "stdout",
     "output_type": "stream",
     "text": [
      "Yes\n",
      "['r', 'a', 'n', 'n', 'a', 'n']\n"
     ]
    }
   ],
   "source": [
    "if(re.findall(\"[arn]\",str1)):\n",
    "    print(\"Yes\")\n",
    "    print(re.findall(\"[arn]\",str1))\n",
    "else:\n",
    "    print(\"No\")\n",
    "    print(re.findall(\"[arn]\",str1))"
   ]
  },
  {
   "cell_type": "markdown",
   "metadata": {},
   "source": [
    "Check if the string has any characters between a and n:"
   ]
  },
  {
   "cell_type": "code",
   "execution_count": 91,
   "metadata": {},
   "outputs": [
    {
     "name": "stdout",
     "output_type": "stream",
     "text": [
      "['h', 'e', 'a', 'i', 'n', 'i', 'n', 'a', 'i', 'n']\n",
      "Yes\n"
     ]
    }
   ],
   "source": [
    "x = re.findall(\"[a-n]\",str1)\n",
    "print(x)\n",
    "if(x):\n",
    "    print(\"Yes\")\n",
    "else:\n",
    "    print(\"No\")"
   ]
  },
  {
   "cell_type": "markdown",
   "metadata": {},
   "source": [
    "Check if the string has other characters than a, r, or n:"
   ]
  },
  {
   "cell_type": "code",
   "execution_count": 92,
   "metadata": {},
   "outputs": [
    {
     "name": "stdout",
     "output_type": "stream",
     "text": [
      "['T', 'h', 'e', ' ', 'i', ' ', 'i', ' ', 's', 'p', 'i']\n",
      "Yes\n"
     ]
    }
   ],
   "source": [
    "x = re.findall(\"[^arn]\",str1)\n",
    "print(x)\n",
    "if(x):\n",
    "    print(\"Yes\")\n",
    "else:\n",
    "    print(\"No\")"
   ]
  },
  {
   "cell_type": "markdown",
   "metadata": {},
   "source": [
    "Check if the string has any 0, 1, 2, or 3 digits:"
   ]
  },
  {
   "cell_type": "code",
   "execution_count": 94,
   "metadata": {},
   "outputs": [
    {
     "name": "stdout",
     "output_type": "stream",
     "text": [
      "[]\n",
      "No\n"
     ]
    }
   ],
   "source": [
    "x = re.findall(\"[0123]\",str1)\n",
    "print(x)\n",
    "if(x):\n",
    "    print(\"Yes\")\n",
    "else:\n",
    "    print(\"No\")"
   ]
  },
  {
   "cell_type": "markdown",
   "metadata": {},
   "source": [
    "Check if the string has any digits:"
   ]
  },
  {
   "cell_type": "code",
   "execution_count": 95,
   "metadata": {},
   "outputs": [
    {
     "name": "stdout",
     "output_type": "stream",
     "text": [
      "['8', '1', '1', '4', '5']\n",
      "Yes\n"
     ]
    }
   ],
   "source": [
    "str3 = \"8 Times before 11.45 AM\"\n",
    "x = re.findall(\"[0-9]\",str3)\n",
    "print(x)\n",
    "if(x):\n",
    "    print(\"Yes\")\n",
    "else:\n",
    "    print(\"No\")"
   ]
  },
  {
   "cell_type": "markdown",
   "metadata": {},
   "source": [
    "Check if the string has any two-digit numbers, from 00 to 59:"
   ]
  },
  {
   "cell_type": "code",
   "execution_count": 96,
   "metadata": {},
   "outputs": [
    {
     "name": "stdout",
     "output_type": "stream",
     "text": [
      "['11', '45']\n",
      "Yes\n"
     ]
    }
   ],
   "source": [
    "x = re.findall(\"[0-5][0-9]\",str3)\n",
    "print(x)\n",
    "if(x):\n",
    "    print(\"Yes\")\n",
    "else:\n",
    "    print(\"No\")\n",
    "    "
   ]
  },
  {
   "cell_type": "markdown",
   "metadata": {},
   "source": [
    "Check if the string has any characters from a to z lower case, and A to Z upper case:"
   ]
  },
  {
   "cell_type": "code",
   "execution_count": 97,
   "metadata": {},
   "outputs": [
    {
     "name": "stdout",
     "output_type": "stream",
     "text": [
      "['T', 'i', 'm', 'e', 's', 'b', 'e', 'f', 'o', 'r', 'e', 'A', 'M']\n",
      "Yes\n"
     ]
    }
   ],
   "source": [
    "x = re.findall(\"[a-zA-Z]\",str3)\n",
    "print(x)\n",
    "if(x):\n",
    "    print(\"Yes\")\n",
    "else:\n",
    "    print(\"No\")"
   ]
  },
  {
   "cell_type": "markdown",
   "metadata": {},
   "source": [
    "Check if the string has any + characters:"
   ]
  },
  {
   "cell_type": "code",
   "execution_count": 98,
   "metadata": {},
   "outputs": [
    {
     "name": "stdout",
     "output_type": "stream",
     "text": [
      "[]\n",
      "No\n"
     ]
    }
   ],
   "source": [
    "x =re.findall(\"[+]\",str3)\n",
    "print(x)\n",
    "if(x):\n",
    "    print(\"Yes\")\n",
    "else:\n",
    "    print(\"No\")"
   ]
  },
  {
   "cell_type": "code",
   "execution_count": null,
   "metadata": {},
   "outputs": [],
   "source": []
  }
 ],
 "metadata": {
  "kernelspec": {
   "display_name": "Python 3",
   "language": "python",
   "name": "python3"
  },
  "language_info": {
   "codemirror_mode": {
    "name": "ipython",
    "version": 3
   },
   "file_extension": ".py",
   "mimetype": "text/x-python",
   "name": "python",
   "nbconvert_exporter": "python",
   "pygments_lexer": "ipython3",
   "version": "3.7.3"
  }
 },
 "nbformat": 4,
 "nbformat_minor": 2
}
