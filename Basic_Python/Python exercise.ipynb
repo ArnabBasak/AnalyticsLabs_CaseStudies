{
 "cells": [
  {
   "cell_type": "markdown",
   "metadata": {},
   "source": [
    "<b>Exercise 1</b> <br>\n",
    "Create a program that asks the user to enter their name and their age. Print out a message addressed to them that tells them the year that they will turn 100 years old.\n",
    "\n",
    "Extras:\n",
    "\n",
    "1.Add on to the previous program by asking the user for another number and printing out that many copies of the previous message. (Hint: order of operations exists in Python)<br>\n",
    "2.Print out that many copies of the previous message on separate lines. (Hint: the string \"\\n is the same as pressing the ENTER button)"
   ]
  },
  {
   "cell_type": "code",
   "execution_count": null,
   "metadata": {},
   "outputs": [],
   "source": [
    "#importing date time module to use the date as well as time\n",
    "import datetime\n",
    "\n",
    "#fetching the user name input in this case its the name from the user\n",
    "try:\n",
    "    name = input('Give me your name')\n",
    "except:\n",
    "    print('Please enter texts for name feild')\n",
    "\n",
    "#comparing the current time using the date time module so that we can wish the user accordingly \n",
    "if datetime.datetime.now().hour < 12:\n",
    "    print('Good morning',name)\n",
    "elif datetime.datetime.now().hour > 12 and datetime.datetime.now().hour < 18:\n",
    "    print('Good Afternoon',name)\n",
    "else:\n",
    "    print('Good Evening',name)\n",
    "\n",
    "#getting the age from the user:\n",
    "try:\n",
    "    age = int(input('please provide your age'))\n",
    "except:\n",
    "    print('please enter integer values for age')\n",
    "#calculating the birth year using the date time module\n",
    "birth_year = datetime.date.today().year - age \n",
    "print(name,'your birth year was',birth_year)\n",
    "\n",
    "#find the birth centanry for the user \n",
    "print(name,'you will be complete your birth centary in the year',birth_year+100)\n",
    "\n",
    "def printMessage():\n",
    "    print('user defined message')\n",
    "\n",
    "#1. Getting user input for printing the message\n",
    "try:\n",
    "    randomNumber = int(input('enter any number'))\n",
    "except:\n",
    "    print('Please enter integer value for random number')\n",
    "print('Message got printed',randomNumber,'times')\n",
    "counter = 0\n",
    "while counter < randomNumber:\n",
    "    printMessage()\n",
    "    counter+=1\n"
   ]
  },
  {
   "cell_type": "markdown",
   "metadata": {},
   "source": [
    "<b>Exercise 2</b><br>\n",
    "Ask the user for a number. Depending on whether the number is even or odd, print out an appropriate message to the user. Hint: how does an even / odd number react differently when divided by 2?\n",
    "\n",
    "Extras:\n",
    "\n",
    "1. If the number is a multiple of 4, print out a different message.<br>\n",
    "2. Ask the user for two numbers: one number to check (call it num) and one number to divide by (check). If check divides evenly into num, tell that to the user. If not, print a different appropriate message."
   ]
  },
  {
   "cell_type": "code",
   "execution_count": 7,
   "metadata": {},
   "outputs": [
    {
     "name": "stdout",
     "output_type": "stream",
     "text": [
      "enter any number4\n",
      "4 Is a even number\n",
      "4 Is also divisble by 4\n",
      "enter number to check2\n",
      "enter the number to divide4\n",
      "2 is not completly divisible by 4\n"
     ]
    }
   ],
   "source": [
    "#taking a number in as user input \n",
    "num_choice = int(input('enter any number'))\n",
    "\n",
    "#checking for even odd status\n",
    "if num_choice % 2 == 0:\n",
    "    print(num_choice,'Is a even number')\n",
    "else:\n",
    "    print(num_choice,'Is a odd number')\n",
    "\n",
    "#1. checking if the number is divisible by 4    \n",
    "if num_choice % 4 == 0:\n",
    "    print(num_choice,'Is also divisble by 4')\n",
    "\n",
    "#2. check for the user input values \n",
    "num = int(input('enter number to check'))\n",
    "check = int(input('enter the number to divide'))\n",
    "if num % check == 0:\n",
    "    print(num,'is completly divisible by',check)\n",
    "else:\n",
    "    print(num,'is not completly divisible by',check)"
   ]
  },
  {
   "cell_type": "markdown",
   "metadata": {},
   "source": [
    "<b>Exercise 3</b><br>\n",
    "Take a list, say for example this one:\n",
    "\n",
    "  a = [1, 1, 2, 3, 5, 8, 13, 21, 34, 55, 89]\n",
    "and write a program that prints out all the elements of the list that are less than 5.\n",
    "\n",
    "Extras:\n",
    "\n",
    "1. Instead of printing the elements one by one, make a new list that has all the elements less than 5 from this list in it and print out this new list.\n",
    "2. Write this in one line of Python.\n",
    "3. Ask the user for a number and return a list that contains only elements from the original list a that are smaller than that number given by the user."
   ]
  },
  {
   "cell_type": "code",
   "execution_count": 23,
   "metadata": {},
   "outputs": [
    {
     "name": "stdout",
     "output_type": "stream",
     "text": [
      "List is:  [1, 1, 2, 3, 5, 8, 13, 21, 34, 55, 89]\n",
      "==================\n",
      "elements in list which is less than 5: \n",
      "1\n",
      "1\n",
      "2\n",
      "3\n",
      "==================\n",
      "elements in list which is less than 5:  [1, 1, 2, 3]\n",
      "enter a number124\n",
      "==================\n",
      "The new list is contains elements which is smaller than 124 are [1, 1, 2, 3, 5, 8, 13, 21, 34, 55, 89]\n"
     ]
    }
   ],
   "source": [
    "#declaring the list\n",
    "a = [1, 1, 2, 3, 5, 8, 13, 21, 34, 55, 89]\n",
    "print('List is: ',a)\n",
    "print('==================')\n",
    "print('elements in list which is less than 5: ')\n",
    "#printing the elements in the list which are less than 5\n",
    "for elements in a:\n",
    "    if elements < 5:\n",
    "        print(elements)\n",
    "\n",
    "#printing the elements in the list which are less than 5 in single line\n",
    "print('==================')\n",
    "print('elements in list which is less than 5: ',[elements_in_list_a for elements_in_list_a in a if elements_in_list_a < 5])\n",
    "\n",
    "user_number = int(input('enter a number'))\n",
    "new_list = []\n",
    "for element_new_list in a:\n",
    "    if element_new_list < user_number:\n",
    "        new_list.append(element_new_list)\n",
    "print('==================')\n",
    "print('The new list is contains elements which is smaller than',user_number,'are',new_list)"
   ]
  },
  {
   "cell_type": "markdown",
   "metadata": {},
   "source": [
    "<b>Exercise 4</b> <br>\n",
    "Create a program that asks the user for a number and then prints out a list of all the divisors of that number. (If you don’t know what a divisor is, it is a number that divides evenly into another number. For example, 13 is a divisor of 26 because 26 / 13 has no remainder.)"
   ]
  },
  {
   "cell_type": "code",
   "execution_count": 31,
   "metadata": {},
   "outputs": [
    {
     "name": "stdout",
     "output_type": "stream",
     "text": [
      "enter a number4784\n",
      "The divisor for 4784 are [1, 2, 4, 8, 13, 16, 23, 26, 46, 52, 92, 104, 184, 208, 299, 368, 598, 1196, 2392, 4784]\n"
     ]
    }
   ],
   "source": [
    "#getting a input from the user for a number\n",
    "\n",
    "num = int(input('enter a number'))\n",
    "\n",
    "#generating a list of numbers which we will divide from\n",
    "listrange = range(1,num+1)\n",
    "\n",
    "#empty list to catch the variables\n",
    "divisorlist = []\n",
    "\n",
    "#calulating the divisor\n",
    "for elements in listrange:\n",
    "    if num % elements == 0:\n",
    "        divisorlist.append(elements)\n",
    "        \n",
    "print('The divisor for',num,'are',divisorlist)"
   ]
  },
  {
   "cell_type": "markdown",
   "metadata": {},
   "source": [
    "<b>Exercise 5 </b><br>\n",
    "Take two lists, say for example these two:\n",
    "\n",
    "  a = [1, 1, 2, 3, 5, 8, 13, 21, 34, 55, 89]\n",
    "  b = [1, 2, 3, 4, 5, 6, 7, 8, 9, 10, 11, 12, 13]\n",
    "and write a program that returns a list that contains only the elements that are common between the lists (without duplicates). Make sure your program works on two lists of different sizes.\n",
    "\n",
    "Extras:<br>\n",
    "\n",
    "1.Randomly generate two lists to test this <br>\n",
    "2.Write this in one line of Python (don’t worry if you can’t figure this out at this point - we’ll get to it soon)"
   ]
  },
  {
   "cell_type": "code",
   "execution_count": 44,
   "metadata": {},
   "outputs": [
    {
     "name": "stdout",
     "output_type": "stream",
     "text": [
      "modified list of numbers without the duplicate is [1, 2, 3, 4, 5, 6, 7, 8, 9, 10, 11, 12, 13, 21, 89, 34, 55]\n"
     ]
    }
   ],
   "source": [
    "#declaring the fixed list \n",
    "a_list = [1, 1, 2, 3, 5, 8, 13, 21, 34, 55, 89]\n",
    "b_list = [1, 2, 3, 4, 5, 6, 7, 8, 9, 10, 11, 12, 13]\n",
    "\n",
    "#converting the list to set since set is the data type which doesn't allow any duplicates\n",
    "a_set = set(a_list)\n",
    "b_set = set(b_list)\n",
    "\n",
    "#generating the output without the duplicates\n",
    "output_set = a_set.union(b_set)\n",
    "print(\"modified list of numbers without the duplicate is\",list(output_set))\n",
    "\n",
    "#creating the list through range\n",
    "#listrange_a = list((1,100))\n",
    "#listrange_b = list(range)\n",
    "\n",
    "#CHECK THE OUTPUT FROM THE WEBSITE "
   ]
  },
  {
   "cell_type": "markdown",
   "metadata": {},
   "source": [
    "<b>Exercise 6</b><br>\n",
    "Ask the user for a string and print out whether this string is a palindrome or not. (A palindrome is a string that reads the same forwards and backwards.)"
   ]
  },
  {
   "cell_type": "code",
   "execution_count": 56,
   "metadata": {},
   "outputs": [
    {
     "name": "stdout",
     "output_type": "stream",
     "text": [
      "enter a word159\n",
      "159 is not palindrome\n"
     ]
    }
   ],
   "source": [
    "#getting a word from the user as string\n",
    "wrd = input('enter a word')\n",
    "\n",
    "#reversing the text\n",
    "rev = wrd[::-1]\n",
    "\n",
    "#comparing the original and str\n",
    "if wrd == rev:\n",
    "    print(wrd,\"is palindrome\")\n",
    "else:\n",
    "    print(wrd,'is not palindrome')"
   ]
  },
  {
   "cell_type": "markdown",
   "metadata": {},
   "source": [
    "<b>Exercise 7</b> <br>\n",
    "Let’s say I give you a list saved in a variable: a = [1, 4, 9, 16, 25, 36, 49, 64, 81, 100]. Write one line of Python that takes this list a and makes a new list that has only the even elements of this list in it."
   ]
  },
  {
   "cell_type": "code",
   "execution_count": 58,
   "metadata": {},
   "outputs": [
    {
     "name": "stdout",
     "output_type": "stream",
     "text": [
      "Printing the elements which is even in the list [4, 16, 36, 64, 100]\n"
     ]
    }
   ],
   "source": [
    "a = [1, 4, 9, 16, 25, 36, 49, 64, 81, 100]\n",
    "print('Printing the elements which is even in the list',[element for element in a if element % 2 == 0])"
   ]
  },
  {
   "cell_type": "markdown",
   "metadata": {},
   "source": [
    "<b>Exercise 8 </b><br>\n",
    "Make a two-player Rock-Paper-Scissors game. (Hint: Ask for player plays (using input), compare them, print out a message of congratulations to the winner, and ask if the players want to start a new game)\n",
    "\n",
    "Remember the rules: <br>\n",
    "\n",
    "1.Rock beats scissors<br>\n",
    "2.Scissors beats paper<br>\n",
    "3.Paper beats rock<br>"
   ]
  },
  {
   "cell_type": "code",
   "execution_count": 78,
   "metadata": {},
   "outputs": [
    {
     "name": "stdout",
     "output_type": "stream",
     "text": [
      "Player 1Arnab\n",
      "Player 2Basak\n",
      "Rock\n",
      "Paper\n",
      "Scissor\n",
      "Arnab enter your choice from above optionRock\n",
      "Basak enter your choice from above optionRock\n",
      "ITS A TIE\n",
      "Press 1 to play again and 0 to quit0\n"
     ]
    }
   ],
   "source": [
    "#2 PLAYER GAME \n",
    "name1 = input('Player 1')\n",
    "name2 = input('Player 2')\n",
    "choice_list = ['Rock','Paper','Scissor']\n",
    "for elements in choice_list:\n",
    "    print(elements)\n",
    "\n",
    "def gamePlay():\n",
    "    user1_choice = input('%s enter your choice from above option'%name1)\n",
    "    user2_choice = input('%s enter your choice from above option'%name2)\n",
    "    if user1_choice not in choice_list:\n",
    "        print(name1,'INVALID OPTION')\n",
    "    if user2_choice not in choice_list:\n",
    "        print(name2,'INVALID OPTION')\n",
    "    token = ''\n",
    "    Playagain = 0\n",
    "    if (user1_choice == 'Rock' and user2_choice == 'Rock') or (user1_choice == 'Paper' and user2_choice == 'Paper') or user1_choice == 'Scissors' and user2_choice == 'Scissors' :\n",
    "        print('ITS A TIE')\n",
    "        Playagain = int(input('Press 1 to play again and 0 to quit'))\n",
    "        if Playagain == 1:\n",
    "            gamePlay()\n",
    "    elif (user1_choice == 'Rock' and user2_choice == 'Scissor') or (user1_choice == 'Scissor' and user2_choice == 'Rock'):\n",
    "        token = 'Rock'\n",
    "        if token == user1_choice:\n",
    "            print(name1,'WON THE GAME')\n",
    "            Playagain = int(input('Press 1 to play again and 0 to quit'))\n",
    "            if Playagain == 1:\n",
    "                gamePlay()\n",
    "        else:\n",
    "            print(name2,'WON THE GAME')\n",
    "            Playagain = int(input('Press 1 to play again and 0 to quit'))\n",
    "            if Playagain == 1:\n",
    "                gamePlay()\n",
    "    elif (user1_choice == 'Rock' and user2_choice == 'Paper') or (user1_choice == 'Paper' and user2_choice == 'Rock'):\n",
    "        token = 'Paper'\n",
    "        if token == user1_choice:\n",
    "            print(name1,'WON THE GAME')\n",
    "            Playagain = int(input('Press 1 to play again and 0 to quit'))\n",
    "            if Playagain == 1:\n",
    "                gamePlay()\n",
    "        else:\n",
    "            print(name2,'WON THE GAME')\n",
    "            Playagain = int(input('Press 1 to play again and 0 to quit'))\n",
    "            if Playagain == 1:\n",
    "                gamePlay()\n",
    "    elif (user1_choice == 'Scissor' and user2_choice == 'Paper') or (user1_choice == 'Paper' and user2_choice == 'Scissor'):\n",
    "        token = 'Scissor'\n",
    "        if token == user1_choice:\n",
    "            print(name1,'WON THE GAME')\n",
    "            Playagain = int(input('Press 1 to play again and 0 to quit'))\n",
    "            if Playagain == 1:\n",
    "                gamePlay()\n",
    "        else:\n",
    "            print(name2,'WON THE GAME')\n",
    "            Playagain = int(input('Press 1 to play again and 0 to quit'))\n",
    "            if Playagain == 1:\n",
    "                gamePlay()\n",
    "    else:\n",
    "        print('Invlid option')\n",
    "        Playagain = int(input('Press 1 to play again and 0 to quit'))\n",
    "        if Playagain == 1:\n",
    "            gamePlay()\n",
    "\n",
    "gamePlay()"
   ]
  },
  {
   "cell_type": "code",
   "execution_count": null,
   "metadata": {},
   "outputs": [],
   "source": [
    "#Single Player\n",
    "\n"
   ]
  }
 ],
 "metadata": {
  "kernelspec": {
   "display_name": "Python 3",
   "language": "python",
   "name": "python3"
  },
  "language_info": {
   "codemirror_mode": {
    "name": "ipython",
    "version": 3
   },
   "file_extension": ".py",
   "mimetype": "text/x-python",
   "name": "python",
   "nbconvert_exporter": "python",
   "pygments_lexer": "ipython3",
   "version": "3.7.3"
  }
 },
 "nbformat": 4,
 "nbformat_minor": 2
}
